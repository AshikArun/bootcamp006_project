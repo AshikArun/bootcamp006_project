{
 "cells": [
  {
   "cell_type": "code",
   "execution_count": 2,
   "metadata": {
    "collapsed": false
   },
   "outputs": [],
   "source": [
    "import pandas as pd\n",
    "basic_info = pd.read_pickle('/Users/hanshuye/Desktop/basic_info.pkl')"
   ]
  },
  {
   "cell_type": "code",
   "execution_count": 4,
   "metadata": {
    "collapsed": false
   },
   "outputs": [],
   "source": [
    "basic_info['rank']=map(int,map(lambda x:x[1:x.find(' ')],basic_info['rank']))"
   ]
  },
  {
   "cell_type": "code",
   "execution_count": 5,
   "metadata": {
    "collapsed": false
   },
   "outputs": [
    {
     "data": {
      "text/plain": [
       "0        1\n",
       "1        2\n",
       "2        3\n",
       "3        4\n",
       "4        5\n",
       "5        6\n",
       "6        7\n",
       "7        8\n",
       "8        9\n",
       "9       10\n",
       "10      11\n",
       "11      12\n",
       "12      13\n",
       "13      14\n",
       "14      15\n",
       "15      16\n",
       "16      17\n",
       "17      18\n",
       "18      19\n",
       "19      20\n",
       "20      21\n",
       "21      22\n",
       "22      23\n",
       "23      24\n",
       "24      25\n",
       "25      26\n",
       "26      27\n",
       "27      28\n",
       "28      29\n",
       "29      30\n",
       "      ... \n",
       "256    257\n",
       "257    258\n",
       "258    259\n",
       "259    260\n",
       "260    261\n",
       "261    262\n",
       "262    263\n",
       "263    264\n",
       "264    265\n",
       "265    266\n",
       "266    267\n",
       "267    268\n",
       "268    269\n",
       "269    270\n",
       "270    271\n",
       "271    272\n",
       "272    273\n",
       "273    274\n",
       "274    275\n",
       "275    276\n",
       "276    277\n",
       "277    278\n",
       "278    279\n",
       "279    280\n",
       "280    281\n",
       "281    282\n",
       "282    283\n",
       "283    284\n",
       "284    285\n",
       "285    286\n",
       "Name: rank, dtype: int64"
      ]
     },
     "execution_count": 5,
     "metadata": {},
     "output_type": "execute_result"
    }
   ],
   "source": [
    "basic_info['rank']"
   ]
  },
  {
   "cell_type": "code",
   "execution_count": 7,
   "metadata": {
    "collapsed": false
   },
   "outputs": [],
   "source": [
    "basic_info['star']=map(lambda x:x[:x.find(' ')],basic_info['star'])"
   ]
  },
  {
   "cell_type": "code",
   "execution_count": 8,
   "metadata": {
    "collapsed": false
   },
   "outputs": [
    {
     "data": {
      "text/plain": [
       "0        5\n",
       "1        5\n",
       "2      4.5\n",
       "3      4.5\n",
       "4      4.5\n",
       "5      4.5\n",
       "6      4.5\n",
       "7      4.5\n",
       "8      4.5\n",
       "9      4.5\n",
       "10     4.5\n",
       "11       5\n",
       "12     4.5\n",
       "13     4.5\n",
       "14       4\n",
       "15     4.5\n",
       "16     4.5\n",
       "17       4\n",
       "18     4.5\n",
       "19     4.5\n",
       "20       4\n",
       "21       4\n",
       "22       4\n",
       "23     4.5\n",
       "24       4\n",
       "25       4\n",
       "26     4.5\n",
       "27     4.5\n",
       "28       4\n",
       "29       4\n",
       "      ... \n",
       "256      3\n",
       "257    3.5\n",
       "258    2.5\n",
       "259      3\n",
       "260    2.5\n",
       "261    3.5\n",
       "262    2.5\n",
       "263    3.5\n",
       "264    2.5\n",
       "265      3\n",
       "266    2.5\n",
       "267    2.5\n",
       "268    2.5\n",
       "269    3.5\n",
       "270    2.5\n",
       "271    2.5\n",
       "272    2.5\n",
       "273    2.5\n",
       "274    2.5\n",
       "275      2\n",
       "276    2.5\n",
       "277    2.5\n",
       "278    2.5\n",
       "279      2\n",
       "280      2\n",
       "281    2.5\n",
       "282    1.5\n",
       "283      2\n",
       "284      2\n",
       "285      1\n",
       "Name: star, dtype: object"
      ]
     },
     "execution_count": 8,
     "metadata": {},
     "output_type": "execute_result"
    }
   ],
   "source": [
    "basic_info['star']"
   ]
  },
  {
   "cell_type": "code",
   "execution_count": 9,
   "metadata": {
    "collapsed": true
   },
   "outputs": [],
   "source": [
    "basic_info.to_pickle('/Users/hanshuye/Desktop/basic_info.pkl')"
   ]
  },
  {
   "cell_type": "code",
   "execution_count": null,
   "metadata": {
    "collapsed": true
   },
   "outputs": [],
   "source": []
  }
 ],
 "metadata": {
  "kernelspec": {
   "display_name": "Python 2",
   "language": "python",
   "name": "python2"
  },
  "language_info": {
   "codemirror_mode": {
    "name": "ipython",
    "version": 2
   },
   "file_extension": ".py",
   "mimetype": "text/x-python",
   "name": "python",
   "nbconvert_exporter": "python",
   "pygments_lexer": "ipython2",
   "version": "2.7.11"
  }
 },
 "nbformat": 4,
 "nbformat_minor": 0
}
