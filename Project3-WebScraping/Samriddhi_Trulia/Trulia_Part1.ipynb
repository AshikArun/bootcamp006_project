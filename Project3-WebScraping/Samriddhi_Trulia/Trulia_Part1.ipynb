{
 "cells": [
  {
   "cell_type": "code",
   "execution_count": 1,
   "metadata": {
    "collapsed": true
   },
   "outputs": [],
   "source": [
    "import requests\n",
    "import codecs\n",
    "from bs4 import BeautifulSoup\n",
    "import re\n",
    "import numpy as np\n",
    "import pandas as pd\n",
    "import ast\n",
    "import urllib2"
   ]
  },
  {
   "cell_type": "code",
   "execution_count": 2,
   "metadata": {
    "collapsed": true
   },
   "outputs": [],
   "source": [
    "def parse_one_page(page_url):\n",
    "    \n",
    "    page = requests.get(page_url).text\n",
    "    text = BeautifulSoup(page, \"html.parser\")\n",
    "    \n",
    "    result_lst = text.find_all('li', { 'class': 'hover propertyCard property-data-elem clickable' })\n",
    "    result = {}\n",
    "\n",
    "    for i, apt in enumerate(result_lst):\n",
    "        keyid = result_lst[i].find('div', {'class': \"man typeTruncate\"}).get_text().encode('utf-8').strip()    \n",
    "        result[keyid] = []\n",
    "        dict_address= {}\n",
    "        dict_Coordinates = {}\n",
    "\n",
    "        for room in apt.find_all('li', {'class': 'pvs mvn pll'}):\n",
    "            try:\n",
    "                room_info = room.div.get('data-floorplan').encode('utf8')\n",
    "                room_info2 = eval(room_info.replace('null', 'None'))\n",
    "                final_room_info = {key: room_info2[key] for key in room_info2 if key in  \n",
    "                         [  'numBedrooms',   'planPriceFrom' ,  'planMinimumSquareFeet' ]}\n",
    "            except AttributeError:\n",
    "                pass\n",
    "            else:\n",
    "                result[keyid].append(final_room_info)    \n",
    "        \n",
    "    return result\n"
   ]
  },
  {
   "cell_type": "code",
   "execution_count": 3,
   "metadata": {
    "collapsed": true
   },
   "outputs": [],
   "source": [
    "# url = \"http://www.trulia.com/for_rent/New_York,NY/1_p\"\n",
    "\n",
    "def Apt_Type(url):\n",
    "    result = parse_one_page(url)\n",
    "    List1 =[]\n",
    "    for apts in result:\n",
    "        dictTable1 = {'T_studioArea':None , 'T_studioPrice':None , \n",
    "                     'T_1bedRoomArea':None , 'T_1bedRoomPrice':None ,\n",
    "                     'T_2bedRoomArea':None ,'T_2bedRoomPrice':None  }\n",
    "        for i,dictList in enumerate(result[apts]):\n",
    "            dictbox = dictList\n",
    "            dictTable1['AptName'] = apts\n",
    "\n",
    "            if dictbox['numBedrooms'] == 0:\n",
    "                dictTable1['T_studioArea'] = dictbox['planMinimumSquareFeet']\n",
    "                dictTable1['T_studioPrice'] = dictbox['planPriceFrom']\n",
    "\n",
    "            if dictbox['numBedrooms'] == 1:\n",
    "                dictTable1['T_1bedRoomArea'] = dictbox['planMinimumSquareFeet']\n",
    "                dictTable1['T_1bedRoomPrice'] = dictbox['planPriceFrom']   \n",
    "\n",
    "            if dictbox['numBedrooms'] == 2:\n",
    "                dictTable1['T_2bedRoomArea'] = dictbox['planMinimumSquareFeet']\n",
    "                dictTable1['T_2bedRoomPrice'] = dictbox['planPriceFrom']\n",
    "        List1.append(dictTable1)\n",
    "    return List1\n",
    "\n",
    "    "
   ]
  },
  {
   "cell_type": "code",
   "execution_count": 4,
   "metadata": {
    "collapsed": true
   },
   "outputs": [],
   "source": [
    "def Apt_Location(page_url):    \n",
    "    page = requests.get(page_url).text\n",
    "    text = BeautifulSoup(page, \"html.parser\")\n",
    "    result_lst = text.find_all('li', { 'class': 'hover propertyCard property-data-elem clickable' })\n",
    "\n",
    "    # result = {}\n",
    "    list2 = []\n",
    "    for i, apt in enumerate(result_lst):        \n",
    "        dictTable2= {}\n",
    "        dictTable2['AptName'] = result_lst[i].find('div', {'class': \"man typeTruncate\"}).get_text().encode('utf-8').strip() \n",
    "        dictTable2['Street'] = apt.find('h2', {'itemprop': \"streetAddress\"}).get_text().encode('utf-8').strip()\n",
    "        dictTable2['City'] = apt.find('span', {'itemprop': \"addressLocality\"}).get_text().encode('utf-8').strip()\n",
    "        dictTable2['State'] = apt.find('span', {'itemprop': \"addressRegion\"}).get_text().encode('utf-8').strip()\n",
    "        dictTable2['Postal'] = apt.find('span', {'itemprop': \"postalCode\"}).get_text().encode('utf-8').strip()\n",
    "\n",
    "        LatitudeTags  = apt.find_all('meta', {'itemprop': 'latitude'})\n",
    "        LongitudeTags  = apt.find_all('meta', {'itemprop': 'longitude'})\n",
    "        dictTable2[\"latitude\"] = [tag.get('content').encode('utf-8') for tag in LatitudeTags][0]\n",
    "        dictTable2[\"longitude\"] = [tag.get('content').encode('utf-8') for tag in LongitudeTags][0]\n",
    "        list2.append(dictTable2)\n",
    "    return list2"
   ]
  },
  {
   "cell_type": "code",
   "execution_count": 5,
   "metadata": {
    "collapsed": true
   },
   "outputs": [],
   "source": [
    "def Apt_AllInfo(url):\n",
    "    list_AptLoc = Apt_Location(url)\n",
    "    list_AptType = Apt_Type(url)\n",
    "    df_AptLoc = pd.DataFrame(list_AptLoc, columns= [\"AptName\", \"City\",\"Postal\",\"State\",\"Street\",\"latitude\",\"longitude\"])\n",
    "    df_AptType= pd.DataFrame(list_AptType, columns= [\"AptName\", \"T_1bedRoomArea\",\"T_1bedRoomPrice\",\"T_2bedRoomArea\",\n",
    "                                                   \"T_2bedRoomPrice\", \"T_studioArea\",\"T_studioPrice\"])\n",
    "    df_AllApt_Info = pd.merge(left=df_AptLoc,right=df_AptType, left_on='AptName', right_on='AptName')\n",
    "    return df_AllApt_Info\n",
    "# AptName\tT_1bedRoomArea\tT_1bedRoomPrice\tT_2bedRoomArea\tT_2bedRoomPrice\tT_studioArea\tT_studioPrice    "
   ]
  },
  {
   "cell_type": "code",
   "execution_count": 6,
   "metadata": {
    "collapsed": true
   },
   "outputs": [],
   "source": [
    "def SchoolCrimeInfo(page_url):\n",
    "    page = requests.get(page_url).text\n",
    "    text = BeautifulSoup(page, \"html.parser\")\n",
    "    result_lst = text.find_all('li', { 'class': 'hover propertyCard property-data-elem clickable' })\n",
    "\n",
    "    list3 = []\n",
    "    for i, apt in enumerate(result_lst):\n",
    "        dictTable2 = {'ElementarySchool_rating':None,'MiddleSchool_rating':None,'HighSchool_rating':None, \"CrimeLevel\": None}\n",
    "        dictTable2['AptName'] = result_lst[i].find('div', {'class': \"man typeTruncate\"}).get_text().encode('utf-8').strip()\n",
    "\n",
    "        anchors = result_lst[i].find('a', {'class': \"primaryLink pdpLink activeLink\"})['href']\n",
    "        site = \"http://www.trulia.com/\" + anchors\n",
    "        response = requests.get(site).text\n",
    "        text = BeautifulSoup(response, \"html.parser\")    \n",
    "        result_lst3 = text.find_all('div', { 'id': 'schoolsAtAGlance' })\n",
    "        for result in result_lst3:        \n",
    "            body1 = result.find_all('div', { 'class': 'boxBody mvs' })[0].get_text().encode('utf-8').strip()      \n",
    "            body1 = filter(bool, map(lambda x: x.strip(), body1.split('\\n')))\n",
    "\n",
    "            for i in range(len(body1)):\n",
    "                if (body1[i] == 'Elementary'):\n",
    "                     dictTable2['ElementarySchool_rating']= body1[i + 1]\n",
    "                if (body1[i] == 'Middle'):\n",
    "                     dictTable2['MiddleSchool_rating']= body1[i + 1]\n",
    "                if (body1[i] == 'High'):\n",
    "                     dictTable2['HighSchool_rating']= body1[i + 1] \n",
    "        result_lst4 = text.find_all('div', { 'data-action': 'showCrimePopup' })    \n",
    "        for result in result_lst4:\n",
    "    #         Crime = {\"CrimeLevel\": None}\n",
    "            body2 = result.find('div', { 'class': 'boxBody media pvs h5' }).get_text().encode('utf-8').strip()\n",
    "            body2 = filter(bool, map(lambda x: x.strip(), body2.split('\\n')))      \n",
    "            dictTable2[\"CrimeLevel\"] = body2[0]\n",
    "    #         list3.append(Crime)\n",
    "\n",
    "        list3.append(dictTable2)\n",
    "    df_School_Crime = pd.DataFrame(list3)\n",
    "    return df_School_Crime\n",
    "\n"
   ]
  },
  {
   "cell_type": "code",
   "execution_count": 10,
   "metadata": {
    "collapsed": false
   },
   "outputs": [
    {
     "name": "stdout",
     "output_type": "stream",
     "text": [
      "http://www.trulia.com/for_rent/New_York,NY/1_p\n",
      "http://www.trulia.com/for_rent/New_York,NY/2_p\n",
      "http://www.trulia.com/for_rent/New_York,NY/3_p\n"
     ]
    }
   ],
   "source": [
    "import time\n",
    "DF_all = pd.DataFrame()\n",
    "for i in range(1,4):\n",
    "    urls = \"http://www.trulia.com/for_rent/New_York,NY/\" + str(i) + \"_p\"\n",
    "    print urls\n",
    "    Df_Temp = Apt_AllInfo(urls)\n",
    "    DF_all = pd.concat([DF_all, Df_Temp])\n",
    "    time.sleep(1)\n",
    "DF_all\n",
    "DF_all.to_excel(\"trulia_1_AptInfo.xls\")\n"
   ]
  },
  {
   "cell_type": "code",
   "execution_count": null,
   "metadata": {
    "collapsed": true
   },
   "outputs": [],
   "source": [
    "\n"
   ]
  },
  {
   "cell_type": "code",
   "execution_count": 11,
   "metadata": {
    "collapsed": false
   },
   "outputs": [],
   "source": [
    "# school Crime Takes lot of time\n",
    "DF_SchoolCrime_All = pd.DataFrame()\n",
    "for i in range(1,4):\n",
    "    urls = \"http://www.trulia.com/for_rent/New_York,NY/\" + str(i) + \"_p\"\n",
    "    Df_Temp = SchoolCrimeInfo(urls)\n",
    "    DF_SchoolCrime_All = pd.concat([DF_SchoolCrime_All, Df_Temp])\n",
    "    time.sleep(1)\n",
    "DF_SchoolCrime_All\n",
    "DF_SchoolCrime_All.to_excel(\"trulia_1_SchoolCrimes.xls\")"
   ]
  },
  {
   "cell_type": "code",
   "execution_count": null,
   "metadata": {
    "collapsed": true
   },
   "outputs": [],
   "source": []
  }
 ],
 "metadata": {
  "kernelspec": {
   "display_name": "Python [Root]",
   "language": "python",
   "name": "Python [Root]"
  },
  "language_info": {
   "codemirror_mode": {
    "name": "ipython",
    "version": 2
   },
   "file_extension": ".py",
   "mimetype": "text/x-python",
   "name": "python",
   "nbconvert_exporter": "python",
   "pygments_lexer": "ipython2",
   "version": "2.7.12"
  }
 },
 "nbformat": 4,
 "nbformat_minor": 0
}
