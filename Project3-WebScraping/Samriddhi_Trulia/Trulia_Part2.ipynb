{
 "cells": [
  {
   "cell_type": "code",
   "execution_count": 1,
   "metadata": {
    "collapsed": true
   },
   "outputs": [],
   "source": [
    "import requests\n",
    "import codecs\n",
    "from bs4 import BeautifulSoup\n",
    "import re\n",
    "import numpy as np\n",
    "import pandas as pd\n",
    "import ast\n",
    "import urllib2\n",
    "import time"
   ]
  },
  {
   "cell_type": "code",
   "execution_count": 14,
   "metadata": {
    "collapsed": true
   },
   "outputs": [],
   "source": [
    "text = requests.get(\"http://www.trulia.com/for_rent/New_York,NY/5_p\").text\n",
    "f = open(\"trulia_part2.txt\", 'w')\n",
    "text = text.encode('utf-8')\n",
    "f.write(text)\n",
    "f.close()"
   ]
  },
  {
   "cell_type": "code",
   "execution_count": 15,
   "metadata": {
    "collapsed": true
   },
   "outputs": [],
   "source": [
    "text = codecs.open(\"trulia_part2.txt\", 'r','utf-8')\n",
    "text = BeautifulSoup(text, \"html.parser\")"
   ]
  },
  {
   "cell_type": "code",
   "execution_count": 153,
   "metadata": {
    "collapsed": false
   },
   "outputs": [],
   "source": [
    "text = codecs.open(\"trulia_part2.txt\", 'r','utf-8')\n",
    "text = BeautifulSoup(text, \"html.parser\")\n",
    "\n",
    "result_lst = text.find_all('li', { 'class': 'hover propertyCard property-data-elem clickable' })\n",
    "\n",
    "list4 = []\n",
    "\n",
    "for i, apt in enumerate(result_lst):\n",
    "    dictTable = {}\n",
    "    \n",
    "    LatitudeTags  = apt.find_all('meta', {'itemprop': 'latitude'})\n",
    "    LongitudeTags  = apt.find_all('meta', {'itemprop': 'longitude'})\n",
    "    dictTable[\"latitude\"] = [tag.get('content').encode('utf-8') for tag in LatitudeTags][0]\n",
    "    dictTable[\"longitude\"] = [tag.get('content').encode('utf-8') for tag in LongitudeTags][0]\n",
    "    \n",
    "    address = result_lst[i].find('div', {'itemprop': \"address\"}).get_text().encode('utf-8').strip()\n",
    "    address = filter(bool, map(lambda x: x.strip(), address.split('\\n')))\n",
    "    dictTable[\"AptName\"] = address[0]\n",
    "    dictTable[\"Street\"] = address[0].split(\"#\")[0]\n",
    "    dictTable[\"City\"] = address[1]\n",
    "    dictTable[\"State\"] = address[2]\n",
    "    dictTable[\"Postal\"] = address[3]\n",
    "    \n",
    "    RentRate = result_lst[i].find('div', {'class': \"col lastCol txtR\"}).get_text().encode('utf-8').strip()\n",
    "    dictTable[\"RentRate\"] = RentRate[1:].replace(\",\", \"\")    \n",
    "    \n",
    "    block  = apt.find('div', {'class': 'line simpleTruncate mtm smallLineHeight'})\n",
    "    roomtype =block.find('div', {'class': 'col cols3'}).get_text().encode('utf-8').strip()\n",
    "    roomtype = filter(bool, map(lambda x: x.strip(), roomtype.split('\\n'))) \n",
    "    for i in range(len(roomtype)):\n",
    "        if re.search('(bd)$', roomtype[i]) != None:\n",
    "            dictTable['NoOfBedroom'] = roomtype[i]\n",
    "        if re.search('(ba)$', roomtype[i]) != None:\n",
    "            dictTable['NoOfBathRoom'] = roomtype[i]    \n",
    "\n",
    "    AreaRentalInfo =block.find('div', {'class': 'cols4'}).text.encode('utf-8').strip()\n",
    "    AreaRentalInfo = filter(bool, map(lambda x: x.strip(), AreaRentalInfo.split('\\n')))\n",
    "    \n",
    "    for i in range(len(AreaRentalInfo)):\n",
    "        if re.search('(sqft)$', AreaRentalInfo[i]) != None:\n",
    "            dictTable['Area'] = AreaRentalInfo[i]\n",
    "        else:\n",
    "            dictTable['RentalType'] = AreaRentalInfo[i]             \n",
    "    \n",
    "    list4.append(dictTable)\n",
    "df_type = pd.DataFrame(list4)\n",
    "# df_type\n",
    "\n"
   ]
  },
  {
   "cell_type": "code",
   "execution_count": null,
   "metadata": {
    "collapsed": false
   },
   "outputs": [],
   "source": []
  },
  {
   "cell_type": "code",
   "execution_count": null,
   "metadata": {
    "collapsed": false
   },
   "outputs": [],
   "source": []
  },
  {
   "cell_type": "code",
   "execution_count": 125,
   "metadata": {
    "collapsed": false
   },
   "outputs": [],
   "source": [
    "result_lst = text.find_all('li', { 'class': 'hover propertyCard property-data-elem clickable' })\n",
    "\n",
    "list4 = []\n",
    "for i, apt in enumerate(result_lst):\n",
    "    dictTable2 = {}\n",
    "    address = result_lst[i].find('div', {'itemprop': \"address\"}).get_text().encode('utf-8').strip()\n",
    "    address = filter(bool, map(lambda x: x.strip(), address.split('\\n')))    \n",
    "    dictTable2['Aptname'] = address[0]   \n",
    "    \n",
    "    block  = apt.find('div', {'class': 'line simpleTruncate mtm smallLineHeight'})\n",
    "    roomtype =block.find('div', {'class': 'col cols3'}).get_text().encode('utf-8').strip()\n",
    "    roomtype = filter(bool, map(lambda x: x.strip(), roomtype.split('\\n'))) \n",
    "    for i in range(len(roomtype)):\n",
    "        if re.search('(bd)$', roomtype[i]) != None:\n",
    "            dictTable2['NoOfBedroom'] = roomtype[i]\n",
    "        if re.search('(ba)$', roomtype[i]) != None:\n",
    "            dictTable2['NoOfBathRoom'] = roomtype[i]    \n",
    "\n",
    "    AreaRentalInfo =block.find('div', {'class': 'cols4'}).text.encode('utf-8').strip()\n",
    "    AreaRentalInfo = filter(bool, map(lambda x: x.strip(), AreaRentalInfo.split('\\n')))\n",
    "    \n",
    "    for i in range(len(AreaRentalInfo)):\n",
    "        if re.search('(sqft)$', AreaRentalInfo[i]) != None:\n",
    "            dictTable2['Area'] = AreaRentalInfo[i]\n",
    "        else:\n",
    "            dictTable2['RentalType'] = AreaRentalInfo[i]             \n",
    "    \n",
    "    list4.append(dictTable2)\n",
    "df_type = pd.DataFrame(list4)\n",
    "# df_type\n",
    "\n",
    "    \n",
    "    \n"
   ]
  },
  {
   "cell_type": "code",
   "execution_count": 144,
   "metadata": {
    "collapsed": false
   },
   "outputs": [],
   "source": [
    "import time\n",
    "text = codecs.open(\"trulia_part2.txt\", 'r','utf-8')\n",
    "text = BeautifulSoup(text, \"html.parser\")\n",
    "\n",
    "result_lst = text.find_all('li', { 'class': 'hover propertyCard property-data-elem clickable' })\n",
    "\n",
    "list2 = []\n",
    "for i, apt in enumerate(result_lst):\n",
    "    dictTable2 = {}\n",
    "    address = result_lst[i].find('div', {'itemprop': \"address\"}).get_text().encode('utf-8').strip()\n",
    "    address = filter(bool, map(lambda x: x.strip(), address.split('\\n')))    \n",
    "    dictTable2['Aptname'] = address[0]      \n",
    "    \n",
    "    anchors = result_lst[i].find('a', {'class': \"primaryLink pdpLink activeLink\"})['href']\n",
    "    site = \"http://www.trulia.com/\" + anchors\n",
    "    response = requests.get(site).text\n",
    "    text = BeautifulSoup(response, \"html.parser\")    \n",
    "    result_lst3 = text.find_all('div', { 'id': 'schoolsAtAGlance' })\n",
    "    for result in result_lst3:\n",
    "        body1 = result.find_all('div', { 'class': 'boxBody mvs' })[0].get_text().encode('utf-8').strip()      \n",
    "        body1 = filter(bool, map(lambda x: x.strip(), body1.split('\\n')))\n",
    "\n",
    "        for i in range(len(body1)):\n",
    "            if (body1[i] == 'Elementary'):\n",
    "                dictTable2['ElementarySchool_rating']= body1[i + 1]\n",
    "            if (body1[i] == 'Middle'):\n",
    "                dictTable2['MiddleSchool_rating']= body1[i + 1]\n",
    "            if (body1[i] == 'High'):\n",
    "                dictTable2['HighSchool_rating']= body1[i + 1] \n",
    "    result_lst4 = text.find_all('div', { 'data-action': 'showCrimePopup' })    \n",
    "    for result in result_lst4:\n",
    "    #         Crime = {\"CrimeLevel\": None}\n",
    "        body2 = result.find('div', { 'class': 'boxBody media pvs h5' }).get_text().encode('utf-8').strip()\n",
    "        body2 = filter(bool, map(lambda x: x.strip(), body2.split('\\n')))      \n",
    "        dictTable2[\"CrimeLevel\"] = body2[0]\n",
    "    #         list3.append(Crime)\n",
    "\n",
    "    list2.append(dictTable2)\n",
    "df_School_Crime = pd.DataFrame(list2)\n",
    "# df_School_Crime\n",
    "\n"
   ]
  },
  {
   "cell_type": "code",
   "execution_count": 45,
   "metadata": {
    "collapsed": true
   },
   "outputs": [],
   "source": [
    "def SchoolCrimeInfo(page_url):\n",
    "    page = requests.get(page_url).text\n",
    "    text = BeautifulSoup(page, \"html.parser\")\n",
    "    \n",
    "    result_lst = text.find_all('li', { 'class': 'hover propertyCard property-data-elem clickable' })\n",
    "\n",
    "    list2 = []\n",
    "    for i, apt in enumerate(result_lst):\n",
    "        dictTable2 = {}\n",
    "        address = result_lst[i].find('div', {'itemprop': \"address\"}).get_text().encode('utf-8').strip()\n",
    "        address = filter(bool, map(lambda x: x.strip(), address.split('\\n')))    \n",
    "        dictTable2['Aptname'] = address[0]      \n",
    "\n",
    "        anchors = result_lst[i].find('a', {'class': \"primaryLink pdpLink activeLink\"})['href']\n",
    "        site = \"http://www.trulia.com/\" + anchors\n",
    "        response = requests.get(site).text\n",
    "        text = BeautifulSoup(response, \"html.parser\")    \n",
    "        result_lst3 = text.find_all('div', { 'id': 'schoolsAtAGlance' })\n",
    "        for result in result_lst3:\n",
    "            body1 = result.find_all('div', { 'class': 'boxBody mvs' })[0].get_text().encode('utf-8').strip()      \n",
    "            body1 = filter(bool, map(lambda x: x.strip(), body1.split('\\n')))\n",
    "\n",
    "            for i in range(len(body1)):\n",
    "                if (body1[i] == 'Elementary'):\n",
    "                    dictTable2['ElementarySchool_rating']= body1[i + 1]\n",
    "                if (body1[i] == 'Middle'):\n",
    "                    dictTable2['MiddleSchool_rating']= body1[i + 1]\n",
    "                if (body1[i] == 'High'):\n",
    "                    dictTable2['HighSchool_rating']= body1[i + 1] \n",
    "        result_lst4 = text.find_all('div', { 'data-action': 'showCrimePopup' })    \n",
    "        for result in result_lst4:\n",
    "        #         Crime = {\"CrimeLevel\": None}\n",
    "            body2 = result.find('div', { 'class': 'boxBody media pvs h5' }).get_text().encode('utf-8').strip()\n",
    "            body2 = filter(bool, map(lambda x: x.strip(), body2.split('\\n')))      \n",
    "            dictTable2[\"CrimeLevel\"] = body2[0]\n",
    "        #         list3.append(Crime)\n",
    "\n",
    "        list2.append(dictTable2)\n",
    "    df_School_Crime = pd.DataFrame(list2)\n",
    "    return df_School_Crime\n",
    "\n"
   ]
  },
  {
   "cell_type": "code",
   "execution_count": null,
   "metadata": {
    "collapsed": true
   },
   "outputs": [],
   "source": [
    "url = \"http://www.trulia.com/for_rent/New_York,NY/5_p\"\n",
    "df_SchoolCrimeInfo = SchoolCrimeInfo(url)\n",
    "# df_SchoolCrimeInfo"
   ]
  },
  {
   "cell_type": "code",
   "execution_count": 46,
   "metadata": {
    "collapsed": false
   },
   "outputs": [],
   "source": [
    "def AptInfo(page_url):\n",
    "    page = requests.get(page_url).text\n",
    "    text = BeautifulSoup(page, \"html.parser\")\n",
    "    \n",
    "    result_lst = text.find_all('li', { 'class': 'hover propertyCard property-data-elem clickable' })\n",
    "    \n",
    "    list4 = []\n",
    "\n",
    "    for i, apt in enumerate(result_lst):\n",
    "        dictTable = {}\n",
    "\n",
    "        LatitudeTags  = apt.find_all('meta', {'itemprop': 'latitude'})\n",
    "        LongitudeTags  = apt.find_all('meta', {'itemprop': 'longitude'})\n",
    "        dictTable[\"latitude\"] = [tag.get('content').encode('utf-8') for tag in LatitudeTags][0]\n",
    "        dictTable[\"longitude\"] = [tag.get('content').encode('utf-8') for tag in LongitudeTags][0]\n",
    "\n",
    "        address = result_lst[i].find('div', {'itemprop': \"address\"}).get_text().encode('utf-8').strip()\n",
    "        address = filter(bool, map(lambda x: x.strip(), address.split('\\n')))\n",
    "        dictTable[\"Aptname\"] = address[0]\n",
    "        dictTable[\"Street\"] = address[0].split(\"#\")[0]\n",
    "        dictTable[\"City\"] = address[1]\n",
    "        dictTable[\"State\"] = address[2]\n",
    "        dictTable[\"Postal\"] = address[3]\n",
    "\n",
    "        RentRate = result_lst[i].find('div', {'class': \"col lastCol txtR\"}).get_text().encode('utf-8').strip()\n",
    "        dictTable[\"RentRate\"] = RentRate[1:].replace(\",\", \"\")    \n",
    "\n",
    "        block  = apt.find('div', {'class': 'line simpleTruncate mtm smallLineHeight'})\n",
    "        roomtype =block.find('div', {'class': 'col cols3'}).get_text().encode('utf-8').strip()\n",
    "        roomtype = filter(bool, map(lambda x: x.strip(), roomtype.split('\\n'))) \n",
    "        for i in range(len(roomtype)):\n",
    "            if re.search('(bd)$', roomtype[i]) != None:\n",
    "                dictTable['NoOfBedroom'] = roomtype[i]\n",
    "            if re.search('(ba)$', roomtype[i]) != None:\n",
    "                dictTable['NoOfBathRoom'] = roomtype[i]    \n",
    "\n",
    "        AreaRentalInfo =block.find('div', {'class': 'cols4'}).text.encode('utf-8').strip()\n",
    "        AreaRentalInfo = filter(bool, map(lambda x: x.strip(), AreaRentalInfo.split('\\n')))\n",
    "\n",
    "        for i in range(len(AreaRentalInfo)):\n",
    "            if re.search('(sqft)$', AreaRentalInfo[i]) != None:\n",
    "                dictTable['Area'] = AreaRentalInfo[i]\n",
    "            else:\n",
    "                dictTable['RentalType'] = AreaRentalInfo[i]             \n",
    "\n",
    "        list4.append(dictTable)\n",
    "    df_type = pd.DataFrame(list4)\n",
    "    return df_type\n",
    "\n"
   ]
  },
  {
   "cell_type": "code",
   "execution_count": 156,
   "metadata": {
    "collapsed": false
   },
   "outputs": [],
   "source": [
    "url = \"http://www.trulia.com/for_rent/New_York,NY/5_p\"\n",
    "df_AptInfo = AptInfo(url)\n",
    "# df_AptInfo"
   ]
  },
  {
   "cell_type": "code",
   "execution_count": 53,
   "metadata": {
    "collapsed": false
   },
   "outputs": [
    {
     "name": "stdout",
     "output_type": "stream",
     "text": [
      "http://www.trulia.com/for_rent/New_York,NY/250_p\n",
      "http://www.trulia.com/for_rent/New_York,NY/251_p\n",
      "http://www.trulia.com/for_rent/New_York,NY/252_p\n",
      "http://www.trulia.com/for_rent/New_York,NY/253_p\n",
      "http://www.trulia.com/for_rent/New_York,NY/254_p\n",
      "http://www.trulia.com/for_rent/New_York,NY/255_p\n",
      "http://www.trulia.com/for_rent/New_York,NY/256_p\n",
      "http://www.trulia.com/for_rent/New_York,NY/257_p\n",
      "http://www.trulia.com/for_rent/New_York,NY/258_p\n",
      "http://www.trulia.com/for_rent/New_York,NY/259_p\n",
      "http://www.trulia.com/for_rent/New_York,NY/260_p\n",
      "http://www.trulia.com/for_rent/New_York,NY/261_p\n",
      "http://www.trulia.com/for_rent/New_York,NY/262_p\n",
      "http://www.trulia.com/for_rent/New_York,NY/263_p\n",
      "http://www.trulia.com/for_rent/New_York,NY/264_p\n",
      "http://www.trulia.com/for_rent/New_York,NY/265_p\n",
      "http://www.trulia.com/for_rent/New_York,NY/266_p\n",
      "http://www.trulia.com/for_rent/New_York,NY/267_p\n",
      "http://www.trulia.com/for_rent/New_York,NY/268_p\n",
      "http://www.trulia.com/for_rent/New_York,NY/269_p\n",
      "http://www.trulia.com/for_rent/New_York,NY/270_p\n",
      "http://www.trulia.com/for_rent/New_York,NY/271_p\n",
      "http://www.trulia.com/for_rent/New_York,NY/272_p\n",
      "http://www.trulia.com/for_rent/New_York,NY/273_p\n",
      "http://www.trulia.com/for_rent/New_York,NY/274_p\n",
      "http://www.trulia.com/for_rent/New_York,NY/275_p\n",
      "http://www.trulia.com/for_rent/New_York,NY/276_p\n",
      "http://www.trulia.com/for_rent/New_York,NY/277_p\n",
      "http://www.trulia.com/for_rent/New_York,NY/278_p\n",
      "http://www.trulia.com/for_rent/New_York,NY/279_p\n",
      "http://www.trulia.com/for_rent/New_York,NY/280_p\n",
      "http://www.trulia.com/for_rent/New_York,NY/281_p\n",
      "http://www.trulia.com/for_rent/New_York,NY/282_p\n",
      "http://www.trulia.com/for_rent/New_York,NY/283_p\n",
      "http://www.trulia.com/for_rent/New_York,NY/284_p\n",
      "http://www.trulia.com/for_rent/New_York,NY/285_p\n",
      "http://www.trulia.com/for_rent/New_York,NY/286_p\n",
      "http://www.trulia.com/for_rent/New_York,NY/287_p\n",
      "http://www.trulia.com/for_rent/New_York,NY/288_p\n",
      "http://www.trulia.com/for_rent/New_York,NY/289_p\n",
      "http://www.trulia.com/for_rent/New_York,NY/290_p\n",
      "http://www.trulia.com/for_rent/New_York,NY/291_p\n",
      "http://www.trulia.com/for_rent/New_York,NY/292_p\n",
      "http://www.trulia.com/for_rent/New_York,NY/293_p\n",
      "http://www.trulia.com/for_rent/New_York,NY/294_p\n",
      "http://www.trulia.com/for_rent/New_York,NY/295_p\n",
      "http://www.trulia.com/for_rent/New_York,NY/296_p\n",
      "http://www.trulia.com/for_rent/New_York,NY/297_p\n",
      "http://www.trulia.com/for_rent/New_York,NY/298_p\n",
      "http://www.trulia.com/for_rent/New_York,NY/299_p\n",
      "http://www.trulia.com/for_rent/New_York,NY/300_p\n",
      "http://www.trulia.com/for_rent/New_York,NY/301_p\n",
      "http://www.trulia.com/for_rent/New_York,NY/302_p\n",
      "http://www.trulia.com/for_rent/New_York,NY/303_p\n",
      "http://www.trulia.com/for_rent/New_York,NY/304_p\n",
      "http://www.trulia.com/for_rent/New_York,NY/305_p\n",
      "http://www.trulia.com/for_rent/New_York,NY/306_p\n",
      "http://www.trulia.com/for_rent/New_York,NY/307_p\n",
      "http://www.trulia.com/for_rent/New_York,NY/308_p\n",
      "http://www.trulia.com/for_rent/New_York,NY/309_p\n",
      "http://www.trulia.com/for_rent/New_York,NY/310_p\n",
      "http://www.trulia.com/for_rent/New_York,NY/311_p\n",
      "http://www.trulia.com/for_rent/New_York,NY/312_p\n",
      "http://www.trulia.com/for_rent/New_York,NY/313_p\n",
      "http://www.trulia.com/for_rent/New_York,NY/314_p\n",
      "http://www.trulia.com/for_rent/New_York,NY/315_p\n",
      "http://www.trulia.com/for_rent/New_York,NY/316_p\n"
     ]
    }
   ],
   "source": [
    "import time\n",
    "DF_all = pd.DataFrame()\n",
    "for i in range(250,317):\n",
    "    urls = \"http://www.trulia.com/for_rent/New_York,NY/\" + str(i) + \"_p\"\n",
    "    print urls\n",
    "    Df_Temp = AptInfo(urls)\n",
    "    DF_all = pd.concat([DF_all, Df_Temp])\n",
    "    time.sleep(1)\n",
    "DF_all\n",
    "DF_all.to_excel(\"trulia_22_AptInfo_250_317.xls\")\n",
    "\n",
    "\n"
   ]
  },
  {
   "cell_type": "code",
   "execution_count": 33,
   "metadata": {
    "collapsed": false
   },
   "outputs": [
    {
     "name": "stdout",
     "output_type": "stream",
     "text": [
      "http://www.trulia.com/for_rent/New_York,NY/300_p\n",
      "http://www.trulia.com/for_rent/New_York,NY/301_p\n",
      "http://www.trulia.com/for_rent/New_York,NY/302_p\n",
      "http://www.trulia.com/for_rent/New_York,NY/303_p\n",
      "http://www.trulia.com/for_rent/New_York,NY/304_p\n",
      "http://www.trulia.com/for_rent/New_York,NY/305_p\n",
      "http://www.trulia.com/for_rent/New_York,NY/306_p\n",
      "http://www.trulia.com/for_rent/New_York,NY/307_p\n",
      "http://www.trulia.com/for_rent/New_York,NY/308_p\n",
      "http://www.trulia.com/for_rent/New_York,NY/309_p\n",
      "http://www.trulia.com/for_rent/New_York,NY/310_p\n",
      "http://www.trulia.com/for_rent/New_York,NY/311_p\n",
      "http://www.trulia.com/for_rent/New_York,NY/312_p\n",
      "http://www.trulia.com/for_rent/New_York,NY/313_p\n",
      "http://www.trulia.com/for_rent/New_York,NY/314_p\n",
      "http://www.trulia.com/for_rent/New_York,NY/315_p\n",
      "http://www.trulia.com/for_rent/New_York,NY/316_p\n"
     ]
    }
   ],
   "source": [
    "#school Crime takes lot of time\n",
    "import time\n",
    "DF_all = pd.DataFrame()\n",
    "for i in range(300,317):\n",
    "    urls = \"http://www.trulia.com/for_rent/New_York,NY/\" + str(i) + \"_p\"\n",
    "    print urls\n",
    "    Df_Temp = SchoolCrimeInfo(urls)\n",
    "    DF_all = pd.concat([DF_all, Df_Temp])\n",
    "    time.sleep(1)\n",
    "DF_all\n",
    "DF_all.to_excel(\"trulia_2_SchoolCrime_300_317.xls\")"
   ]
  },
  {
   "cell_type": "code",
   "execution_count": null,
   "metadata": {
    "collapsed": false
   },
   "outputs": [],
   "source": []
  }
 ],
 "metadata": {
  "anaconda-cloud": {},
  "kernelspec": {
   "display_name": "Python [Root]",
   "language": "python",
   "name": "Python [Root]"
  },
  "language_info": {
   "codemirror_mode": {
    "name": "ipython",
    "version": 2
   },
   "file_extension": ".py",
   "mimetype": "text/x-python",
   "name": "python",
   "nbconvert_exporter": "python",
   "pygments_lexer": "ipython2",
   "version": "2.7.12"
  }
 },
 "nbformat": 4,
 "nbformat_minor": 0
}
