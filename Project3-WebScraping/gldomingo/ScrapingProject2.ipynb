{
 "cells": [
  {
   "cell_type": "code",
   "execution_count": 757,
   "metadata": {
    "collapsed": false
   },
   "outputs": [],
   "source": [
    "### IMPORT DATA\n",
    "\n",
    "from bs4 import BeautifulSoup\n",
    "import requests\n",
    "import re\n",
    "import pandas as pd\n",
    "import string\n",
    "import csv\n",
    "import sys\n",
    "\n",
    "p = requests.get('http://www.presidentsusa.net/presvplist.html').text\n",
    "p = BeautifulSoup(p)\n",
    "p2 = requests.get('http://www.presidentsusa.net/partyofpresidents.html').text\n",
    "p2 = BeautifulSoup(p2)"
   ]
  },
  {
   "cell_type": "code",
   "execution_count": 246,
   "metadata": {
    "collapsed": false,
    "scrolled": false
   },
   "outputs": [],
   "source": [
    "### print p.prettify()[4400:5000]"
   ]
  },
  {
   "cell_type": "code",
   "execution_count": 758,
   "metadata": {
    "collapsed": true
   },
   "outputs": [],
   "source": [
    "### GETS LIST AND SEPARATES PRESIDENTS FROM VPs\n",
    "\n",
    "p_td = p.find_all('td')\n",
    "pres = []\n",
    "vp = []\n",
    "for tag in p_td:\n",
    "    try:\n",
    "        int(tag.get_text()[0])\n",
    "        pres.append(tag.get_text())\n",
    "    except (ValueError):\n",
    "        vp.append(tag.get_text())"
   ]
  },
  {
   "cell_type": "code",
   "execution_count": 759,
   "metadata": {
    "collapsed": false
   },
   "outputs": [],
   "source": [
    "### RETRIEVES LIST OF P AND VP BY PARTY\n",
    "\n",
    "party = p2.find_all('div',{'class':\"col-xs-3\"})\n",
    "#party"
   ]
  },
  {
   "cell_type": "code",
   "execution_count": 760,
   "metadata": {
    "collapsed": true
   },
   "outputs": [],
   "source": [
    "### RETURNS LIST OF PRESIDENTS AND VPs BY PARTY\n",
    "\n",
    "for i in range(len(party)):\n",
    "    if i == 0:\n",
    "        rep = party[i].get_text().split('\\n')\n",
    "    elif i == 1:\n",
    "        dem = party[i].get_text().split('\\n')\n",
    "    elif i == 2:\n",
    "        other = party[i].get_text().split('\\n')\n",
    "    else:\n",
    "        etc = party[i].get_text().split('\\n')"
   ]
  },
  {
   "cell_type": "code",
   "execution_count": 761,
   "metadata": {
    "collapsed": false
   },
   "outputs": [],
   "source": [
    "### CONVERT DATA FROM UNICODE TO STRINGS\n",
    "\n",
    "pres1 = map(lambda x: str(x),pres)\n",
    "# pres1\n",
    "vp1 = map(lambda x: str(x),vp)\n",
    "# vp1\n",
    "rep1 = map(lambda x: str(x),rep)\n",
    "# rep1\n",
    "dem1 = map(lambda x: str(x),dem)\n",
    "# dem1\n",
    "other1 = map(lambda x: str(x),other)\n",
    "# other1"
   ]
  },
  {
   "cell_type": "code",
   "execution_count": 766,
   "metadata": {
    "collapsed": false
   },
   "outputs": [
    {
     "data": {
      "text/plain": [
       "['George Washington,1789,1797',\n",
       " 'John Adams,1797,1801',\n",
       " 'Thomas Jefferson,1801,1809',\n",
       " 'James Madison,1809,1817',\n",
       " 'James Monroe,1817,1825']"
      ]
     },
     "execution_count": 766,
     "metadata": {},
     "output_type": "execute_result"
    }
   ],
   "source": [
    "### USE REGEX TO CLEAN AND PARSE PRESIDENT'S DATA\n",
    "\n",
    "# Presidents data\n",
    "pres2=[]\n",
    "for pre in pres1:\n",
    "    temp0 = re.sub(' \\(','(',pre)\n",
    "    temp1 = re.sub('[1-90]+\\. ',\"\",temp0) # TAKE OUT CHARACTERS BEFORE THE NAME\n",
    "    temp2 = re.sub('[(\\(-]',\",\",temp1) # TAKE OUT SPEC CHARACTERS REPLACE WITH ,\n",
    "    temp3 = re.sub('\\)',\"\",temp2)     # TAKE OUT LAST PARENTHESIS\n",
    "    pres2 = pres2 + [temp3]\n",
    "pres2[0:5]"
   ]
  },
  {
   "cell_type": "code",
   "execution_count": 807,
   "metadata": {
    "collapsed": false
   },
   "outputs": [
    {
     "data": {
      "text/plain": [
       "[['George Washington', 1789, 1797],\n",
       " ['John Adams', 1797, 1801],\n",
       " ['Thomas Jefferson', 1801, 1809],\n",
       " ['James Madison', 1809, 1817],\n",
       " ['James Monroe', 1817, 1825]]"
      ]
     },
     "execution_count": 807,
     "metadata": {},
     "output_type": "execute_result"
    }
   ],
   "source": [
    "### SPLIT PRESIDENT RECORDS INTO LIST WITH NAME, YEAR STARTED, AND YEAR ENDED\n",
    "\n",
    "pres3 = [x.split(',') for x in pres2]\n",
    "\n",
    "### FIX PRESIDENT RECORDS WITH NO END YEAR\n",
    "\n",
    "for i in range(len(pres3)):\n",
    "    if len(pres3[i])==2:\n",
    "        pres3[i] = pres3[i]+[pres3[i][1]]\n",
    "\n",
    "for i in range(len(pres3)):\n",
    "    try:\n",
    "        pres3[i][1:3] = map(int,pres3[i][1:3])\n",
    "    except ValueError:\n",
    "        pres3[i][1:3] = [int(pres3[i][1])] + [2016]\n",
    "        \n",
    "pres3[0:5]"
   ]
  },
  {
   "cell_type": "code",
   "execution_count": 808,
   "metadata": {
    "collapsed": false
   },
   "outputs": [
    {
     "data": {
      "text/plain": [
       "['John Adams (1789-1797)',\n",
       " 'Thomas Jefferson (1797-1801)',\n",
       " 'Aaron Burr (1801-1805)',\n",
       " 'George Clinton (1805-1809)',\n",
       " 'George Clinton (1809-1812)']"
      ]
     },
     "execution_count": 808,
     "metadata": {},
     "output_type": "execute_result"
    }
   ],
   "source": [
    "### FIX MULTIPLE ENTRIES IN SAME LINE FOR VP DATA\n",
    "###     AND DELETE ROWS THAT CONTAIN ADS AND OTHER\n",
    "###     GARBAGE DATA\n",
    "\n",
    "vp2 = [x.split('\\n') for x in vp1]\n",
    "vp3 =[]\n",
    "for vp in vp2:\n",
    "    for i in range(len(vp)):\n",
    "        if vp[i]:\n",
    "            if vp[i][0] not in [string.punctuation,'\\r','(']:\n",
    "                vp3 = vp3 + [vp[i]]\n",
    "    \n",
    "vp3[0:5]"
   ]
  },
  {
   "cell_type": "code",
   "execution_count": 809,
   "metadata": {
    "collapsed": false
   },
   "outputs": [
    {
     "data": {
      "text/plain": [
       "['John Adams,1789,1797',\n",
       " 'Thomas Jefferson,1797,1801',\n",
       " 'Aaron Burr,1801,1805',\n",
       " 'George Clinton,1805,1809',\n",
       " 'George Clinton,1809,1812']"
      ]
     },
     "execution_count": 809,
     "metadata": {},
     "output_type": "execute_result"
    }
   ],
   "source": [
    "### CLEAN UP VICE PRESIDENT DATA USING REGEX\n",
    "\n",
    "vp4=[]\n",
    "for vp in vp3:\n",
    "    temp0 = re.sub(' \\(','(',vp)\n",
    "    temp1 = re.sub('[\\(-]',\",\",temp0) # TAKE OUT SPEC CHARACTERS REPLACE WITH ,\n",
    "    temp2 = re.sub('\\)',\"\",temp1)     # TAKE OUT LAST PARENTHESIS\n",
    "    vp4 = vp4 + [temp2]\n",
    "vp4[0:5]"
   ]
  },
  {
   "cell_type": "code",
   "execution_count": 810,
   "metadata": {
    "collapsed": false
   },
   "outputs": [
    {
     "data": {
      "text/plain": [
       "[['John Adams', 1789, 1797],\n",
       " ['Thomas Jefferson', 1797, 1801],\n",
       " ['Aaron Burr', 1801, 1805],\n",
       " ['George Clinton', 1805, 1809],\n",
       " ['George Clinton', 1809, 1812]]"
      ]
     },
     "execution_count": 810,
     "metadata": {},
     "output_type": "execute_result"
    }
   ],
   "source": [
    "### SPLIT VICE PRESIDENT RECORDS INTO LIST \n",
    "###     WITH NAME, YEAR STARTED, AND YEAR ENDED\n",
    "\n",
    "vp5 = [x.split(',') for x in vp4]    \n",
    "\n",
    "### FIX VP RECORDS WITH NO END YEAR\n",
    "\n",
    "for i in range(len(vp5)):\n",
    "    if len(vp5[i])==2:\n",
    "        vp5[i] = vp5[i]+[vp5[i][1]]\n",
    "\n",
    "for i in range(len(vp5)):\n",
    "    try:\n",
    "        vp5[i][1:3] = map(int,vp5[i][1:3])\n",
    "    except ValueError:\n",
    "        vp5[i][1:3] = [int(vp5[i][1])] + [2016]\n",
    "\n",
    "vp5[0:5]"
   ]
  },
  {
   "cell_type": "code",
   "execution_count": 811,
   "metadata": {
    "collapsed": false
   },
   "outputs": [],
   "source": [
    "### CLEAN UP LIST BY PARTY\n",
    "\n",
    "parties = ['Republican','Democrat','Federalist','Democratic-Republican','Whig','Union']\n",
    "rep2 = []\n",
    "for x in rep1:\n",
    "    if x and (x not in parties):\n",
    "        rep2 = rep2 + [x]\n",
    "\n",
    "dem2 = []\n",
    "for x in dem1:\n",
    "    if x and (x not in parties):\n",
    "        dem2 = dem2 + [x]\n",
    "\n",
    "other2 = []\n",
    "for x in other1:\n",
    "    if x and (x not in parties):\n",
    "        other2 = other2 + [x]\n"
   ]
  },
  {
   "cell_type": "code",
   "execution_count": 812,
   "metadata": {
    "collapsed": false
   },
   "outputs": [],
   "source": [
    "### MERGE 3 LISTS OF PARTIES INTO ONE\n",
    "rep3 = map(lambda x: [x]+['Republican'],rep2)\n",
    "dem3 = map(lambda x: [x]+['Democrat'],dem2)\n",
    "other3 = map(lambda x: [x]+['OtherParties'],other2)\n",
    "partylist=rep3+dem3+other3"
   ]
  },
  {
   "cell_type": "code",
   "execution_count": 813,
   "metadata": {
    "collapsed": false,
    "scrolled": true
   },
   "outputs": [
    {
     "name": "stdout",
     "output_type": "stream",
     "text": [
      "19 ['James A. Garfield', 1881, 1881]\n",
      "28 ['Warren G. Harding', 1921, 1923]\n",
      "32 ['Harry S. Truman', 1945, 1953]\n",
      "33 ['Dwight D. Eisenhower', 1953, 1961]\n",
      "35 ['Lyndon B. Johnson', 1963, 1969]\n"
     ]
    }
   ],
   "source": [
    "### CHECK IF NAMES IN PRESIDENT LIST MATCH THOSE IN PARTY LIST\n",
    "### FIVE NAMES DONT MATCH WHICH HAVE TO BE MANUALLY CORRECTED\n",
    "\n",
    "all2 = []\n",
    "for p in partylist:\n",
    "    all2 = all2 + [p[0]]\n",
    "\n",
    "for x in range(len(pres3)):\n",
    "    if pres3[x][0] not in all2:\n",
    "        print x,pres3[x]"
   ]
  },
  {
   "cell_type": "code",
   "execution_count": 814,
   "metadata": {
    "collapsed": false
   },
   "outputs": [],
   "source": [
    "# CORRECT NAMES MISMATCH\n",
    "partylist[3][0] = pres3[19][0]\n",
    "partylist[9][0] = pres3[28][0]\n",
    "partylist[26][0] = pres3[32][0]\n",
    "partylist[12][0] = pres3[33][0]\n",
    "partylist[28][0] = pres3[35][0]\n",
    "\n",
    "# TEST AGAIN FOR MISMATCH\n",
    "all2 = []\n",
    "for p in partylist:\n",
    "    all2 = all2 + [p[0]]\n",
    "\n",
    "for x in range(len(pres3)):\n",
    "    if pres3[x][0] not in all2:\n",
    "        print x,pres3[x]"
   ]
  },
  {
   "cell_type": "code",
   "execution_count": 815,
   "metadata": {
    "collapsed": false
   },
   "outputs": [
    {
     "name": "stdout",
     "output_type": "stream",
     "text": [
      "0 ['George Washington', 1789, 1797]\n",
      "3 ['James Madison', 1809, 1817]\n",
      "4 ['James Monroe', 1817, 1825]\n",
      "5 ['John Quincy Adams', 1825, 1829]\n",
      "6 ['Andrew Jackson', 1829, 1837]\n",
      "8 ['William Henry Harrison', 1841, 1841]\n",
      "10 ['James K. Polk', 1845, 1849]\n",
      "11 ['Zachary Taylor', 1849, 1850]\n",
      "13 ['Franklin Pierce', 1853, 1857]\n",
      "14 ['James Buchanan', 1857, 1861]\n",
      "15 ['Abraham Lincoln', 1861, 1865]\n",
      "17 ['Ulysses S. Grant', 1869, 1877]\n",
      "18 ['Rutherford B. Hayes', 1877, 1881]\n",
      "19 ['James A. Garfield', 1881, 1881]\n",
      "21 ['Grover Cleveland', 1885, 1889]\n",
      "22 ['Benjamin Harrison', 1889, 1893]\n",
      "23 ['Grover Cleveland', 1893, 1897]\n",
      "24 ['William McKinley', 1897, 1901]\n",
      "26 ['William Howard Taft', 1909, 1913]\n",
      "27 ['Woodrow Wilson', 1913, 1921]\n",
      "28 ['Warren G. Harding', 1921, 1923]\n",
      "30 ['Herbert Hoover', 1929, 1933]\n",
      "31 ['Franklin D. Roosevelt', 1933, 1945]\n",
      "33 ['Dwight D. Eisenhower', 1953, 1961]\n",
      "34 ['John F. Kennedy', 1961, 1963]\n",
      "38 ['Jimmy Carter', 1977, 1981]\n",
      "39 ['Ronald Reagan', 1981, 1989]\n",
      "41 ['Bill Clinton', 1993, 2001]\n",
      "42 ['George W. Bush', 2001, 2009]\n",
      "43 ['Barack Obama', 2009, 2016]\n"
     ]
    }
   ],
   "source": [
    "# Check If Names Match In President and VP List\n",
    "# All exceptions didnt become VP so there is a name match\n",
    "all3 = []\n",
    "for p in vp5:\n",
    "    all3 = all3 + [p[0]]\n",
    "\n",
    "for x in range(len(pres3)):\n",
    "    if pres3[x][0] not in all3:\n",
    "        print x,pres3[x]"
   ]
  },
  {
   "cell_type": "code",
   "execution_count": 816,
   "metadata": {
    "collapsed": false
   },
   "outputs": [
    {
     "data": {
      "text/plain": [
       "[['George Washington', 'OtherParties', 1, 0, 8, 1789, 1797],\n",
       " ['John Adams', 'OtherParties', 1, 0, 4, 1797, 1801],\n",
       " ['Thomas Jefferson', 'OtherParties', 1, 0, 8, 1801, 1809],\n",
       " ['James Madison', 'OtherParties', 1, 0, 8, 1809, 1817],\n",
       " ['James Monroe', 'OtherParties', 1, 0, 8, 1817, 1825]]"
      ]
     },
     "execution_count": 816,
     "metadata": {},
     "output_type": "execute_result"
    }
   ],
   "source": [
    "### Prepare data for export\n",
    "\n",
    "masterp = pres3[ : ]   # Initialize to president's list\n",
    "for i in range(len(testp)):\n",
    "    masterp[i].insert(1,1)         # Insert P Indicator\n",
    "    masterp[i].insert(2,0)         # Insert VP Indicator\n",
    "    masterp[i].insert(3,testp[i][4]-testp[i][3])   # Years as President\n",
    "    for j in range(len(partylist)):\n",
    "        if masterp[i][0] == partylist[j][0]:\n",
    "            masterp[i].insert(1,partylist[j][1])\n",
    "    \n",
    "pres3[0:5]"
   ]
  },
  {
   "cell_type": "code",
   "execution_count": 817,
   "metadata": {
    "collapsed": false
   },
   "outputs": [],
   "source": [
    "### EXPORT DATA\n",
    "\n",
    "f1 = \"../Data_Science/test/president.csv\"\n",
    "with open(f1, \"w\") as output:\n",
    "    writer = csv.writer(output, lineterminator='\\n')\n",
    "    writer.writerows(masterp)"
   ]
  },
  {
   "cell_type": "code",
   "execution_count": 820,
   "metadata": {
    "collapsed": false
   },
   "outputs": [],
   "source": [
    "# pres3"
   ]
  },
  {
   "cell_type": "code",
   "execution_count": null,
   "metadata": {
    "collapsed": true
   },
   "outputs": [],
   "source": []
  }
 ],
 "metadata": {
  "kernelspec": {
   "display_name": "Python 2",
   "language": "python",
   "name": "python2"
  },
  "language_info": {
   "codemirror_mode": {
    "name": "ipython",
    "version": 2
   },
   "file_extension": ".py",
   "mimetype": "text/x-python",
   "name": "python",
   "nbconvert_exporter": "python",
   "pygments_lexer": "ipython2",
   "version": "2.7.12"
  }
 },
 "nbformat": 4,
 "nbformat_minor": 0
}
