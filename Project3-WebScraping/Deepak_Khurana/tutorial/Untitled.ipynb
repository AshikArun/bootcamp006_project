{
 "cells": [
  {
   "cell_type": "code",
   "execution_count": 1,
   "metadata": {
    "collapsed": true
   },
   "outputs": [],
   "source": [
    "start_urls = []"
   ]
  },
  {
   "cell_type": "code",
   "execution_count": 2,
   "metadata": {
    "collapsed": true
   },
   "outputs": [],
   "source": [
    "start_urls.append(\"https://www.gofundme.com/Non-Profits-Charities/\")"
   ]
  },
  {
   "cell_type": "code",
   "execution_count": 3,
   "metadata": {
    "collapsed": false
   },
   "outputs": [
    {
     "data": {
      "text/plain": [
       "['https://www.gofundme.com/Non-Profits-Charities/']"
      ]
     },
     "execution_count": 3,
     "metadata": {},
     "output_type": "execute_result"
    }
   ],
   "source": [
    "start_urls\n"
   ]
  },
  {
   "cell_type": "code",
   "execution_count": 4,
   "metadata": {
    "collapsed": true
   },
   "outputs": [],
   "source": [
    "for i in range(10):\n",
    "    start_urls.append(\"https://www.gofundme.com/Non-Profits-Charities?page=\"+str(i+2)+\"\")"
   ]
  },
  {
   "cell_type": "code",
   "execution_count": 5,
   "metadata": {
    "collapsed": false
   },
   "outputs": [
    {
     "data": {
      "text/plain": [
       "['https://www.gofundme.com/Non-Profits-Charities/',\n",
       " 'https://www.gofundme.com/Non-Profits-Charities?page=2',\n",
       " 'https://www.gofundme.com/Non-Profits-Charities?page=3',\n",
       " 'https://www.gofundme.com/Non-Profits-Charities?page=4',\n",
       " 'https://www.gofundme.com/Non-Profits-Charities?page=5',\n",
       " 'https://www.gofundme.com/Non-Profits-Charities?page=6',\n",
       " 'https://www.gofundme.com/Non-Profits-Charities?page=7',\n",
       " 'https://www.gofundme.com/Non-Profits-Charities?page=8',\n",
       " 'https://www.gofundme.com/Non-Profits-Charities?page=9',\n",
       " 'https://www.gofundme.com/Non-Profits-Charities?page=10',\n",
       " 'https://www.gofundme.com/Non-Profits-Charities?page=11']"
      ]
     },
     "execution_count": 5,
     "metadata": {},
     "output_type": "execute_result"
    }
   ],
   "source": [
    "start_urls\n"
   ]
  },
  {
   "cell_type": "code",
   "execution_count": null,
   "metadata": {
    "collapsed": true
   },
   "outputs": [],
   "source": []
  }
 ],
 "metadata": {
  "kernelspec": {
   "display_name": "Python 2",
   "language": "python",
   "name": "python2"
  },
  "language_info": {
   "codemirror_mode": {
    "name": "ipython",
    "version": 2
   },
   "file_extension": ".py",
   "mimetype": "text/x-python",
   "name": "python",
   "nbconvert_exporter": "python",
   "pygments_lexer": "ipython2",
   "version": "2.7.12"
  }
 },
 "nbformat": 4,
 "nbformat_minor": 0
}
