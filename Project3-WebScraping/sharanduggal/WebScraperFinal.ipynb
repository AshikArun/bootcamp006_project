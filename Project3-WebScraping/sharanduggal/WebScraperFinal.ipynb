{
 "cells": [
  {
   "cell_type": "code",
   "execution_count": 2,
   "metadata": {
    "collapsed": false
   },
   "outputs": [
    {
     "name": "stdout",
     "output_type": "stream",
     "text": [
      "19124\n",
      "        0           1                    2   \\\n",
      "19119  Buy  2015-07-29  2015-08-03 12:21:04   \n",
      "19120  Buy  2015-07-31  2015-08-03 12:10:14   \n",
      "19121  Buy  2015-07-31  2015-08-03 11:47:12   \n",
      "19122  Buy  2015-07-31  2015-08-03 08:15:13   \n",
      "19123  Buy  2015-07-31  2015-08-03 08:00:11   \n",
      "\n",
      "                                      3     4                   5   \\\n",
      "19119                          Point.360  PTSX   BAGERDJIAN HAIG S   \n",
      "19120                  NeuroMetrix, Inc.  NURO         Gozani Shai   \n",
      "19121                  Aqua Metals, Inc.  AQMS          Slade Mark   \n",
      "19122  AIR PRODUCTS & CHEMICALS INC /DE/   APD       Ghasemi Seifi   \n",
      "19123                           LKQ CORP  LKQX  Zarcone Dominick P   \n",
      "\n",
      "                               6       7          8                9   \\\n",
      "19119  director officer 10% owner  20,000    $0.6900     $13,800.0000   \n",
      "19120            director officer  17,857    $0.8366     $14,939.2000   \n",
      "19121                    director  20,000    $5.0000    $100,000.0000   \n",
      "19122            director officer  20,000  $143.2570  $2,865,140.0000   \n",
      "19123                              10,000   $31.1414    $311,414.0000   \n",
      "\n",
      "              10      11  \n",
      "19119  6,417,240  Form 4  \n",
      "19120    211,693  Form 4  \n",
      "19121     20,000  Form 4  \n",
      "19122    209,171  Form 4  \n",
      "19123    181,263  Form 4  \n"
     ]
    }
   ],
   "source": [
    "### Retrieving Insider buy side transactions and storing it in a list of lists \n",
    "\n",
    "import pandas as pd \n",
    "\n",
    "buying_url = \"http://insidertrading.org/large-stock-buying.php?sort_by=acceptance_datetime&asc=&symbol=&date_from=2015-08-01&date_to=2016-08-07&submit=+GO+&page=\"\n",
    "data = []\n",
    "url_pages = []\n",
    "\n",
    "def extract_table(url):    \n",
    "    buying_text = requests.get(url).text\n",
    "    buying_parsed = BeautifulSoup(buying_text)\n",
    "\n",
    "    buying_table = buying_parsed.find(\"table\", {\"id\": \"tracker\"})\n",
    "    buying = buying_table.find(\"tbody\")\n",
    "    rows = buying.find_all(\"tr\")\n",
    "\n",
    "    for row in rows:\n",
    "        cols = row.find_all('td')\n",
    "        cols = [item.text.strip() for item in cols]\n",
    "        data.append([item for item in cols])\n",
    "\n",
    "url_pages = [buying_url+str(i+1) for i in range(0,64)]    \n",
    "map(extract_table, url_pages)\n",
    "    \n",
    "## Checking I have the expected data set\n",
    "print len(data)\n",
    "df = pd.DataFrame(data)\n",
    "print df.tail()"
   ]
  },
  {
   "cell_type": "code",
   "execution_count": 3,
   "metadata": {
    "collapsed": false
   },
   "outputs": [
    {
     "name": "stdout",
     "output_type": "stream",
     "text": [
      "40267\n",
      "         0           1                    2                               3   \\\n",
      "40262  Sell  2015-07-24  2015-08-03 13:04:31    SUNOCO LOGISTICS PARTNERS LP   \n",
      "40263  Sell  2015-07-31  2015-08-03 11:36:14         CHEMICAL FINANCIAL CORP   \n",
      "40264  Sell  2015-08-01  2015-08-03 10:25:47  ALBANY INTERNATIONAL CORP /DE/   \n",
      "40265  Sell  2015-07-15  2015-08-03 10:06:51                       YSEEK INC   \n",
      "40266  Sell  2015-07-15  2015-08-03 10:06:51                       YSEEK INC   \n",
      "\n",
      "         4                      5         6        7         8   \\\n",
      "40262   SXL      Lauterbach Kurt A   officer   24,550  $34.7200   \n",
      "40263  CHFC    Lievense Richard M.  director   11,188  $32.9069   \n",
      "40264   AIN  Halftermeyer Daniel A   officer   21,311  $39.0500   \n",
      "40265  ATDU           Phipps David            200,000   $0.8000   \n",
      "40266  ATDU           Phipps David             50,000   $0.1000   \n",
      "\n",
      "                  9        10      11  \n",
      "40262  $852,376.0000  131,854  Form 4  \n",
      "40263  $368,162.0000   74,097  Form 4  \n",
      "40264  $832,195.0000        0  Form 4  \n",
      "40265  $160,000.0000  200,000  Form 4  \n",
      "40266    $5,000.0000        0  Form 4  \n"
     ]
    }
   ],
   "source": [
    "### Adding Insider selling side transactions to the data\n",
    "\n",
    "selling_url = \"http://insidertrading.org/large-stock-selling.php?sort_by=acceptance_datetime&asc=&symbol=&date_from=2015-08-01&date_to=2016-08-07&submit=+GO+&page=\"\n",
    "url_pages = [selling_url+str(i+1) for i in range(0,71)]    \n",
    "     \n",
    "map(extract_table, url_pages)\n",
    "    \n",
    "print len(data)\n",
    "df = pd.DataFrame(data)\n",
    "\n",
    "print df.tail()"
   ]
  },
  {
   "cell_type": "code",
   "execution_count": 4,
   "metadata": {
    "collapsed": false
   },
   "outputs": [
    {
     "data": {
      "text/html": [
       "<div>\n",
       "<table border=\"1\" class=\"dataframe\">\n",
       "  <thead>\n",
       "    <tr style=\"text-align: right;\">\n",
       "      <th></th>\n",
       "      <th>Side</th>\n",
       "      <th>Date</th>\n",
       "      <th>AcceptanceDate</th>\n",
       "      <th>Company</th>\n",
       "      <th>Symbol</th>\n",
       "      <th>Owner</th>\n",
       "      <th>OwnerRel</th>\n",
       "      <th>Shares</th>\n",
       "      <th>SharePrice</th>\n",
       "      <th>Value</th>\n",
       "      <th>Remaining</th>\n",
       "      <th>Form</th>\n",
       "    </tr>\n",
       "  </thead>\n",
       "  <tbody>\n",
       "    <tr>\n",
       "      <th>0</th>\n",
       "      <td>Buy</td>\n",
       "      <td>2016-08-04</td>\n",
       "      <td>2016-08-05 20:31:38</td>\n",
       "      <td>RESMED INC</td>\n",
       "      <td>RMD</td>\n",
       "      <td>FARRELL PETER C</td>\n",
       "      <td>director officer</td>\n",
       "      <td>20,000</td>\n",
       "      <td>$25.5400</td>\n",
       "      <td>$510,800.0000</td>\n",
       "      <td>367,978</td>\n",
       "      <td>Form 4</td>\n",
       "    </tr>\n",
       "    <tr>\n",
       "      <th>1</th>\n",
       "      <td>Buy</td>\n",
       "      <td>2016-08-04</td>\n",
       "      <td>2016-08-05 20:29:23</td>\n",
       "      <td>ENTEGRIS INC</td>\n",
       "      <td>ENTG</td>\n",
       "      <td>GMT CAPITAL CORP</td>\n",
       "      <td>10% owner</td>\n",
       "      <td>1,191,220</td>\n",
       "      <td>$16.8000</td>\n",
       "      <td>$20,012,500.0000</td>\n",
       "      <td>14,525,400</td>\n",
       "      <td>Form 4</td>\n",
       "    </tr>\n",
       "    <tr>\n",
       "      <th>2</th>\n",
       "      <td>Buy</td>\n",
       "      <td>2016-08-03</td>\n",
       "      <td>2016-08-05 20:07:56</td>\n",
       "      <td>DXP ENTERPRISES INC</td>\n",
       "      <td>dxpe</td>\n",
       "      <td>GMT CAPITAL CORP</td>\n",
       "      <td>10% owner</td>\n",
       "      <td>172,746</td>\n",
       "      <td>$15.9600</td>\n",
       "      <td>$2,757,030.0000</td>\n",
       "      <td>1,595,540</td>\n",
       "      <td>Form 4</td>\n",
       "    </tr>\n",
       "    <tr>\n",
       "      <th>3</th>\n",
       "      <td>Buy</td>\n",
       "      <td>2016-08-05</td>\n",
       "      <td>2016-08-05 20:04:56</td>\n",
       "      <td>SALESFORCE COM INC</td>\n",
       "      <td>CRM</td>\n",
       "      <td>Benioff Marc</td>\n",
       "      <td>director officer 10% owner</td>\n",
       "      <td>12,500</td>\n",
       "      <td>$27.0625</td>\n",
       "      <td>$338,281.0000</td>\n",
       "      <td>35,383,000</td>\n",
       "      <td>Form 4</td>\n",
       "    </tr>\n",
       "    <tr>\n",
       "      <th>4</th>\n",
       "      <td>Buy</td>\n",
       "      <td>2016-08-05</td>\n",
       "      <td>2016-08-05 19:46:39</td>\n",
       "      <td>FAIR ISAAC CORP</td>\n",
       "      <td>FIC</td>\n",
       "      <td>Wehmann James M</td>\n",
       "      <td>officer</td>\n",
       "      <td>16,215</td>\n",
       "      <td>$43.9000</td>\n",
       "      <td>$711,838.0000</td>\n",
       "      <td>64,611</td>\n",
       "      <td>Form 4</td>\n",
       "    </tr>\n",
       "  </tbody>\n",
       "</table>\n",
       "</div>"
      ],
      "text/plain": [
       "  Side        Date       AcceptanceDate              Company Symbol  \\\n",
       "0  Buy  2016-08-04  2016-08-05 20:31:38           RESMED INC    RMD   \n",
       "1  Buy  2016-08-04  2016-08-05 20:29:23         ENTEGRIS INC   ENTG   \n",
       "2  Buy  2016-08-03  2016-08-05 20:07:56  DXP ENTERPRISES INC   dxpe   \n",
       "3  Buy  2016-08-05  2016-08-05 20:04:56   SALESFORCE COM INC    CRM   \n",
       "4  Buy  2016-08-05  2016-08-05 19:46:39      FAIR ISAAC CORP    FIC   \n",
       "\n",
       "              Owner                    OwnerRel     Shares SharePrice  \\\n",
       "0   FARRELL PETER C            director officer     20,000   $25.5400   \n",
       "1  GMT CAPITAL CORP                   10% owner  1,191,220   $16.8000   \n",
       "2  GMT CAPITAL CORP                   10% owner    172,746   $15.9600   \n",
       "3      Benioff Marc  director officer 10% owner     12,500   $27.0625   \n",
       "4   Wehmann James M                     officer     16,215   $43.9000   \n",
       "\n",
       "              Value   Remaining    Form  \n",
       "0     $510,800.0000     367,978  Form 4  \n",
       "1  $20,012,500.0000  14,525,400  Form 4  \n",
       "2   $2,757,030.0000   1,595,540  Form 4  \n",
       "3     $338,281.0000  35,383,000  Form 4  \n",
       "4     $711,838.0000      64,611  Form 4  "
      ]
     },
     "execution_count": 4,
     "metadata": {},
     "output_type": "execute_result"
    }
   ],
   "source": [
    "#Renaming Columns\n",
    "df.columns= [\"Side\", \"Date\", \"AcceptanceDate\", \"Company\", \"Symbol\", \"Owner\", \"OwnerRel\", \"Shares\", \"SharePrice\", \"Value\", \"Remaining\", \"Form\"]\n",
    "df.head()"
   ]
  },
  {
   "cell_type": "code",
   "execution_count": 97,
   "metadata": {
    "collapsed": false
   },
   "outputs": [],
   "source": [
    "df.to_csv(\"/Users/sharanduggal/Documents/Datascience/Projects/WebScrapingProjects/Insider/Past_Year_Transactions\", sep = \"\\t\")"
   ]
  },
  {
   "cell_type": "code",
   "execution_count": 10,
   "metadata": {
    "collapsed": false
   },
   "outputs": [
    {
     "name": "stdout",
     "output_type": "stream",
     "text": [
      "http://finviz.com/quote.ashx?t=bac&ty=c&ta=1&p=d\n"
     ]
    }
   ],
   "source": [
    "###Getting ticker's sector and industry details from Finviz \n",
    "symbol_pages = \"http://finviz.com/quote.ashx?t=bac&ty=c&ta=1&p=d\"\n",
    "print symbol_pages\n",
    "sector = []\n",
    "\n",
    "def get_industry(symbol_pages):\n",
    "    count = 0\n",
    "    stock_url = requests.get(symbol_pages)\n",
    "    stock_text = stock_url.text\n",
    "    stock_soup = BeautifulSoup(stock_text)\n",
    "    stock_table = stock_soup.find(\"table\", attrs={\"class\": \"fullview-title\"}) \n",
    "    ###Creating a list of sector & industry\n",
    "    ###Inserting a blank record in the event a ticker symbol is wrong or if a ticker page is not found on Finviz\n",
    "    if stock_url.ok: \n",
    "        sector.append([i.text for i in stock_table.find_all(\"a\")[0:4]]) \n",
    "        count = count+1\n",
    "        if count%2 == 0:\n",
    "            print count\n",
    "    else:\n",
    "        sector.append([\"\", \"\", \"\", \"\"])"
   ]
  },
  {
   "cell_type": "code",
   "execution_count": 8,
   "metadata": {
    "collapsed": false
   },
   "outputs": [
    {
     "name": "stdout",
     "output_type": "stream",
     "text": [
      "[[u'RMD', u'ResMed Inc.', u'Healthcare', u'Medical Appliances & Equipment'], [u'ENTG', u'Entegris, Inc.', u'Technology', u'Semiconductor Equipment & Materials'], [u'DXPE', u'DXP Enterprises, Inc.', u'Services', u'Industrial Equipment Wholesale'], [u'CRM', u'salesforce.com, inc.', u'Technology', u'Application Software'], ['', '', '', '']]\n"
     ]
    }
   ],
   "source": [
    "### Test Cell\n",
    "x = df.head()\n",
    "Urls = \"http://finviz.com/quote.ashx?t=\"+x.Symbol+\"&ty=c&ta=1&p=d\"\n",
    "map(get_industry, Urls) \n",
    "print sector\n",
    "\n",
    "#ind_df = pd.DataFrame(sector)\n",
    "#ind_df.columns = [\"Symbol\", \"Company\", \"Sector\", \"Industry\"]\n",
    "#del ind_df[\"Company\"]\n",
    "#newdf = pd.concat([x,ind_df], axis = 1)\n"
   ]
  },
  {
   "cell_type": "code",
   "execution_count": 11,
   "metadata": {
    "collapsed": false
   },
   "outputs": [
    {
     "name": "stdout",
     "output_type": "stream",
     "text": [
      "End\n"
     ]
    }
   ],
   "source": [
    "##Creating Finviz URLs for each symbol in the data set\n",
    "Urls = \"http://finviz.com/quote.ashx?t=\"+df.Symbol+\"&ty=c&ta=1&p=d\"\n",
    "print \"End\""
   ]
  },
  {
   "cell_type": "code",
   "execution_count": null,
   "metadata": {
    "collapsed": false
   },
   "outputs": [],
   "source": [
    "###Applying function to all Urls\n",
    "map(get_industry, Urls) \n",
    "print \"End\""
   ]
  },
  {
   "cell_type": "code",
   "execution_count": 101,
   "metadata": {
    "collapsed": false
   },
   "outputs": [
    {
     "name": "stdout",
     "output_type": "stream",
     "text": [
      "[[u'RMD', u'ResMed Inc.', u'Healthcare', u'Medical Appliances & Equipment'], [u'ENTG', u'Entegris, Inc.', u'Technology', u'Semiconductor Equipment & Materials'], [u'DXPE', u'DXP Enterprises, Inc.', u'Services', u'Industrial Equipment Wholesale'], [u'CRM', u'salesforce.com, inc.', u'Technology', u'Application Software'], ['', '', '', '']]\n"
     ]
    },
    {
     "data": {
      "text/html": [
       "<div>\n",
       "<table border=\"1\" class=\"dataframe\">\n",
       "  <thead>\n",
       "    <tr style=\"text-align: right;\">\n",
       "      <th></th>\n",
       "      <th>Side</th>\n",
       "      <th>Date</th>\n",
       "      <th>AcceptanceDate</th>\n",
       "      <th>Company</th>\n",
       "      <th>Symbol</th>\n",
       "      <th>Owner</th>\n",
       "      <th>OwnerRel</th>\n",
       "      <th>Shares</th>\n",
       "      <th>SharePrice</th>\n",
       "      <th>Value</th>\n",
       "      <th>Remaining</th>\n",
       "      <th>Form</th>\n",
       "      <th>Symbol</th>\n",
       "      <th>Sector</th>\n",
       "      <th>Industry</th>\n",
       "    </tr>\n",
       "  </thead>\n",
       "  <tbody>\n",
       "    <tr>\n",
       "      <th>0</th>\n",
       "      <td>Buy</td>\n",
       "      <td>2016-08-04</td>\n",
       "      <td>2016-08-05 20:31:38</td>\n",
       "      <td>RESMED INC</td>\n",
       "      <td>RMD</td>\n",
       "      <td>FARRELL PETER C</td>\n",
       "      <td>director officer</td>\n",
       "      <td>20,000</td>\n",
       "      <td>$25.5400</td>\n",
       "      <td>$510,800.0000</td>\n",
       "      <td>367,978</td>\n",
       "      <td>Form 4</td>\n",
       "      <td>RMD</td>\n",
       "      <td>Healthcare</td>\n",
       "      <td>Medical Appliances &amp; Equipment</td>\n",
       "    </tr>\n",
       "    <tr>\n",
       "      <th>1</th>\n",
       "      <td>Buy</td>\n",
       "      <td>2016-08-04</td>\n",
       "      <td>2016-08-05 20:29:23</td>\n",
       "      <td>ENTEGRIS INC</td>\n",
       "      <td>ENTG</td>\n",
       "      <td>GMT CAPITAL CORP</td>\n",
       "      <td>10% owner</td>\n",
       "      <td>1,191,220</td>\n",
       "      <td>$16.8000</td>\n",
       "      <td>$20,012,500.0000</td>\n",
       "      <td>14,525,400</td>\n",
       "      <td>Form 4</td>\n",
       "      <td>ENTG</td>\n",
       "      <td>Technology</td>\n",
       "      <td>Semiconductor Equipment &amp; Materials</td>\n",
       "    </tr>\n",
       "    <tr>\n",
       "      <th>2</th>\n",
       "      <td>Buy</td>\n",
       "      <td>2016-08-03</td>\n",
       "      <td>2016-08-05 20:07:56</td>\n",
       "      <td>DXP ENTERPRISES INC</td>\n",
       "      <td>dxpe</td>\n",
       "      <td>GMT CAPITAL CORP</td>\n",
       "      <td>10% owner</td>\n",
       "      <td>172,746</td>\n",
       "      <td>$15.9600</td>\n",
       "      <td>$2,757,030.0000</td>\n",
       "      <td>1,595,540</td>\n",
       "      <td>Form 4</td>\n",
       "      <td>DXPE</td>\n",
       "      <td>Services</td>\n",
       "      <td>Industrial Equipment Wholesale</td>\n",
       "    </tr>\n",
       "    <tr>\n",
       "      <th>3</th>\n",
       "      <td>Buy</td>\n",
       "      <td>2016-08-05</td>\n",
       "      <td>2016-08-05 20:04:56</td>\n",
       "      <td>SALESFORCE COM INC</td>\n",
       "      <td>CRM</td>\n",
       "      <td>Benioff Marc</td>\n",
       "      <td>director officer 10% owner</td>\n",
       "      <td>12,500</td>\n",
       "      <td>$27.0625</td>\n",
       "      <td>$338,281.0000</td>\n",
       "      <td>35,383,000</td>\n",
       "      <td>Form 4</td>\n",
       "      <td>CRM</td>\n",
       "      <td>Technology</td>\n",
       "      <td>Application Software</td>\n",
       "    </tr>\n",
       "    <tr>\n",
       "      <th>4</th>\n",
       "      <td>Buy</td>\n",
       "      <td>2016-08-05</td>\n",
       "      <td>2016-08-05 19:46:39</td>\n",
       "      <td>FAIR ISAAC CORP</td>\n",
       "      <td>FIC</td>\n",
       "      <td>Wehmann James M</td>\n",
       "      <td>officer</td>\n",
       "      <td>16,215</td>\n",
       "      <td>$43.9000</td>\n",
       "      <td>$711,838.0000</td>\n",
       "      <td>64,611</td>\n",
       "      <td>Form 4</td>\n",
       "      <td></td>\n",
       "      <td></td>\n",
       "      <td></td>\n",
       "    </tr>\n",
       "  </tbody>\n",
       "</table>\n",
       "</div>"
      ],
      "text/plain": [
       "  Side        Date       AcceptanceDate              Company Symbol  \\\n",
       "0  Buy  2016-08-04  2016-08-05 20:31:38           RESMED INC    RMD   \n",
       "1  Buy  2016-08-04  2016-08-05 20:29:23         ENTEGRIS INC   ENTG   \n",
       "2  Buy  2016-08-03  2016-08-05 20:07:56  DXP ENTERPRISES INC   dxpe   \n",
       "3  Buy  2016-08-05  2016-08-05 20:04:56   SALESFORCE COM INC    CRM   \n",
       "4  Buy  2016-08-05  2016-08-05 19:46:39      FAIR ISAAC CORP    FIC   \n",
       "\n",
       "              Owner                    OwnerRel     Shares SharePrice  \\\n",
       "0   FARRELL PETER C            director officer     20,000   $25.5400   \n",
       "1  GMT CAPITAL CORP                   10% owner  1,191,220   $16.8000   \n",
       "2  GMT CAPITAL CORP                   10% owner    172,746   $15.9600   \n",
       "3      Benioff Marc  director officer 10% owner     12,500   $27.0625   \n",
       "4   Wehmann James M                     officer     16,215   $43.9000   \n",
       "\n",
       "              Value   Remaining    Form Symbol      Sector  \\\n",
       "0     $510,800.0000     367,978  Form 4    RMD  Healthcare   \n",
       "1  $20,012,500.0000  14,525,400  Form 4   ENTG  Technology   \n",
       "2   $2,757,030.0000   1,595,540  Form 4   DXPE    Services   \n",
       "3     $338,281.0000  35,383,000  Form 4    CRM  Technology   \n",
       "4     $711,838.0000      64,611  Form 4                      \n",
       "\n",
       "                              Industry  \n",
       "0       Medical Appliances & Equipment  \n",
       "1  Semiconductor Equipment & Materials  \n",
       "2       Industrial Equipment Wholesale  \n",
       "3                 Application Software  \n",
       "4                                       "
      ]
     },
     "execution_count": 101,
     "metadata": {},
     "output_type": "execute_result"
    }
   ],
   "source": [
    "###Concat the new Finviz Info with the Original data frame\n",
    "ind_df = pd.DataFrame(sector)\n",
    "ind_df.columns = [\"Symbol\", \"Company\", \"Sector\", \"Industry\"]\n",
    "del ind_df[\"Company\"]\n",
    "\n",
    "newdf = pd.concat([df,ind_df], axis = 1)"
   ]
  },
  {
   "cell_type": "code",
   "execution_count": null,
   "metadata": {
    "collapsed": false
   },
   "outputs": [],
   "source": [
    "newdf.head()"
   ]
  },
  {
   "cell_type": "code",
   "execution_count": null,
   "metadata": {
    "collapsed": true
   },
   "outputs": [],
   "source": [
    "newdf.tail()"
   ]
  },
  {
   "cell_type": "code",
   "execution_count": null,
   "metadata": {
    "collapsed": true
   },
   "outputs": [],
   "source": [
    "df.to_csv(\"/Users/sharanduggal/Documents/Datascience/Projects/WebScrapingProjects/Insider/Insiders_Aug8\", sep = \"\\t\")"
   ]
  },
  {
   "cell_type": "code",
   "execution_count": 111,
   "metadata": {
    "collapsed": false
   },
   "outputs": [],
   "source": [
    "\n"
   ]
  },
  {
   "cell_type": "code",
   "execution_count": null,
   "metadata": {
    "collapsed": false
   },
   "outputs": [],
   "source": []
  },
  {
   "cell_type": "code",
   "execution_count": null,
   "metadata": {
    "collapsed": false
   },
   "outputs": [],
   "source": []
  },
  {
   "cell_type": "code",
   "execution_count": null,
   "metadata": {
    "collapsed": true
   },
   "outputs": [],
   "source": []
  },
  {
   "cell_type": "code",
   "execution_count": 1,
   "metadata": {
    "collapsed": false
   },
   "outputs": [
    {
     "name": "stdout",
     "output_type": "stream",
     "text": [
      "1\n"
     ]
    }
   ],
   "source": []
  },
  {
   "cell_type": "code",
   "execution_count": null,
   "metadata": {
    "collapsed": true
   },
   "outputs": [],
   "source": []
  }
 ],
 "metadata": {
  "kernelspec": {
   "display_name": "Python 2",
   "language": "python",
   "name": "python2"
  },
  "language_info": {
   "codemirror_mode": {
    "name": "ipython",
    "version": 2
   },
   "file_extension": ".py",
   "mimetype": "text/x-python",
   "name": "python",
   "nbconvert_exporter": "python",
   "pygments_lexer": "ipython2",
   "version": "2.7.11"
  }
 },
 "nbformat": 4,
 "nbformat_minor": 0
}
