{
 "cells": [
  {
   "cell_type": "code",
   "execution_count": 40,
   "metadata": {
    "collapsed": false
   },
   "outputs": [],
   "source": [
    "import pandas as pd\n",
    "import numpy as np\n",
    "\n",
    "Port_202_1 = pd.read_csv('97202_1.csv')\n",
    "Port_202_2 = pd.read_csv('97202_2.csv')\n",
    "Port_202_3 = pd.read_csv('97202_3.csv')\n",
    "Port_202 = pd.concat([Port_202_1,Port_202_2,Port_202_3], axis = 0)\n",
    "Port_202['zipcode'] = 97202 \n"
   ]
  },
  {
   "cell_type": "code",
   "execution_count": 2,
   "metadata": {
    "collapsed": false
   },
   "outputs": [
    {
     "name": "stdout",
     "output_type": "stream",
     "text": [
      "1478\n",
      "********************\n",
      "   beds $sqft  location                            address     price  baths  \\\n",
      "0   3.0  $282  Portland  3613 SE Rhine StListed by: Redfin  $510,000    2.5   \n",
      "\n",
      "    sqft     days  zipcode  \n",
      "0  1,804  30 days    97202  \n"
     ]
    }
   ],
   "source": [
    "print len(Port_202)\n",
    "print '*'*20\n",
    "print Port_202.head(1)\n"
   ]
  },
  {
   "cell_type": "code",
   "execution_count": 3,
   "metadata": {
    "collapsed": false
   },
   "outputs": [
    {
     "name": "stdout",
     "output_type": "stream",
     "text": [
      "1000\n",
      "********************\n",
      "   beds $sqft  location                            address     price  baths  \\\n",
      "0   2.0  $262  Portland  3417 SE 66th AveListed by: Redfin  $312,000    1.0   \n",
      "\n",
      "    sqft      days  zipcode  \n",
      "0  1,188  485 days    97206  \n"
     ]
    }
   ],
   "source": [
    "Port_206_1 = pd.read_csv('97206_1.csv')\n",
    "Port_206_2 = pd.read_csv('97206_2.csv')\n",
    "Port_206 = pd.concat([Port_206_1,Port_206_2], axis = 0)\n",
    "Port_206['zipcode'] = 97206\n",
    "print len(Port_206)\n",
    "print '*'*20\n",
    "print Port_206.head(1)"
   ]
  },
  {
   "cell_type": "code",
   "execution_count": 4,
   "metadata": {
    "collapsed": false
   },
   "outputs": [
    {
     "name": "stdout",
     "output_type": "stream",
     "text": [
      "1000\n",
      "********************\n",
      "   beds $sqft location                                           address  \\\n",
      "0   2.0  $283    SABIN  3526 NE 12th AveListed by: RedfinSold by: Redfin   \n",
      "\n",
      "      price  baths   sqft      days  zipcode  \n",
      "0  $413,000    1.0  1,455  107 days    97212  \n"
     ]
    }
   ],
   "source": [
    "Port_212_1 = pd.read_csv('97212_1.csv')\n",
    "Port_212_2 = pd.read_csv('97212_2.csv')\n",
    "Port_212 = pd.concat([Port_212_1,Port_212_2], axis = 0)\n",
    "Port_212['zipcode'] = 97212\n",
    "print len(Port_212)\n",
    "print '*'*20\n",
    "print Port_212.head(1)"
   ]
  },
  {
   "cell_type": "code",
   "execution_count": 5,
   "metadata": {
    "collapsed": false
   },
   "outputs": [
    {
     "name": "stdout",
     "output_type": "stream",
     "text": [
      "1000\n",
      "********************\n",
      "   beds $sqft  location                          address     price  baths  \\\n",
      "0   5.0  $215  Portland  1334 SE Ash StListed by: Redfin  $643,000    3.5   \n",
      "\n",
      "    sqft      days  zipcode  \n",
      "0  2,982  845 days    97214  \n"
     ]
    }
   ],
   "source": [
    "Port_214_1 = pd.read_csv('97214_1.csv')\n",
    "Port_214_2 = pd.read_csv('97214_2.csv')\n",
    "Port_214 = pd.concat([Port_214_1,Port_214_2], axis = 0)\n",
    "Port_214['zipcode'] = 97214\n",
    "print len(Port_214)\n",
    "print '*'*20\n",
    "print Port_214.head(1)"
   ]
  },
  {
   "cell_type": "code",
   "execution_count": 6,
   "metadata": {
    "collapsed": false
   },
   "outputs": [
    {
     "name": "stdout",
     "output_type": "stream",
     "text": [
      "1472\n",
      "********************\n",
      "   beds $sqft                     location                        address  \\\n",
      "0   2.0  $165  HAYDEN ISLAND/JANTZEN BEACH  12034 N Jantzen Beach Ave #49   \n",
      "\n",
      "      price  baths   sqft    days  zipcode  \n",
      "0  $185,000    1.5  1,120  2 days    97217  \n"
     ]
    }
   ],
   "source": [
    "Port_217_1 = pd.read_csv('97217_1.csv')\n",
    "Port_217_2 = pd.read_csv('97217_2.csv')\n",
    "Port_217_3 = pd.read_csv('97217_3.csv')\n",
    "Port_217 = pd.concat([Port_217_1,Port_217_2,Port_217_3], axis = 0)\n",
    "Port_217['zipcode'] = 97217 \n",
    "print len(Port_217)\n",
    "print '*'*20\n",
    "print Port_217.head(1)"
   ]
  },
  {
   "cell_type": "code",
   "execution_count": 7,
   "metadata": {
    "collapsed": false
   },
   "outputs": [
    {
     "name": "stdout",
     "output_type": "stream",
     "text": [
      "2000\n",
      "********************\n",
      "   beds $sqft  location                           address     price  baths  \\\n",
      "0   4.0  $177  Portland  6905 SW 4th AveListed by: Redfin  $515,000    3.0   \n",
      "\n",
      "    sqft     days  zipcode  \n",
      "0  2,896  46 days    97219  \n"
     ]
    }
   ],
   "source": [
    "Port_219_1 = pd.read_csv('97219_1.csv')\n",
    "Port_219_2 = pd.read_csv('97219_2.csv')\n",
    "Port_219_3 = pd.read_csv('97219_3.csv')\n",
    "Port_219_4 = pd.read_csv('97219_4.csv')\n",
    "Port_219 = pd.concat([Port_219_1,Port_219_2,Port_219_3,Port_219_4], axis = 0)\n",
    "Port_219['zipcode'] = 97219 \n",
    "print len(Port_219)\n",
    "print '*'*20\n",
    "print Port_219.head(1)"
   ]
  },
  {
   "cell_type": "code",
   "execution_count": 8,
   "metadata": {
    "collapsed": false
   },
   "outputs": [
    {
     "name": "stdout",
     "output_type": "stream",
     "text": [
      "2000\n",
      "********************\n",
      "   beds $sqft  location                                           address  \\\n",
      "0   4.0  $166  Portland  906 NE 117th AveListed by: RedfinSold by: Redfin   \n",
      "\n",
      "      price  baths   sqft      days  zipcode  \n",
      "0  $257,000    1.0  1,546  281 days    97220  \n"
     ]
    }
   ],
   "source": [
    "Port_220_1 = pd.read_csv('97220_1.csv')\n",
    "Port_220_2 = pd.read_csv('97220_2.csv')\n",
    "\n",
    "Port_220 = pd.concat([Port_220_1,Port_220_2], axis = 0)\n",
    "Port_220['zipcode'] = 97220 \n",
    "print len(Port_219)\n",
    "print '*'*20\n",
    "print Port_220.head(1)"
   ]
  },
  {
   "cell_type": "code",
   "execution_count": 9,
   "metadata": {
    "collapsed": false
   },
   "outputs": [
    {
     "name": "stdout",
     "output_type": "stream",
     "text": [
      "453\n",
      "********************\n",
      "   beds $sqft                 location                   address     price  \\\n",
      "0   1.0  $383  Sixteen-Twenty Broadway  1620 NE Broadway St #414  $371,000   \n",
      "\n",
      "   baths sqft     days  zipcode  \n",
      "0    1.5  968  15 days    97232  \n"
     ]
    }
   ],
   "source": [
    "Port_232 = pd.read_csv('97232.csv')\n",
    "\n",
    "Port_232['zipcode'] = 97232 \n",
    "print len(Port_232)\n",
    "print '*'*20\n",
    "print Port_232.head(1)"
   ]
  },
  {
   "cell_type": "code",
   "execution_count": 10,
   "metadata": {
    "collapsed": false
   },
   "outputs": [
    {
     "name": "stdout",
     "output_type": "stream",
     "text": [
      "1000\n",
      "********************\n",
      "   beds $sqft location           address       price  baths    sqft days  \\\n",
      "0   NaN   $79      NaN  801 SE 190th Ave  $1,015,000   17.0  12,800  NaN   \n",
      "\n",
      "   zipcode  \n",
      "0    97233  \n"
     ]
    }
   ],
   "source": [
    "Port_233_1 = pd.read_csv('97233_1.csv')\n",
    "Port_233_2 = pd.read_csv('97233_2.csv')\n",
    "Port_233 = pd.concat([Port_233_1,Port_233_2], axis = 0)\n",
    "Port_233['zipcode'] = 97233 \n",
    "print len(Port_233)\n",
    "print '*'*20\n",
    "print Port_233.head(1)"
   ]
  },
  {
   "cell_type": "code",
   "execution_count": 11,
   "metadata": {
    "collapsed": false
   },
   "outputs": [
    {
     "name": "stdout",
     "output_type": "stream",
     "text": [
      "1000\n",
      "********************\n",
      "   beds $sqft location            address     price  baths   sqft days  \\\n",
      "0   3.0  $164      NaN  3768 NW Unrath Pl  $360,174    3.0  2,190  NaN   \n",
      "\n",
      "   zipcode  \n",
      "0    97229  \n"
     ]
    }
   ],
   "source": [
    "Port_229_1 = pd.read_csv('97229_1.csv')\n",
    "Port_229_2 = pd.read_csv('97229_2.csv')\n",
    "Port_229 = pd.concat([Port_229_1,Port_229_2], axis = 0)\n",
    "Port_229['zipcode'] = 97229 \n",
    "print len(Port_229)\n",
    "print '*'*20\n",
    "print Port_229.head(1)"
   ]
  },
  {
   "cell_type": "code",
   "execution_count": null,
   "metadata": {
    "collapsed": false
   },
   "outputs": [],
   "source": []
  },
  {
   "cell_type": "code",
   "execution_count": 12,
   "metadata": {
    "collapsed": false
   },
   "outputs": [
    {
     "ename": "NameError",
     "evalue": "name 'Port' is not defined",
     "output_type": "error",
     "traceback": [
      "\u001b[0;31m---------------------------------------------------------------------------\u001b[0m",
      "\u001b[0;31mNameError\u001b[0m                                 Traceback (most recent call last)",
      "\u001b[0;32m<ipython-input-12-dd2b159b0e87>\u001b[0m in \u001b[0;36m<module>\u001b[0;34m()\u001b[0m\n\u001b[0;32m----> 1\u001b[0;31m \u001b[0;32mprint\u001b[0m \u001b[0mlen\u001b[0m\u001b[0;34m(\u001b[0m\u001b[0mPort\u001b[0m\u001b[0;34m)\u001b[0m\u001b[0;34m\u001b[0m\u001b[0m\n\u001b[0m\u001b[1;32m      2\u001b[0m \u001b[0;32mprint\u001b[0m \u001b[0mPort\u001b[0m\u001b[0;34m.\u001b[0m\u001b[0mhead\u001b[0m\u001b[0;34m(\u001b[0m\u001b[0;36m1\u001b[0m\u001b[0;34m)\u001b[0m\u001b[0;34m\u001b[0m\u001b[0m\n",
      "\u001b[0;31mNameError\u001b[0m: name 'Port' is not defined"
     ]
    }
   ],
   "source": [
    "print len(Port)\n",
    "print Port.head(1)"
   ]
  },
  {
   "cell_type": "code",
   "execution_count": 13,
   "metadata": {
    "collapsed": false
   },
   "outputs": [
    {
     "name": "stdout",
     "output_type": "stream",
     "text": [
      "1935\n",
      "   beds $sqft   location        address     price  baths   sqft    days  \\\n",
      "0   3.0  $115  Vancouver  2515 E 8th St  $154,400    1.0  1,340  18 hrs   \n",
      "\n",
      "   zipcode  \n",
      "0    98661  \n"
     ]
    }
   ],
   "source": [
    "vanc_661_1 = pd.read_csv('98661_1.csv')\n",
    "vanc_661_2 = pd.read_csv('98661_2.csv')\n",
    "vanc_661_3 = pd.read_csv('98661_3.csv')\n",
    "vanc_661_4 = pd.read_csv('98661_4.csv')\n",
    "vanc_661 = pd.concat([vanc_661_1,vanc_661_2,vanc_661_3,vanc_661_4], axis = 0)\n",
    "vanc_661['zipcode'] = 98661 \n",
    "print len(vanc_661)\n",
    "print vanc_661.head(1)"
   ]
  },
  {
   "cell_type": "code",
   "execution_count": 14,
   "metadata": {
    "collapsed": false
   },
   "outputs": [
    {
     "name": "stdout",
     "output_type": "stream",
     "text": [
      "1935\n",
      "   beds $sqft   location        address     price  baths   sqft    days  \\\n",
      "0   3.0  $115  Vancouver  2515 E 8th St  $154,400    1.0  1,340  18 hrs   \n",
      "\n",
      "   zipcode  \n",
      "0    98661  \n"
     ]
    }
   ],
   "source": [
    "vanc_661_1 = pd.read_csv('98661_1.csv')\n",
    "vanc_661_2 = pd.read_csv('98661_2.csv')\n",
    "vanc_661_3 = pd.read_csv('98661_3.csv')\n",
    "vanc_661_4 = pd.read_csv('98661_4.csv')\n",
    "vanc_661 = pd.concat([vanc_661_1,vanc_661_2,vanc_661_3,vanc_661_4], axis = 0)\n",
    "vanc_661['zipcode'] = 98661 \n",
    "print len(vanc_661)\n",
    "print vanc_661.head(1)"
   ]
  },
  {
   "cell_type": "code",
   "execution_count": 15,
   "metadata": {
    "collapsed": false
   },
   "outputs": [
    {
     "name": "stdout",
     "output_type": "stream",
     "text": [
      "992\n",
      "   beds $sqft location           address     price  baths   sqft days  zipcode\n",
      "0   4.0  $136      NaN  2600 NE 50th Cir  $297,796    2.5  2,178  NaN    98663\n"
     ]
    }
   ],
   "source": [
    "vanc_663_1 = pd.read_csv('98663_1.csv')\n",
    "vanc_663_2 = pd.read_csv('98663_2.csv')\n",
    "\n",
    "vanc_663 = pd.concat([vanc_663_1,vanc_663_2], axis = 0)\n",
    "vanc_663['zipcode'] = 98663 \n",
    "print len(vanc_663)\n",
    "print vanc_663.head(1)"
   ]
  },
  {
   "cell_type": "code",
   "execution_count": 16,
   "metadata": {
    "collapsed": false
   },
   "outputs": [
    {
     "name": "stdout",
     "output_type": "stream",
     "text": [
      "1000\n",
      "   beds $sqft         location            address     price  baths   sqft  \\\n",
      "0   4.0  $117  Norwood Meadows  11304 SE Nancy Rd  $395,000    2.5  3,364   \n",
      "\n",
      "     days  zipcode  \n",
      "0  3 days    98664  \n"
     ]
    }
   ],
   "source": [
    "vanc_664_1 = pd.read_csv('98664_1.csv')\n",
    "vanc_664_2 = pd.read_csv('98664_2.csv')\n",
    "\n",
    "vanc_664 = pd.concat([vanc_664_1,vanc_664_2], axis = 0)\n",
    "vanc_664['zipcode'] = 98664 \n",
    "print len(vanc_664)\n",
    "print vanc_664.head(1)"
   ]
  },
  {
   "cell_type": "code",
   "execution_count": 17,
   "metadata": {
    "collapsed": false
   },
   "outputs": [
    {
     "name": "stdout",
     "output_type": "stream",
     "text": [
      "1944\n",
      "   beds $sqft           location      address     price  baths   sqft    days  \\\n",
      "0   3.0  $138  Cindy's Park View  Undisclosed  $245,000    2.5  1,772  8 days   \n",
      "\n",
      "   zipcode  \n",
      "0    98665  \n"
     ]
    }
   ],
   "source": [
    "vanc_665_1 = pd.read_csv('98665_1.csv')\n",
    "vanc_665_2 = pd.read_csv('98665_2.csv')\n",
    "vanc_665_3 = pd.read_csv('98665_3.csv')\n",
    "vanc_665_4 = pd.read_csv('98665_4.csv')\n",
    "vanc_665 = pd.concat([vanc_665_1,vanc_665_2,vanc_665_3,vanc_665_4], axis = 0)\n",
    "vanc_665['zipcode'] = 98665 \n",
    "print len(vanc_665)\n",
    "print vanc_665.head(1)"
   ]
  },
  {
   "cell_type": "code",
   "execution_count": 18,
   "metadata": {
    "collapsed": false
   },
   "outputs": [
    {
     "name": "stdout",
     "output_type": "stream",
     "text": [
      "2414\n",
      "   beds $sqft   location            address     price  baths   sqft    days  \\\n",
      "0   3.0  $124  Vancouver  11135 NE 43rd Cir  $214,000    2.5  1,723  4 days   \n",
      "\n",
      "   zipcode  \n",
      "0    98682  \n"
     ]
    }
   ],
   "source": [
    "vanc_682_1 = pd.read_csv('98682_1.csv')\n",
    "vanc_682_2 = pd.read_csv('98682_2.csv')\n",
    "vanc_682_3 = pd.read_csv('98682_3.csv')\n",
    "vanc_682_4 = pd.read_csv('98682_4.csv')\n",
    "vanc_682_5 = pd.read_csv('98682_5.csv')\n",
    "vanc_682 = pd.concat([vanc_682_1,vanc_682_2,vanc_682_3,vanc_682_4,vanc_682_5], axis = 0)\n",
    "vanc_682['zipcode'] = 98682 \n",
    "print len(vanc_682)\n",
    "print vanc_682.head(1)"
   ]
  },
  {
   "cell_type": "code",
   "execution_count": 19,
   "metadata": {
    "collapsed": false
   },
   "outputs": [
    {
     "name": "stdout",
     "output_type": "stream",
     "text": [
      "1898\n",
      "   beds $sqft      location            address     price  baths   sqft  \\\n",
      "0   4.0  $179  Clearmeadows  18617 SE 24th Cir  $380,000    2.5  2,119   \n",
      "\n",
      "     days  zipcode  \n",
      "0  3 days    98683  \n"
     ]
    }
   ],
   "source": [
    "vanc_683_1 = pd.read_csv('98683_1.csv')\n",
    "vanc_683_2 = pd.read_csv('98683_2.csv')\n",
    "vanc_683_3 = pd.read_csv('98683_3.csv')\n",
    "vanc_683_4 = pd.read_csv('98683_4.csv')\n",
    "\n",
    "vanc_683 = pd.concat([vanc_683_1,vanc_683_2,vanc_683_3,vanc_683_4], axis = 0)\n",
    "vanc_683['zipcode'] = 98683 \n",
    "print len(vanc_683)\n",
    "print vanc_683.head(1)"
   ]
  },
  {
   "cell_type": "code",
   "execution_count": 20,
   "metadata": {
    "collapsed": false
   },
   "outputs": [
    {
     "name": "stdout",
     "output_type": "stream",
     "text": [
      "986\n",
      "   beds $sqft   location            address     price  baths   sqft    days  \\\n",
      "0   4.0  $148  Vancouver  2408 NE 165th Ave  $330,000    2.5  2,222  17 hrs   \n",
      "\n",
      "   zipcode  \n",
      "0    98684  \n"
     ]
    }
   ],
   "source": [
    "vanc_684_1 = pd.read_csv('98684_1.csv')\n",
    "vanc_684_2 = pd.read_csv('98684_2.csv')\n",
    "\n",
    "vanc_684 = pd.concat([vanc_684_1,vanc_684_2], axis = 0)\n",
    "vanc_684['zipcode'] = 98684 \n",
    "print len(vanc_684)\n",
    "print vanc_684.head(1)"
   ]
  },
  {
   "cell_type": "code",
   "execution_count": 21,
   "metadata": {
    "collapsed": false
   },
   "outputs": [
    {
     "name": "stdout",
     "output_type": "stream",
     "text": [
      "1500\n",
      "[4.0 '$135' 'Whipple Creek' '314 NW 150th Way' '$310,000' 2.5 '2,287'\n",
      " '405 days' 98685]\n"
     ]
    }
   ],
   "source": [
    "vanc_685_1 = pd.read_csv('98685_1.csv')\n",
    "vanc_685_2 = pd.read_csv('98685_2.csv')\n",
    "vanc_685_3 = pd.read_csv('98685_3.csv')\n",
    "\n",
    "vanc_685 = pd.concat([vanc_685_1,vanc_685_2,vanc_685_3], axis = 0)\n",
    "vanc_685['zipcode'] = 98685 \n",
    "print len(vanc_685)\n",
    "print vanc_685.values[300]"
   ]
  },
  {
   "cell_type": "code",
   "execution_count": 22,
   "metadata": {
    "collapsed": false
   },
   "outputs": [
    {
     "name": "stdout",
     "output_type": "stream",
     "text": [
      "906\n",
      "[3.0 '$198' 'Sherwood Place' '4308 NE 101st St' '$282,875' 2.0 '1,427'\n",
      " '263 days' 98686]\n"
     ]
    }
   ],
   "source": [
    "vanc_686_1 = pd.read_csv('98686_1.csv')\n",
    "vanc_686_2 = pd.read_csv('98686_2.csv')\n",
    "\n",
    "\n",
    "vanc_686 = pd.concat([vanc_686_1,vanc_686_2], axis = 0)\n",
    "vanc_686['zipcode'] = 98686 \n",
    "print len(vanc_686)\n",
    "print vanc_686.values[300]"
   ]
  },
  {
   "cell_type": "code",
   "execution_count": 23,
   "metadata": {
    "collapsed": false
   },
   "outputs": [],
   "source": [
    "camas_e = pd.read_csv('Camas_E.csv')\n",
    "camas_n = pd.read_csv('Camas_N.csv')\n",
    "camas_ne = pd.read_csv('Camas_NE.csv')\n",
    "camas_s = pd.read_csv('Camas_S.csv')\n",
    "camas_w = pd.read_csv('Camas_W.csv')\n",
    "camas = pd.concat([camas_e,camas_n,camas_ne,camas_s,camas_w], axis = 0).dropna(axis=0, how='any')\n",
    "camas['zipcode'] = 98607 \n"
   ]
  },
  {
   "cell_type": "code",
   "execution_count": 24,
   "metadata": {
    "collapsed": true
   },
   "outputs": [],
   "source": [
    "Port = pd.concat([Port_202,Port_206,Port_212,Port_214,Port_217,Port_219,Port_220,Port_229,Port_232,Port_233], \\\n",
    "                 axis = 0).dropna(axis=0, how='any')"
   ]
  },
  {
   "cell_type": "code",
   "execution_count": 25,
   "metadata": {
    "collapsed": true
   },
   "outputs": [],
   "source": [
    "Vanc = pd.concat([vanc_661,vanc_663,vanc_664,vanc_665,vanc_682,vanc_683,vanc_684,vanc_685,vanc_686, camas],\\\n",
    "                 axis=0).dropna(axis=0, how='any')"
   ]
  },
  {
   "cell_type": "code",
   "execution_count": 26,
   "metadata": {
    "collapsed": true
   },
   "outputs": [],
   "source": [
    "school_rating = pd.read_csv('school.csv')"
   ]
  },
  {
   "cell_type": "code",
   "execution_count": 27,
   "metadata": {
    "collapsed": false
   },
   "outputs": [
    {
     "name": "stdout",
     "output_type": "stream",
     "text": [
      "23099\n"
     ]
    }
   ],
   "source": [
    "port_house = pd.concat([Port,Vanc],axis=0)\n",
    "port_area = pd.merge(port_house,school_rating,how ='outer', on= 'zipcode').dropna(axis=0, how='any')\n",
    "print len(port_area)"
   ]
  },
  {
   "cell_type": "code",
   "execution_count": 28,
   "metadata": {
    "collapsed": false
   },
   "outputs": [
    {
     "name": "stdout",
     "output_type": "stream",
     "text": [
      "[dtype('float64'), dtype('O'), dtype('O'), dtype('O'), dtype('O'), dtype('float64'), dtype('O'), dtype('O'), dtype('int64'), dtype('float64'), dtype('float64'), dtype('float64'), dtype('O')]\n",
      "<class 'pandas.core.frame.DataFrame'>\n"
     ]
    }
   ],
   "source": [
    "port_area['price'] = port_area['price'].str.lstrip('$')\n",
    "port_area['$sqft'] = port_area['$sqft'].str.lstrip('$')\n",
    "port_area['days'] = port_area['days'].str.rstrip('days')\n",
    "port_area['address'] = port_area['address'].str.rstrip('Sold by: Redfin')\n",
    "port_area['price'] = port_area['price'].str.replace(',','')\n",
    "port_area['sqft'] = port_area['sqft'].str.replace(',','')\n",
    "#port_area\n",
    "print map(lambda col: port_area[col].dtype, port_area)\n",
    "print type(port_area)\n"
   ]
  },
  {
   "cell_type": "code",
   "execution_count": 29,
   "metadata": {
    "collapsed": false
   },
   "outputs": [],
   "source": [
    "port_area['price'] = pd.to_numeric(port_area['price'], errors='coerce')\n",
    "port_area['$sqft'] = pd.to_numeric(port_area['$sqft'], errors='coerce')\n",
    "port_area['sqft'] = pd.to_numeric(port_area['sqft'], errors='coerce')"
   ]
  },
  {
   "cell_type": "code",
   "execution_count": 48,
   "metadata": {
    "collapsed": false
   },
   "outputs": [
    {
     "name": "stdout",
     "output_type": "stream",
     "text": [
      "2016-08-11\n"
     ]
    }
   ],
   "source": [
    "from datetime import datetime, timedelta, date\n",
    "#import time\n",
    "#from datetime import date\n",
    "port_area['days'] = pd.to_numeric(port_area['days'], errors='coerce')\n",
    "\n",
    "#print port_area['days']\n",
    "d0 = date(2016, 8, 11)\n",
    "print d0\n",
    "#n = port_area['days'][0]\n",
    "#print type(n)\n",
    "#date_N_days_ago = d0 - timedelta(days=n)\n",
    "\n",
    "port_area = port_area.dropna(axis=0, how='any')\n",
    "\n",
    "port_area['sold_date']= map(lambda x: d0-timedelta(days=x), port_area['days'])\n"
   ]
  },
  {
   "cell_type": "code",
   "execution_count": 50,
   "metadata": {
    "collapsed": false
   },
   "outputs": [
    {
     "name": "stdout",
     "output_type": "stream",
     "text": [
      "   beds  $sqft           location                  address     price  baths  \\\n",
      "0   3.0  282.0           Portland     3613 SE Rhine StList  510000.0    2.5   \n",
      "1   3.0  466.0   Clinton-Division  2109 SE Tibbetts StList  450000.0    1.0   \n",
      "2   3.0  262.0           Portland     3617 SE Rhine StList  480000.0    2.5   \n",
      "3   2.0  263.0  Hosford-Abernathy      2124 SE Ivon StList  578000.0    2.5   \n",
      "4   3.0  247.0           Portland     2821 SE 22nd AveList  412000.0    2.5   \n",
      "\n",
      "   sqft   days  zipcode  elementary_rating  middle_rating  high_rating  \\\n",
      "0  1804   30.0    97202                9.0            9.5          6.0   \n",
      "1   964   51.0    97202                9.0            9.5          6.0   \n",
      "2  1829  176.0    97202                9.0            9.5          6.0   \n",
      "3  2192  353.0    97202                9.0            9.5          6.0   \n",
      "4  1666  662.0    97202                9.0            9.5          6.0   \n",
      "\n",
      "          city   sold_date  \n",
      "0  Portland OR  2016-07-12  \n",
      "1  Portland OR  2016-06-21  \n",
      "2  Portland OR  2016-02-17  \n",
      "3  Portland OR  2015-08-24  \n",
      "4  Portland OR  2014-10-19  \n"
     ]
    }
   ],
   "source": [
    "print port_area.head(5)"
   ]
  },
  {
   "cell_type": "code",
   "execution_count": 51,
   "metadata": {
    "collapsed": true
   },
   "outputs": [],
   "source": [
    "port_area.to_csv('port_area_house.csv')"
   ]
  },
  {
   "cell_type": "code",
   "execution_count": null,
   "metadata": {
    "collapsed": true
   },
   "outputs": [],
   "source": []
  },
  {
   "cell_type": "code",
   "execution_count": null,
   "metadata": {
    "collapsed": true
   },
   "outputs": [],
   "source": []
  },
  {
   "cell_type": "code",
   "execution_count": null,
   "metadata": {
    "collapsed": true
   },
   "outputs": [],
   "source": []
  },
  {
   "cell_type": "code",
   "execution_count": null,
   "metadata": {
    "collapsed": true
   },
   "outputs": [],
   "source": []
  },
  {
   "cell_type": "code",
   "execution_count": null,
   "metadata": {
    "collapsed": true
   },
   "outputs": [],
   "source": []
  },
  {
   "cell_type": "code",
   "execution_count": null,
   "metadata": {
    "collapsed": true
   },
   "outputs": [],
   "source": []
  },
  {
   "cell_type": "code",
   "execution_count": null,
   "metadata": {
    "collapsed": true
   },
   "outputs": [],
   "source": []
  },
  {
   "cell_type": "code",
   "execution_count": 184,
   "metadata": {
    "collapsed": false
   },
   "outputs": [
    {
     "name": "stdout",
     "output_type": "stream",
     "text": [
      "2016-08-13 19:04:38.304563\n",
      "2016-08-09\n"
     ]
    }
   ],
   "source": [
    "from datetime import datetime, timedelta\n",
    "\n",
    "N = 2\n",
    "\n",
    "date_N_days_ago = d0 - timedelta(days=N)\n",
    "\n",
    "print datetime.now()\n",
    "print date_N_days_ago"
   ]
  },
  {
   "cell_type": "code",
   "execution_count": null,
   "metadata": {
    "collapsed": false
   },
   "outputs": [],
   "source": [
    "from datetime import datetime, timedelta\n",
    "\n",
    "N = 2\n",
    "\n",
    "date_N_days_ago = datetime.now() - timedelta(days=N)\n",
    "\n",
    "print datetime.now()\n",
    "print date_N_days_ago"
   ]
  },
  {
   "cell_type": "code",
   "execution_count": null,
   "metadata": {
    "collapsed": true
   },
   "outputs": [],
   "source": []
  },
  {
   "cell_type": "code",
   "execution_count": null,
   "metadata": {
    "collapsed": true
   },
   "outputs": [],
   "source": []
  },
  {
   "cell_type": "code",
   "execution_count": null,
   "metadata": {
    "collapsed": true
   },
   "outputs": [],
   "source": []
  },
  {
   "cell_type": "code",
   "execution_count": null,
   "metadata": {
    "collapsed": true
   },
   "outputs": [],
   "source": []
  },
  {
   "cell_type": "code",
   "execution_count": null,
   "metadata": {
    "collapsed": true
   },
   "outputs": [],
   "source": []
  },
  {
   "cell_type": "code",
   "execution_count": null,
   "metadata": {
    "collapsed": true
   },
   "outputs": [],
   "source": []
  },
  {
   "cell_type": "code",
   "execution_count": null,
   "metadata": {
    "collapsed": true
   },
   "outputs": [],
   "source": []
  },
  {
   "cell_type": "code",
   "execution_count": null,
   "metadata": {
    "collapsed": true
   },
   "outputs": [],
   "source": []
  },
  {
   "cell_type": "code",
   "execution_count": null,
   "metadata": {
    "collapsed": true
   },
   "outputs": [],
   "source": []
  },
  {
   "cell_type": "code",
   "execution_count": null,
   "metadata": {
    "collapsed": true
   },
   "outputs": [],
   "source": []
  },
  {
   "cell_type": "code",
   "execution_count": null,
   "metadata": {
    "collapsed": true
   },
   "outputs": [],
   "source": []
  },
  {
   "cell_type": "code",
   "execution_count": null,
   "metadata": {
    "collapsed": true
   },
   "outputs": [],
   "source": []
  },
  {
   "cell_type": "code",
   "execution_count": null,
   "metadata": {
    "collapsed": true
   },
   "outputs": [],
   "source": []
  }
 ],
 "metadata": {
  "kernelspec": {
   "display_name": "Python 2",
   "language": "python",
   "name": "python2"
  },
  "language_info": {
   "codemirror_mode": {
    "name": "ipython",
    "version": 2
   },
   "file_extension": ".py",
   "mimetype": "text/x-python",
   "name": "python",
   "nbconvert_exporter": "python",
   "pygments_lexer": "ipython2",
   "version": "2.7.11"
  }
 },
 "nbformat": 4,
 "nbformat_minor": 0
}
