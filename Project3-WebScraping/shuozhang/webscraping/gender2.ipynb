{
 "cells": [
  {
   "cell_type": "code",
   "execution_count": 11,
   "metadata": {
    "collapsed": false
   },
   "outputs": [],
   "source": [
    "webs=['http://www.sports-reference.com/olympics/summer/2012/ARC/',\\\n",
    "      'http://www.sports-reference.com/olympics/summer/2012/ATH/',\\\n",
    "     'http://www.sports-reference.com/olympics/summer/2012/BDM/',\\\n",
    "     'http://www.sports-reference.com/olympics/summer/2012/BAS/',\\\n",
    "     'http://www.sports-reference.com/olympics/summer/2012/BVO/',\\\n",
    "     'http://www.sports-reference.com/olympics/summer/2012/BOX/',\\\n",
    "     'http://www.sports-reference.com/olympics/summer/2012/CAN/',\\\n",
    "     'http://www.sports-reference.com/olympics/summer/2012/CYC/',\\\n",
    "     'http://www.sports-reference.com/olympics/summer/2012/DIV/',\\\n",
    "     'http://www.sports-reference.com/olympics/summer/2012/EQU/',\\\n",
    "     'http://www.sports-reference.com/olympics/summer/2012/FEN/',\\\n",
    "     'http://www.sports-reference.com/olympics/summer/2012/FTB/',\\\n",
    "     'http://www.sports-reference.com/olympics/summer/2012/GYM/',\\\n",
    "     'http://www.sports-reference.com/olympics/summer/2012/HAN/',\\\n",
    "     'http://www.sports-reference.com/olympics/summer/2012/HOK/',\\\n",
    "     'http://www.sports-reference.com/olympics/summer/2012/JUD/',\\\n",
    "     'http://www.sports-reference.com/olympics/summer/2012/MOP/',\\\n",
    "     'http://www.sports-reference.com/olympics/summer/2012/RGY/',\\\n",
    "     'http://www.sports-reference.com/olympics/summer/2012/ROW/',\\\n",
    "     'http://www.sports-reference.com/olympics/summer/2012/SAI/',\\\n",
    "     'http://www.sports-reference.com/olympics/summer/2012/SHO/',\\\n",
    "     'http://www.sports-reference.com/olympics/summer/2012/SWI/',\\\n",
    "     'http://www.sports-reference.com/olympics/summer/2012/SYN/',\\\n",
    "     'http://www.sports-reference.com/olympics/summer/2012/TTN/',\\\n",
    "     'http://www.sports-reference.com/olympics/summer/2012/TKW/',\\\n",
    "     'http://www.sports-reference.com/olympics/summer/2012/TEN/',\\\n",
    "     'http://www.sports-reference.com/olympics/summer/2012/TMP/',\\\n",
    "     'http://www.sports-reference.com/olympics/summer/2012/TRI/',\\\n",
    "     'http://www.sports-reference.com/olympics/summer/2012/VOL/',\\\n",
    "     'http://www.sports-reference.com/olympics/summer/2012/WAP/',\\\n",
    "     'http://www.sports-reference.com/olympics/summer/2012/WLT/',\\\n",
    "     'http://www.sports-reference.com/olympics/summer/2012/WRE/']\n",
    "from bs4 import BeautifulSoup\n",
    "import urllib2\n",
    "web='http://www.sports-reference.com/olympics/summer/2012/'\n",
    "req = urllib2.Request(web)\n",
    "page = urllib2.urlopen(req)\n",
    "soup = BeautifulSoup(page, \"lxml\")\n",
    "table = soup.find(\"div\", { \"id\" : \"div_sports\" })\n",
    "sports=[]\n",
    "for row in table.findAll(\"tr\"):\n",
    "    result = row.findAll(\"td\")\n",
    "    if len(result) == 1:\n",
    "        sports.append(result[0].get_text())"
   ]
  },
  {
   "cell_type": "code",
   "execution_count": 12,
   "metadata": {
    "collapsed": false
   },
   "outputs": [],
   "source": [
    "from bs4 import BeautifulSoup\n",
    "import urllib2\n",
    "for i in range(len(webs)):\n",
    "    req=urllib2.Request(webs[i])\n",
    "    page=urllib2.urlopen(req)\n",
    "    soup=BeautifulSoup(page, 'lxml')\n",
    "    table=soup.findAll('div', {'class': 'table_container'})\n",
    "    A=[]\n",
    "    for row in soup.findAll('tr'):\n",
    "        result=row.findAll('td')\n",
    "        if len(result)==4:\n",
    "            A.append(result[0].get_text())\n",
    "    import pandas as pd\n",
    "    import numpy as np\n",
    "    df=pd.DataFrame(A, columns=['Event'])\n",
    "    df['Sports']=np.repeat(sports[i],df.shape[0])\n",
    "    df.to_csv(r'gender2.txt', header=None, index=None, sep=',', mode='a', encoding='utf-8')"
   ]
  },
  {
   "cell_type": "code",
   "execution_count": null,
   "metadata": {
    "collapsed": true
   },
   "outputs": [],
   "source": []
  }
 ],
 "metadata": {
  "kernelspec": {
   "display_name": "Python 2",
   "language": "python",
   "name": "python2"
  },
  "language_info": {
   "codemirror_mode": {
    "name": "ipython",
    "version": 2
   },
   "file_extension": ".py",
   "mimetype": "text/x-python",
   "name": "python",
   "nbconvert_exporter": "python",
   "pygments_lexer": "ipython2",
   "version": "2.7.11"
  }
 },
 "nbformat": 4,
 "nbformat_minor": 0
}
