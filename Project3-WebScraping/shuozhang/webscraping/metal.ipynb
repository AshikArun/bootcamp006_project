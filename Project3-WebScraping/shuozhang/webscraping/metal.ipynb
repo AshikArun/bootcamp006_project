{
 "cells": [
  {
   "cell_type": "code",
   "execution_count": 1,
   "metadata": {
    "collapsed": true
   },
   "outputs": [],
   "source": [
    "from bs4 import BeautifulSoup\n",
    "import urllib2\n",
    "web='http://www.sports-reference.com/olympics/summer/2012/'\n",
    "req = urllib2.Request(web)\n",
    "page = urllib2.urlopen(req)\n",
    "soup = BeautifulSoup(page, \"lxml\")\n",
    "table = soup.find(\"div\", { \"class\" : \"table_container\" })\n",
    "cells=[]\n",
    "for row in table.findAll(\"tr\"):\n",
    "    result = row.findAll(\"td\")\n",
    "    if len(result) == 6:\n",
    "        dic = {}\n",
    "        dic[\"Rank\"] = result[0].get_text()\n",
    "        dic[\"Country\"] = result[1].get_text()\n",
    "        dic[\"Gold\"] = result[2].get_text()\n",
    "        dic[\"Silver\"] = result[3].get_text()\n",
    "        dic[\"Bronze\"] = result[4].get_text()\n",
    "        dic[\"Total\"] = result[5].get_text()\n",
    "        cells.append(dic)\n",
    "import pandas as pd\n",
    "import numpy as np\n",
    "data=pd.DataFrame(cells)\n",
    "data['year']=np.repeat(2012,data.shape[0])\n",
    "data.to_csv(r'output.txt', header=True, index=None, sep=',', mode='a')"
   ]
  },
  {
   "cell_type": "code",
   "execution_count": 4,
   "metadata": {
    "collapsed": false
   },
   "outputs": [
    {
     "data": {
      "text/plain": [
       "27"
      ]
     },
     "execution_count": 4,
     "metadata": {},
     "output_type": "execute_result"
    }
   ],
   "source": [
    "webs=['http://www.sports-reference.com/olympics/summer/2008/',\\\n",
    "     'http://www.sports-reference.com/olympics/summer/2004/',\\\n",
    "     'http://www.sports-reference.com/olympics/summer/2000/',\\\n",
    "     'http://www.sports-reference.com/olympics/summer/1996/',\\\n",
    "     'http://www.sports-reference.com/olympics/summer/1992/',\\\n",
    "     'http://www.sports-reference.com/olympics/summer/1988/',\\\n",
    "      'http://www.sports-reference.com/olympics/summer/1984/',\\\n",
    "      'http://www.sports-reference.com/olympics/summer/1980/',\\\n",
    "      'http://www.sports-reference.com/olympics/summer/1976/',\\\n",
    "      'http://www.sports-reference.com/olympics/summer/1972/',\\\n",
    "      'http://www.sports-reference.com/olympics/summer/1968/',\\\n",
    "      'http://www.sports-reference.com/olympics/summer/1964/',\\\n",
    "      'http://www.sports-reference.com/olympics/summer/1960/',\\\n",
    "      'http://www.sports-reference.com/olympics/summer/1956/',\\\n",
    "      'http://www.sports-reference.com/olympics/summer/1952/',\\\n",
    "      'http://www.sports-reference.com/olympics/summer/1948/',\\\n",
    "      'http://www.sports-reference.com/olympics/summer/1936/',\\\n",
    "      'http://www.sports-reference.com/olympics/summer/1932/',\\\n",
    "      'http://www.sports-reference.com/olympics/summer/1928/',\\\n",
    "      'http://www.sports-reference.com/olympics/summer/1924/',\\\n",
    "      'http://www.sports-reference.com/olympics/summer/1920/',\\\n",
    "      'http://www.sports-reference.com/olympics/summer/1912/',\\\n",
    "      'http://www.sports-reference.com/olympics/summer/1908/',\\\n",
    "      'http://www.sports-reference.com/olympics/summer/1906/',\\\n",
    "      'http://www.sports-reference.com/olympics/summer/1904/',\\\n",
    "      'http://www.sports-reference.com/olympics/summer/1900/',\\\n",
    "      'http://www.sports-reference.com/olympics/summer/1896/']\n",
    "years=[2008, 2004, 2000, 1996, 1992, 1988, 1984, 1980, 1976, 1972, 1968, 1964, 1960, 1956, 1952,\\\n",
    "      1948, 1936, 1932, 1928, 1924, 1920, 1912, 1908, 1906, 1904, 1900, 1896]"
   ]
  },
  {
   "cell_type": "code",
   "execution_count": 3,
   "metadata": {
    "collapsed": true
   },
   "outputs": [],
   "source": [
    "for i in range(len(webs)):\n",
    "    req = urllib2.Request(webs[i])\n",
    "    page = urllib2.urlopen(req)\n",
    "    soup = BeautifulSoup(page, \"lxml\")\n",
    "    table = soup.find(\"div\", { \"class\" : \"table_container\" })\n",
    "    cells=[]\n",
    "    for row in table.findAll(\"tr\"):\n",
    "        result = row.findAll(\"td\")\n",
    "        if len(result) == 6:\n",
    "            dic = {}\n",
    "            dic[\"Rank\"] = result[0].get_text()\n",
    "            dic[\"Country\"] = result[1].get_text()\n",
    "            dic[\"Gold\"] = result[2].get_text()\n",
    "            dic[\"Silver\"] = result[3].get_text()\n",
    "            dic[\"Bronze\"] = result[4].get_text()\n",
    "            dic[\"Total\"] = result[5].get_text()\n",
    "            cells.append(dic)\n",
    "    data=pd.DataFrame(cells)\n",
    "    data['year']=np.repeat(years[i],data.shape[0])\n",
    "    data.to_csv(r'output.txt', header=None, index=None, sep=',', mode='a')"
   ]
  },
  {
   "cell_type": "code",
   "execution_count": null,
   "metadata": {
    "collapsed": true
   },
   "outputs": [],
   "source": []
  }
 ],
 "metadata": {
  "kernelspec": {
   "display_name": "Python 2",
   "language": "python",
   "name": "python2"
  },
  "language_info": {
   "codemirror_mode": {
    "name": "ipython",
    "version": 2
   },
   "file_extension": ".py",
   "mimetype": "text/x-python",
   "name": "python",
   "nbconvert_exporter": "python",
   "pygments_lexer": "ipython2",
   "version": "2.7.11"
  }
 },
 "nbformat": 4,
 "nbformat_minor": 0
}
