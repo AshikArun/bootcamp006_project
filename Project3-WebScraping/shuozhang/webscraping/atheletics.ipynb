{
 "cells": [
  {
   "cell_type": "code",
   "execution_count": 94,
   "metadata": {
    "collapsed": true
   },
   "outputs": [],
   "source": [
    "from bs4 import BeautifulSoup\n",
    "import urllib2\n",
    "web='http://www.sports-reference.com/olympics/summer/2012/ATH/'\n",
    "req = urllib2.Request(web)\n",
    "page = urllib2.urlopen(req)\n",
    "soup = BeautifulSoup(page, \"lxml\")\n",
    "table = soup.find(\"div\", { \"class\" : \"table_container\" })\n",
    "A=[]\n",
    "B=[]\n",
    "C=[]\n",
    "D=[]\n",
    "E=[]"
   ]
  },
  {
   "cell_type": "code",
   "execution_count": 95,
   "metadata": {
    "collapsed": false
   },
   "outputs": [],
   "source": [
    "for row in table.findAll(\"tr\"):\n",
    "    result = row.findAll(\"td\")\n",
    "    if len(result) == 4:\n",
    "        A.append(result[0].get_text())\n",
    "        for tag in [result[1]]:\n",
    "            try:\n",
    "                B.append(tag.img['title'])\n",
    "            except:\n",
    "                pass\n",
    "        for tag in [result[2]]:\n",
    "            try:\n",
    "                C.append(tag.img['title'])\n",
    "            except:\n",
    "                pass\n",
    "        for tag in [result[3]]:\n",
    "            try:\n",
    "                D.append(tag.img['title'])\n",
    "            except:\n",
    "                pass\n",
    "        for tag in result:\n",
    "            try:\n",
    "                E.append(tag.img['title'])\n",
    "            except:\n",
    "                pass\n",
    "        "
   ]
  },
  {
   "cell_type": "code",
   "execution_count": 96,
   "metadata": {
    "collapsed": false
   },
   "outputs": [],
   "source": [
    "import pandas as pd\n",
    "import numpy as np"
   ]
  },
  {
   "cell_type": "code",
   "execution_count": 97,
   "metadata": {
    "collapsed": false
   },
   "outputs": [],
   "source": [
    "df=pd.DataFrame(A,columns=['Event'])"
   ]
  },
  {
   "cell_type": "code",
   "execution_count": 98,
   "metadata": {
    "collapsed": true
   },
   "outputs": [],
   "source": [
    "df['Gold']=B\n",
    "df['Silver']=C\n",
    "df['Bronze']=D"
   ]
  },
  {
   "cell_type": "code",
   "execution_count": 99,
   "metadata": {
    "collapsed": false
   },
   "outputs": [],
   "source": [
    "df['Gold Score']=3*np.ones(len(A))\n",
    "df['Silver Score']=2*np.ones(len(A))\n",
    "df['Bronze Score']=1*np.ones(len(A))"
   ]
  },
  {
   "cell_type": "code",
   "execution_count": 100,
   "metadata": {
    "collapsed": false
   },
   "outputs": [],
   "source": [
    "F=list(set(E))\n",
    "Score=[]\n",
    "Country=F\n",
    "for i in range(len(F)):\n",
    "    Score.append(sum(df.loc[df['Gold']==F[i]]['Gold Score'])+sum(df.loc[df['Silver']==F[i]]['Silver Score'])\\\n",
    "                  +sum(df.loc[df['Bronze']==F[i]]['Bronze Score']))"
   ]
  },
  {
   "cell_type": "code",
   "execution_count": 101,
   "metadata": {
    "collapsed": true
   },
   "outputs": [],
   "source": [
    "df1=pd.DataFrame(Country, columns=['Country'])\n",
    "df1['Score']=Score"
   ]
  },
  {
   "cell_type": "code",
   "execution_count": 102,
   "metadata": {
    "collapsed": false
   },
   "outputs": [],
   "source": [
    "df1['year']=np.repeat(2012,df1.shape[0])\n",
    "df1['Percent']=df1.Score/sum(df1.Score)"
   ]
  },
  {
   "cell_type": "code",
   "execution_count": 103,
   "metadata": {
    "collapsed": true
   },
   "outputs": [],
   "source": [
    "df1.to_csv(r'athletics.txt', header=True, index=None, sep=',', mode='a')"
   ]
  },
  {
   "cell_type": "code",
   "execution_count": null,
   "metadata": {
    "collapsed": true
   },
   "outputs": [],
   "source": []
  }
 ],
 "metadata": {
  "kernelspec": {
   "display_name": "Python 2",
   "language": "python",
   "name": "python2"
  },
  "language_info": {
   "codemirror_mode": {
    "name": "ipython",
    "version": 2
   },
   "file_extension": ".py",
   "mimetype": "text/x-python",
   "name": "python",
   "nbconvert_exporter": "python",
   "pygments_lexer": "ipython2",
   "version": "2.7.11"
  }
 },
 "nbformat": 4,
 "nbformat_minor": 0
}
