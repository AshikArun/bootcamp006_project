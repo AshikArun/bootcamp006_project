{
 "cells": [
  {
   "cell_type": "code",
   "execution_count": 22,
   "metadata": {
    "collapsed": false
   },
   "outputs": [],
   "source": [
    "webs=['http://www.sports-reference.com/olympics/summer/2008/ATH/',\\\n",
    "     'http://www.sports-reference.com/olympics/summer/2004/ATH/',\\\n",
    "     'http://www.sports-reference.com/olympics/summer/2000/ATH/',\\\n",
    "     'http://www.sports-reference.com/olympics/summer/1996/ATH/',\\\n",
    "     'http://www.sports-reference.com/olympics/summer/1992/ATH/',\\\n",
    "     'http://www.sports-reference.com/olympics/summer/1988/ATH/',\\\n",
    "     'http://www.sports-reference.com/olympics/summer/1984/ATH/',\\\n",
    "     'http://www.sports-reference.com/olympics/summer/1980/ATH/',\\\n",
    "     'http://www.sports-reference.com/olympics/summer/1976/ATH/',\\\n",
    "     'http://www.sports-reference.com/olympics/summer/1972/ATH/',\\\n",
    "     'http://www.sports-reference.com/olympics/summer/1968/ATH/',\\\n",
    "     'http://www.sports-reference.com/olympics/summer/1964/ATH/',\\\n",
    "     'http://www.sports-reference.com/olympics/summer/1960/ATH/',\\\n",
    "     'http://www.sports-reference.com/olympics/summer/1956/ATH/',\\\n",
    "     'http://www.sports-reference.com/olympics/summer/1952/ATH/',\\\n",
    "     'http://www.sports-reference.com/olympics/summer/1948/ATH/',\\\n",
    "     'http://www.sports-reference.com/olympics/summer/1936/ATH/',\\\n",
    "     'http://www.sports-reference.com/olympics/summer/1932/ATH/',\\\n",
    "     'http://www.sports-reference.com/olympics/summer/1928/ATH/',\\\n",
    "     'http://www.sports-reference.com/olympics/summer/1924/ATH/',\\\n",
    "     'http://www.sports-reference.com/olympics/summer/1920/ATH/',\\\n",
    "     'http://www.sports-reference.com/olympics/summer/1912/ATH/',\\\n",
    "     'http://www.sports-reference.com/olympics/summer/1908/ATH/',\\\n",
    "     'http://www.sports-reference.com/olympics/summer/1906/ATH/',\\\n",
    "     'http://www.sports-reference.com/olympics/summer/1904/ATH/',\\\n",
    "     'http://www.sports-reference.com/olympics/summer/1900/ATH/',\\\n",
    "     'http://www.sports-reference.com/olympics/summer/1896/ATH/']\n",
    "years=[2008, 2004, 2000, 1996, 1992, 1988, 1984, 1980, 1976, 1972, 1968, 1964, 1960, 1956, 1952,\\\n",
    "      1948, 1936, 1932, 1928, 1924, 1920, 1912, 1908, 1906, 1904, 1900, 1896]"
   ]
  },
  {
   "cell_type": "code",
   "execution_count": 23,
   "metadata": {
    "collapsed": false
   },
   "outputs": [],
   "source": [
    "for i in range(len(webs)):\n",
    "    from bs4 import BeautifulSoup\n",
    "    import urllib2\n",
    "    import pandas as pd\n",
    "    import numpy as np\n",
    "    req = urllib2.Request(webs[i])\n",
    "    page = urllib2.urlopen(req)\n",
    "    soup = BeautifulSoup(page, \"lxml\")\n",
    "    table = soup.find(\"div\", { \"class\" : \"table_container\" })\n",
    "    A=[]\n",
    "    B=[]\n",
    "    C=[]\n",
    "    D=[]\n",
    "    E=[]\n",
    "    for row in table.findAll(\"tr\"):\n",
    "        result = row.findAll(\"td\")\n",
    "        if len(result) == 4:\n",
    "            A.append(result[0].get_text())\n",
    "            for tag in [result[1]]:\n",
    "                try:\n",
    "                    B.append(tag.img['title'])\n",
    "                except:\n",
    "                    pass\n",
    "            for tag in [result[2]]:\n",
    "                try:\n",
    "                    C.append(tag.img['title'])\n",
    "                except:\n",
    "                    pass\n",
    "            for tag in [result[3]]:\n",
    "                try:\n",
    "                    D.append(tag.img['title'])\n",
    "                except:\n",
    "                    pass\n",
    "            for tag in result:\n",
    "                try:\n",
    "                    E.append(tag.img['title'])\n",
    "                except:\n",
    "                    pass\n",
    "    df=pd.DataFrame(A,columns=['Event'])\n",
    "    df4=pd.DataFrame(B, columns=['Gold'])\n",
    "    df3=pd.DataFrame(C, columns=['Silver'])\n",
    "    df2=pd.DataFrame(D, columns=['Bronze'])\n",
    "    df['Gold Score']=3*np.ones(len(A))\n",
    "    df['Silver Score']=2*np.ones(len(A))\n",
    "    df['Bronze Score']=1*np.ones(len(A))\n",
    "    df=pd.concat([df,df4], axis=1)\n",
    "    df=pd.concat([df,df3], axis=1)\n",
    "    df=pd.concat([df,df2], axis=1)\n",
    "    F=list(set(E))\n",
    "    Score=[]\n",
    "    Country=F\n",
    "    for j in range(len(F)):\n",
    "        Score.append(sum(df.loc[df['Gold']==F[j]]['Gold Score'])+sum(df.loc[df['Silver']==F[j]]['Silver Score'])\\\n",
    "                  +sum(df.loc[df['Bronze']==F[j]]['Bronze Score']))\n",
    "    df1=pd.DataFrame(Country, columns=['Country'])\n",
    "    df1['Score']=Score\n",
    "    df1['year']=np.repeat(years[i],df1.shape[0])\n",
    "    df1['Percent']=df1.Score/sum(df1.Score)\n",
    "    df1.to_csv(r'athletics.txt', header=None, index=None, sep=',', mode='a')"
   ]
  },
  {
   "cell_type": "code",
   "execution_count": null,
   "metadata": {
    "collapsed": true
   },
   "outputs": [],
   "source": []
  },
  {
   "cell_type": "code",
   "execution_count": null,
   "metadata": {
    "collapsed": true
   },
   "outputs": [],
   "source": []
  }
 ],
 "metadata": {
  "kernelspec": {
   "display_name": "Python 2",
   "language": "python",
   "name": "python2"
  },
  "language_info": {
   "codemirror_mode": {
    "name": "ipython",
    "version": 2
   },
   "file_extension": ".py",
   "mimetype": "text/x-python",
   "name": "python",
   "nbconvert_exporter": "python",
   "pygments_lexer": "ipython2",
   "version": "2.7.11"
  }
 },
 "nbformat": 4,
 "nbformat_minor": 0
}
