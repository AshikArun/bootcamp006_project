{
 "cells": [
  {
   "cell_type": "code",
   "execution_count": 18,
   "metadata": {
    "collapsed": true
   },
   "outputs": [],
   "source": [
    "from bs4 import BeautifulSoup\n",
    "import urllib2\n",
    "web='http://www.sports-reference.com/olympics/summer/2012/SWI/'\n",
    "req = urllib2.Request(web)\n",
    "page = urllib2.urlopen(req)\n",
    "soup = BeautifulSoup(page, \"lxml\")\n",
    "table = soup.find(\"div\", { \"class\" : \"table_container\" })\n",
    "A=[]\n",
    "B=[]\n",
    "C=[]\n",
    "D=[]\n",
    "E=[]"
   ]
  },
  {
   "cell_type": "code",
   "execution_count": 19,
   "metadata": {
    "collapsed": false
   },
   "outputs": [],
   "source": [
    "for row in table.findAll(\"tr\"):\n",
    "    result = row.findAll(\"td\")\n",
    "    if len(result) == 4:\n",
    "        A.append(result[0].get_text())\n",
    "        for tag in [result[1]]:\n",
    "            try:\n",
    "                B.append(tag.img['title'])\n",
    "            except:\n",
    "                pass\n",
    "        for tag in [result[2]]:\n",
    "            try:\n",
    "                C.append(tag.img['title'])\n",
    "            except:\n",
    "                pass\n",
    "        for tag in [result[3]]:\n",
    "            try:\n",
    "                D.append(tag.img['title'])\n",
    "            except:\n",
    "                pass\n",
    "        for tag in result:\n",
    "            try:\n",
    "                E.append(tag.img['title'])\n",
    "            except:\n",
    "                pass\n",
    "import pandas as pd\n",
    "import numpy as np\n",
    "df=pd.DataFrame(A,columns=['Event'])\n",
    "df4=pd.DataFrame(B, columns=['Gold'])\n",
    "df3=pd.DataFrame(C, columns=['Silver'])\n",
    "df2=pd.DataFrame(D, columns=['Bronze'])\n",
    "df['Gold Score']=3*np.ones(len(A))\n",
    "df['Silver Score']=2*np.ones(len(A))\n",
    "df['Bronze Score']=1*np.ones(len(A))\n",
    "df=pd.concat([df,df4], axis=1)\n",
    "df=pd.concat([df,df3], axis=1)\n",
    "df=pd.concat([df,df2], axis=1)"
   ]
  },
  {
   "cell_type": "code",
   "execution_count": 20,
   "metadata": {
    "collapsed": false
   },
   "outputs": [],
   "source": [
    "F=list(set(E))\n",
    "Score=[]\n",
    "Country=F\n",
    "for i in range(len(F)):\n",
    "    Score.append(sum(df.loc[df['Gold']==F[i]]['Gold Score'])+sum(df.loc[df['Silver']==F[i]]['Silver Score'])\\\n",
    "                  +sum(df.loc[df['Bronze']==F[i]]['Bronze Score']))\n",
    "df1=pd.DataFrame(Country, columns=['Country'])\n",
    "df1['Score']=Score\n",
    "df1['year']=np.repeat(2012,df1.shape[0])\n",
    "df1['Percent']=df1.Score/sum(df1.Score)\n",
    "df1.to_csv(r'swimming.txt', header=True, index=None, sep=',', mode='a')"
   ]
  },
  {
   "cell_type": "code",
   "execution_count": null,
   "metadata": {
    "collapsed": true
   },
   "outputs": [],
   "source": []
  },
  {
   "cell_type": "code",
   "execution_count": null,
   "metadata": {
    "collapsed": true
   },
   "outputs": [],
   "source": []
  }
 ],
 "metadata": {
  "kernelspec": {
   "display_name": "Python 2",
   "language": "python",
   "name": "python2"
  },
  "language_info": {
   "codemirror_mode": {
    "name": "ipython",
    "version": 2
   },
   "file_extension": ".py",
   "mimetype": "text/x-python",
   "name": "python",
   "nbconvert_exporter": "python",
   "pygments_lexer": "ipython2",
   "version": "2.7.11"
  }
 },
 "nbformat": 4,
 "nbformat_minor": 0
}
