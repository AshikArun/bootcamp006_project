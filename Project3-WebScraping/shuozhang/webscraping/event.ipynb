{
 "cells": [
  {
   "cell_type": "code",
   "execution_count": 1,
   "metadata": {
    "collapsed": true
   },
   "outputs": [],
   "source": [
    "from bs4 import BeautifulSoup\n",
    "import urllib2\n",
    "web='http://www.sports-reference.com/olympics/summer/'\n",
    "req = urllib2.Request(web)\n",
    "page = urllib2.urlopen(req)\n",
    "soup = BeautifulSoup(page, \"lxml\")\n",
    "table = soup.find(\"div\", { \"id\" : \"div_Summer\" })"
   ]
  },
  {
   "cell_type": "code",
   "execution_count": 2,
   "metadata": {
    "collapsed": false
   },
   "outputs": [
    {
     "name": "stdout",
     "output_type": "stream",
     "text": [
      "                City Countries        Country Events    Men Participants  \\\n",
      "0             London       205  Great Britain  5,864  5,864       10,519   \n",
      "1            Beijing       204          China  6,290  6,290       10,901   \n",
      "2             Athina       201         Greece  6,257  6,257       10,561   \n",
      "3             Sydney       200      Australia  6,579  6,579       10,648   \n",
      "4            Atlanta       197  United States  6,819  6,819       10,342   \n",
      "5          Barcelona       169          Spain  6,659  6,659        9,386   \n",
      "6              Seoul       159    South Korea  6,249  6,249        8,453   \n",
      "7        Los Angeles       140  United States  5,224  5,224        6,799   \n",
      "8             Moskva        80   Soviet Union  4,135  4,135        5,259   \n",
      "9           Montréal        92         Canada  4,812  4,812        6,073   \n",
      "10           München       121   West Germany  6,052  6,052        7,113   \n",
      "11  Ciudad de México       112         Mexico  4,775  4,775        5,558   \n",
      "12             Tokyo        93          Japan  4,457  4,457        5,137   \n",
      "13              Roma        83          Italy  4,738  4,738        5,351   \n",
      "14         Melbourne        67      Australia  2,818  2,818        3,189   \n",
      "15          Helsinki        69        Finland  4,411  4,411        4,932   \n",
      "16            London        59  Great Britain  3,951  3,951        4,397   \n",
      "17            Berlin        49        Germany  4,124  4,124        4,484   \n",
      "18       Los Angeles        47  United States  1,719  1,719        1,921   \n",
      "19         Amsterdam        46    Netherlands  2,936  2,936        3,248   \n",
      "20             Paris        45         France  3,100  3,100        3,256   \n",
      "21         Antwerpen        29        Belgium  2,599  2,599        2,677   \n",
      "22         Stockholm        29         Sweden  2,356  2,356        2,424   \n",
      "23            London        22  Great Britain  1,980  1,980        2,024   \n",
      "24            Athina        21         Greece    835    835          841   \n",
      "25         St. Louis        15  United States    644    644          650   \n",
      "26             Paris        31         France  1,201  1,201        1,224   \n",
      "27            Athina        12         Greece    176    176          176   \n",
      "\n",
      "   Sports  Women  Year  \n",
      "0      32  4,655  2012  \n",
      "1      34  4,611  2008  \n",
      "2      34  4,304  2004  \n",
      "3      34  4,068  2000  \n",
      "4      31  3,520  1996  \n",
      "5      29  2,721  1992  \n",
      "6      27  2,202  1988  \n",
      "7      26  1,567  1984  \n",
      "8      23  1,123  1980  \n",
      "9      23  1,260  1976  \n",
      "10     23  1,060  1972  \n",
      "11     20    783  1968  \n",
      "12     21    680  1964  \n",
      "13     19    613  1960  \n",
      "14     18    371  1956  \n",
      "15     19    521  1952  \n",
      "16     21    445  1948  \n",
      "17     24    360  1936  \n",
      "18     18    202  1932  \n",
      "19     17    312  1928  \n",
      "20     20    156  1924  \n",
      "21     25     78  1920  \n",
      "22     17     53  1912  \n",
      "23     24     44  1908  \n",
      "24     13      6  1906  \n",
      "25     18      6  1904  \n",
      "26     20     23  1900  \n",
      "27      9      0  1896  \n"
     ]
    }
   ],
   "source": [
    "cells=[]\n",
    "for row in table.findAll(\"tr\"):\n",
    "    result = row.findAll(\"td\")\n",
    "    if len(result) == 9:\n",
    "        dic = {}\n",
    "        dic[\"Year\"] = result[0].get_text()\n",
    "        dic[\"City\"] = result[1].get_text()\n",
    "        dic[\"Country\"] = result[2].get_text()\n",
    "        dic[\"Countries\"] = result[3].get_text()\n",
    "        dic[\"Participants\"] = result[4].get_text()\n",
    "        dic[\"Men\"] = result[5].get_text()\n",
    "        dic[\"Women\"] = result[6].get_text()\n",
    "        dic[\"Sports\"] = result[7].get_text()\n",
    "        dic[\"Events\"] = result[5].get_text()\n",
    "        cells.append(dic)\n",
    "import pandas as pd\n",
    "import numpy as np\n",
    "data=pd.DataFrame(cells)\n"
   ]
  },
  {
   "cell_type": "code",
   "execution_count": 3,
   "metadata": {
    "collapsed": false
   },
   "outputs": [],
   "source": [
    "data.to_csv(r'event.txt', header=True, index=None, sep=',', mode='a', encoding='utf-8')"
   ]
  },
  {
   "cell_type": "code",
   "execution_count": null,
   "metadata": {
    "collapsed": true
   },
   "outputs": [],
   "source": []
  }
 ],
 "metadata": {
  "kernelspec": {
   "display_name": "Python 2",
   "language": "python",
   "name": "python2"
  },
  "language_info": {
   "codemirror_mode": {
    "name": "ipython",
    "version": 2
   },
   "file_extension": ".py",
   "mimetype": "text/x-python",
   "name": "python",
   "nbconvert_exporter": "python",
   "pygments_lexer": "ipython2",
   "version": "2.7.11"
  }
 },
 "nbformat": 4,
 "nbformat_minor": 0
}
