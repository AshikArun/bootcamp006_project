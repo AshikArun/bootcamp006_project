{
 "cells": [
  {
   "cell_type": "code",
   "execution_count": 32,
   "metadata": {
    "collapsed": false
   },
   "outputs": [],
   "source": [
    "from bs4 import BeautifulSoup\n",
    "import urllib2\n",
    "web='http://www.sports-reference.com/olympics/countries/USA/summer/2012/'\n",
    "req=urllib2.Request(web)\n",
    "page=urllib2.urlopen(req)\n",
    "soup=BeautifulSoup(page, 'lxml')\n",
    "table=soup.findAll('div', {'id':'div_athletes'})\n",
    "A=[]\n",
    "B=[]\n",
    "C=[]\n",
    "D=[]\n",
    "E=[]\n",
    "F=[]\n",
    "G=[]\n",
    "H=[]\n",
    "L=[]"
   ]
  },
  {
   "cell_type": "code",
   "execution_count": 33,
   "metadata": {
    "collapsed": false
   },
   "outputs": [],
   "source": [
    "for row in soup.findAll('tr'):\n",
    "    result=row.findAll('td')\n",
    "    if len(result)==9:\n",
    "        A.append(result[0].get_text())\n",
    "        B.append(result[1].get_text())\n",
    "        C.append(result[2].get_text())\n",
    "        D.append(result[3].get_text())\n",
    "        E.append(result[4].get_text())\n",
    "        F.append(result[5].get_text())\n",
    "        G.append(result[6].get_text())\n",
    "        H.append(result[7].get_text())\n",
    "        L.append(result[8].get_text())\n",
    "        "
   ]
  },
  {
   "cell_type": "code",
   "execution_count": 34,
   "metadata": {
    "collapsed": false
   },
   "outputs": [],
   "source": [
    "import pandas as pd\n",
    "df=pd.DataFrame(A, columns=['Rank'])"
   ]
  },
  {
   "cell_type": "code",
   "execution_count": 35,
   "metadata": {
    "collapsed": false
   },
   "outputs": [],
   "source": [
    "df['Athele']=B\n",
    "df['Gender']=C\n",
    "df['Age']=D\n",
    "df['Sport']=E\n",
    "df['Gold']=F\n",
    "df['Silver']=G\n",
    "df['Bronze']=H\n",
    "df['Total']=L"
   ]
  },
  {
   "cell_type": "code",
   "execution_count": 36,
   "metadata": {
    "collapsed": false
   },
   "outputs": [],
   "source": [
    "df.to_csv(r'gender.txt', header=True, index=None, sep=',', mode='a', encoding='utf-8')"
   ]
  },
  {
   "cell_type": "code",
   "execution_count": 37,
   "metadata": {
    "collapsed": true
   },
   "outputs": [],
   "source": [
    "webs=['http://www.sports-reference.com/olympics/countries/CHN/summer/2012/',\\\n",
    "      'http://www.sports-reference.com/olympics/countries/RUS/summer/2012/',\\\n",
    "      'http://www.sports-reference.com/olympics/countries/GBR/summer/2012/',\\\n",
    "      'http://www.sports-reference.com/olympics/countries/GER/summer/2012/',\\\n",
    "      'http://www.sports-reference.com/olympics/countries/JPN/summer/2012/',\\\n",
    "      'http://www.sports-reference.com/olympics/countries/FRA/summer/2012/',\\\n",
    "      'http://www.sports-reference.com/olympics/countries/AUS/summer/2012/',\\\n",
    "      'http://www.sports-reference.com/olympics/countries/KOR/summer/2012/',\\\n",
    "      'http://www.sports-reference.com/olympics/countries/ITA/summer/2012/',\\\n",
    "      'http://www.sports-reference.com/olympics/countries/NED/summer/2012/',\\\n",
    "      'http://www.sports-reference.com/olympics/countries/UKR/summer/2012/',\\\n",
    "      'http://www.sports-reference.com/olympics/countries/HUN/summer/2012/',\\\n",
    "      'http://www.sports-reference.com/olympics/countries/CAN/summer/2012/',\\\n",
    "      'http://www.sports-reference.com/olympics/countries/ESP/summer/2012/',\\\n",
    "      'http://www.sports-reference.com/olympics/countries/BRA/summer/2012/',\\\n",
    "      'http://www.sports-reference.com/olympics/countries/CUB/summer/2012/',\\\n",
    "      'http://www.sports-reference.com/olympics/countries/KAZ/summer/2012/',\\\n",
    "      'http://www.sports-reference.com/olympics/countries/NZL/summer/2012/',\\\n",
    "      'http://www.sports-reference.com/olympics/countries/IRI/summer/2012/',\\\n",
    "      'http://www.sports-reference.com/olympics/countries/JAM/summer/2012/',\\\n",
    "      'http://www.sports-reference.com/olympics/countries/BLR/summer/2012/',\\\n",
    "      'http://www.sports-reference.com/olympics/countries/KEN/summer/2012/',\\\n",
    "      'http://www.sports-reference.com/olympics/countries/CZE/summer/2012/',\\\n",
    "      'http://www.sports-reference.com/olympics/countries/AZE/summer/2012/',\\\n",
    "      'http://www.sports-reference.com/olympics/countries/POL/summer/2012/',\\\n",
    "      'http://www.sports-reference.com/olympics/countries/ROU/summer/2012/',\\\n",
    "      'http://www.sports-reference.com/olympics/countries/DEN/summer/2012/',\\\n",
    "      'http://www.sports-reference.com/olympics/countries/SWE/summer/2012/',\\\n",
    "      'http://www.sports-reference.com/olympics/countries/COL/summer/2012/',\\\n",
    "      'http://www.sports-reference.com/olympics/countries/ETH/summer/2012/',\\\n",
    "      'http://www.sports-reference.com/olympics/countries/MEX/summer/2012/',\\\n",
    "      'http://www.sports-reference.com/olympics/countries/GEO/summer/2012/',\\\n",
    "      'http://www.sports-reference.com/olympics/countries/PRK/summer/2012/',\\\n",
    "      'http://www.sports-reference.com/olympics/countries/RSA/summer/2012/',\\\n",
    "      'http://www.sports-reference.com/olympics/countries/CRO/summer/2012/',\\\n",
    "      'http://www.sports-reference.com/olympics/countries/IND/summer/2012/',\\\n",
    "      'http://www.sports-reference.com/olympics/countries/TUR/summer/2012/',\\\n",
    "      'http://www.sports-reference.com/olympics/countries/LTU/summer/2012/',\\\n",
    "      'http://www.sports-reference.com/olympics/countries/IRL/summer/2012/',\\\n",
    "      'http://www.sports-reference.com/olympics/countries/MGL/summer/2012/',\\\n",
    "      'http://www.sports-reference.com/olympics/countries/SUI/summer/2012/',\\\n",
    "      'http://www.sports-reference.com/olympics/countries/NOR/summer/2012/',\\\n",
    "      'http://www.sports-reference.com/olympics/countries/SLO/summer/2012/',\\\n",
    "      'http://www.sports-reference.com/olympics/countries/ARG/summer/2012/',\\\n",
    "      'http://www.sports-reference.com/olympics/countries/SRB/summer/2012/',\\\n",
    "      'http://www.sports-reference.com/olympics/countries/TTO/summer/2012/',\\\n",
    "      'http://www.sports-reference.com/olympics/countries/SVK/summer/2012/',\\\n",
    "      'http://www.sports-reference.com/olympics/countries/TUN/summer/2012/',\\\n",
    "      'http://www.sports-reference.com/olympics/countries/UZB/summer/2012/',\\\n",
    "      'http://www.sports-reference.com/olympics/countries/THA/summer/2012/',\\\n",
    "      'http://www.sports-reference.com/olympics/countries/BEL/summer/2012/',\\\n",
    "      'http://www.sports-reference.com/olympics/countries/ARM/summer/2012/',\\\n",
    "      'http://www.sports-reference.com/olympics/countries/FIN/summer/2012/',\\\n",
    "      'http://www.sports-reference.com/olympics/countries/DOM/summer/2012/',\\\n",
    "      'http://www.sports-reference.com/olympics/countries/LAT/summer/2012/',\\\n",
    "      'http://www.sports-reference.com/olympics/countries/EGY/summer/2012/',\\\n",
    "      'http://www.sports-reference.com/olympics/countries/TPE/summer/2012/',\\\n",
    "      'http://www.sports-reference.com/olympics/countries/INA/summer/2012/',\\\n",
    "      'http://www.sports-reference.com/olympics/countries/PUR/summer/2012/',\\\n",
    "      'http://www.sports-reference.com/olympics/countries/EST/summer/2012/',\\\n",
    "      'http://www.sports-reference.com/olympics/countries/BUL/summer/2012/',\\\n",
    "      'http://www.sports-reference.com/olympics/countries/MAS/summer/2012/',\\\n",
    "      'http://www.sports-reference.com/olympics/countries/GRE/summer/2012/',\\\n",
    "      'http://www.sports-reference.com/olympics/countries/SIN/summer/2012/',\\\n",
    "      'http://www.sports-reference.com/olympics/countries/MDA/summer/2012/',\\\n",
    "      'http://www.sports-reference.com/olympics/countries/QAT/summer/2012/',\\\n",
    "      'http://www.sports-reference.com/olympics/countries/GRN/summer/2012/',\\\n",
    "      'http://www.sports-reference.com/olympics/countries/ALG/summer/2012/',\\\n",
    "      'http://www.sports-reference.com/olympics/countries/UGA/summer/2012/',\\\n",
    "      'http://www.sports-reference.com/olympics/countries/BAH/summer/2012/',\\\n",
    "      'http://www.sports-reference.com/olympics/countries/VEN/summer/2012/',\\\n",
    "      'http://www.sports-reference.com/olympics/countries/GUA/summer/2012/',\\\n",
    "      'http://www.sports-reference.com/olympics/countries/BOT/summer/2012/',\\\n",
    "      'http://www.sports-reference.com/olympics/countries/POR/summer/2012/',\\\n",
    "      'http://www.sports-reference.com/olympics/countries/MNE/summer/2012/',\\\n",
    "      'http://www.sports-reference.com/olympics/countries/CYP/summer/2012/',\\\n",
    "      'http://www.sports-reference.com/olympics/countries/GAB/summer/2012/',\\\n",
    "      'http://www.sports-reference.com/olympics/countries/KSA/summer/2012/',\\\n",
    "      'http://www.sports-reference.com/olympics/countries/KUW/summer/2012/',\\\n",
    "      'http://www.sports-reference.com/olympics/countries/AFG/summer/2012/',\\\n",
    "      'http://www.sports-reference.com/olympics/countries/MAR/summer/2012/',\\\n",
    "      'http://www.sports-reference.com/olympics/countries/BRN/summer/2012/',\\\n",
    "      'http://www.sports-reference.com/olympics/countries/TJK/summer/2012/',\\\n",
    "      'http://www.sports-reference.com/olympics/countries/HKG/summer/2012/']"
   ]
  },
  {
   "cell_type": "code",
   "execution_count": 38,
   "metadata": {
    "collapsed": false
   },
   "outputs": [],
   "source": [
    "for i in range(len(webs)):\n",
    "    from bs4 import BeautifulSoup\n",
    "    import urllib2\n",
    "    req=urllib2.Request(webs[i])\n",
    "    page=urllib2.urlopen(req)\n",
    "    soup=BeautifulSoup(page, 'lxml')\n",
    "    table=soup.findAll('div', {'id':'div_athletes'})\n",
    "    A=[]\n",
    "    B=[]\n",
    "    C=[]\n",
    "    D=[]\n",
    "    E=[]\n",
    "    F=[]\n",
    "    G=[]\n",
    "    H=[]\n",
    "    L=[]\n",
    "    for row in soup.findAll('tr'):\n",
    "        result=row.findAll('td')\n",
    "        if len(result)==9:\n",
    "            A.append(result[0].get_text())\n",
    "            B.append(result[1].get_text())\n",
    "            C.append(result[2].get_text())\n",
    "            D.append(result[3].get_text())\n",
    "            E.append(result[4].get_text())\n",
    "            F.append(result[5].get_text())\n",
    "            G.append(result[6].get_text())\n",
    "            H.append(result[7].get_text())\n",
    "            L.append(result[8].get_text())\n",
    "    import pandas as pd\n",
    "    df=pd.DataFrame(A, columns=['Rank'])\n",
    "    df['Athele']=B\n",
    "    df['Gender']=C\n",
    "    df['Age']=D\n",
    "    df['Sport']=E\n",
    "    df['Gold']=F\n",
    "    df['Silver']=G\n",
    "    df['Bronze']=H\n",
    "    df['Total']=L\n",
    "    df.to_csv(r'gender.txt', header=None, index=None, sep=',', mode='a', encoding='utf-8')"
   ]
  },
  {
   "cell_type": "code",
   "execution_count": null,
   "metadata": {
    "collapsed": true
   },
   "outputs": [],
   "source": []
  }
 ],
 "metadata": {
  "kernelspec": {
   "display_name": "Python 2",
   "language": "python",
   "name": "python2"
  },
  "language_info": {
   "codemirror_mode": {
    "name": "ipython",
    "version": 2
   },
   "file_extension": ".py",
   "mimetype": "text/x-python",
   "name": "python",
   "nbconvert_exporter": "python",
   "pygments_lexer": "ipython2",
   "version": "2.7.11"
  }
 },
 "nbformat": 4,
 "nbformat_minor": 0
}
