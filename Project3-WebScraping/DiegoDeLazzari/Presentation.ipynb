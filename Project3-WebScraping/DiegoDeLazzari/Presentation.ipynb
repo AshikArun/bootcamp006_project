{
 "cells": [
  {
   "cell_type": "markdown",
   "metadata": {
    "nbpresent": {
     "id": "e71fce56-6a23-4ac7-9eaf-27d9b62be586"
    },
    "slideshow": {
     "slide_type": "slide"
    }
   },
   "source": [
    "# Webscraping Glassdoor.com: Will I ever find a job?\n"
   ]
  },
  {
   "cell_type": "markdown",
   "metadata": {
    "nbpresent": {
     "id": "8dc217b3-b017-4e01-90e0-fc76632fa77a"
    },
    "slideshow": {
     "slide_type": "slide"
    }
   },
   "source": [
    "The project, in a nutshell:\n",
    "- Creating a webdriver for Glassdoor;\n",
    "- Gathering job post containing:\n",
    " - Company, location, rating, url;\n",
    " - Job description; \n",
    "- Parsing the data into a dictionary, according to a number of relevant categories;\n",
    "- Gathering analytics for Data Scientist market in US; \n",
    "- Measuring the \"similarity\" between a job post and a \"simplified\" resume'."
   ]
  },
  {
   "cell_type": "code",
   "execution_count": 125,
   "metadata": {
    "collapsed": false,
    "slideshow": {
     "slide_type": "skip"
    }
   },
   "outputs": [
    {
     "data": {
      "text/html": [
       "<script>requirejs.config({paths: { 'plotly': ['https://cdn.plot.ly/plotly-latest.min']},});if(!window.Plotly) {{require(['plotly'],function(plotly) {window.Plotly=plotly;});}}</script>"
      ],
      "text/plain": [
       "<IPython.core.display.HTML object>"
      ]
     },
     "metadata": {},
     "output_type": "display_data"
    }
   ],
   "source": [
    "# Load libraries\n",
    "%matplotlib inline\n",
    "from plotly.graph_objs import Scatter, Layout\n",
    "from plotly.offline import download_plotlyjs, init_notebook_mode, plot, iplot\n",
    "from plotly.graph_objs import Bar, Scatter, Figure, Layout\n",
    "import pandas as pd # For converting results to a dataframe and bar chart plots\n",
    "import numpy as np\n",
    "import pickle\n",
    "from IPython.core.display import HTML\n",
    "\n",
    "# load helper\n",
    "from helperP3 import *\n",
    "\n",
    "init_notebook_mode(connected=True)"
   ]
  },
  {
   "cell_type": "code",
   "execution_count": 126,
   "metadata": {
    "collapsed": false,
    "slideshow": {
     "slide_type": "skip"
    }
   },
   "outputs": [],
   "source": [
    "# load data\n",
    "jobDict = load_obj('glassDoorDict')\n",
    "# 6- Analytics:  First check for consistency\n",
    "    \n",
    "completeDict = dict( filter(lambda x,: len(x[1]) == 6, jobDict.items()))"
   ]
  },
  {
   "cell_type": "code",
   "execution_count": 127,
   "metadata": {
    "collapsed": false,
    "slideshow": {
     "slide_type": "skip"
    }
   },
   "outputs": [],
   "source": [
    "# Calculate top locations  \n",
    "\n",
    "location_dict = Counter()\n",
    "location_dict.update([completeDict[item][3] for item in completeDict.keys()])    \n",
    "location_frame = pd.DataFrame(location_dict.items(), columns = ['Term', 'NumPostings']) \\\n",
    "                 .sort_values(by='NumPostings', ascending = False).head(10)\n",
    "\n",
    "\n"
   ]
  },
  {
   "cell_type": "code",
   "execution_count": 128,
   "metadata": {
    "collapsed": false,
    "nbpresent": {
     "id": "88a4e5ca-53ba-4773-bae8-0c49b9dec759"
    },
    "slideshow": {
     "slide_type": "slide"
    }
   },
   "outputs": [
    {
     "data": {
      "text/html": [
       "<div id=\"cda21efd-0fd4-403c-8309-3320d84005e3\" style=\"height: 525px; width: 100%;\" class=\"plotly-graph-div\"></div><script type=\"text/javascript\">require([\"plotly\"], function(Plotly) { window.PLOTLYENV=window.PLOTLYENV || {};window.PLOTLYENV.BASE_URL=\"https://plot.ly\";Plotly.newPlot(\"cda21efd-0fd4-403c-8309-3320d84005e3\", [{\"y\": [146, 136, 36, 31, 24, 18, 18, 16, 14, 14], \"x\": [\"San Francisco, CA\", \"New York, NY\", \"Boston, MA\", \"Palo Alto, CA\", \"Mountain View, CA\", \"Dearborn, MI\", \"Los Angeles, CA\", \"Chicago, IL\", \"San Ramon, CA\", \"Cambridge, MA\"], \"type\": \"bar\"}], {\"yaxis\": {\"title\": \"Number of posts\"}, \"title\": \"Top 10 cities in US\"}, {\"linkText\": \"Export to plot.ly\", \"showLink\": true})});</script>"
      ],
      "text/plain": [
       "<IPython.core.display.HTML object>"
      ]
     },
     "metadata": {},
     "output_type": "display_data"
    }
   ],
   "source": [
    "data = [Bar(\n",
    "            x=location_frame.Term,\n",
    "            y=location_frame.NumPostings\n",
    "    )]\n",
    "layout = Layout(yaxis = dict(title = \"Number of posts\"), title = 'Top 10 cities in US')\n",
    "fig = Figure(data=data, layout=layout)\n",
    "iplot(fig,filename='basic-bar')"
   ]
  },
  {
   "cell_type": "code",
   "execution_count": 129,
   "metadata": {
    "collapsed": false,
    "slideshow": {
     "slide_type": "skip"
    }
   },
   "outputs": [],
   "source": [
    "# Calculate top companies - (company, rating) , Num posting\n",
    "\n",
    "company_dict = Counter()\n",
    "company_dict.update([(completeDict[item][2],completeDict[item][1]) for item in completeDict.keys()])\n",
    "company_frame = pd.DataFrame(company_dict.items(), columns = ['Term', 'NumPostings'])\\\n",
    "                  .sort_values(by='NumPostings', ascending = False).head(20)\n",
    "\n",
    "tmp = pd.DataFrame(company_dict.keys(),columns = ['Company','Rating'])\\\n",
    "                        .sort_values(by='Rating', ascending = False).head(20)\n",
    "\n",
    "\n",
    "company, company_rating = zip(*company_dict.keys())"
   ]
  },
  {
   "cell_type": "code",
   "execution_count": 130,
   "metadata": {
    "collapsed": false,
    "nbpresent": {
     "id": "c39a77ca-416d-4a8f-8bc9-a379d87c7ba5"
    },
    "slideshow": {
     "slide_type": "slide"
    }
   },
   "outputs": [
    {
     "data": {
      "text/html": [
       "<div id=\"f56af9a3-82b6-4a3c-a928-9841b60b9b7a\" style=\"height: 525px; width: 100%;\" class=\"plotly-graph-div\"></div><script type=\"text/javascript\">require([\"plotly\"], function(Plotly) { window.PLOTLYENV=window.PLOTLYENV || {};window.PLOTLYENV.BASE_URL=\"https://plot.ly\";Plotly.newPlot(\"f56af9a3-82b6-4a3c-a928-9841b60b9b7a\", [{\"y\": [24, 14, 9, 7, 7, 7, 6, 6, 5, 5, 5, 5, 5, 5, 4, 4, 4, 4, 4, 4], \"x\": [\"University of Maryland\", \"Alcatel Lucent\", \"Memorial Sloan-Kettering\", \"New York, NY\", \"Rockstar Games\", \"Seagate Technology\", \"2.0\", \"BlueSkyClarity\", \"Treasure Data\", \"Altimetrik\", \"Cyret Technologies Inc\", \"4.7\", \"AdTheorent\", \"Altair\", \"Demandbase\", \"DataRobot\", \"3.5\", \"Intel\", \"A9\", \"Cargill Meat Solutions\", \"Pinterest\", \"Absolute Opportunities\", \"Via Transportation (New York)\", \"Brillio\", \"Pixability\", \"Johnson & Johnson\", \"New York Life\", \"Workday\", \"Boxed\", \"Main Street Hub\", \"Medidata Solutions\", \"Rapid Global Business Solutions, Inc\", \"YuMe\", \"Thumbtack\", \"M-I SWACO\", \"Market Force\", \"Optymyze\", \"3.0\", \"Instacart\", \"LYFT\", \"Adelphic Mobile\", \"KPMG US\", \"Feedzai\", \"VivaKi\", \"Truth Initiative\", \"FusionOps Inc\", \"Aetna Inc.\", \"InfoScout\", \"Northrop Grumman\", \"Coverent\", \"Noblis\", \"LinkedIn\", \"S&P Global Ratings\", \"2.9\", \"Ciber\", \"Ruckus Wireless\", \"MasterClass\", \"Lattice Engines\", \"OwnerIQ\", \"TJX\", \"Goldman Sachs\", \"BRMi\", \"Galileo International\", \"MZ\", \"Schlumberger Ltd.\", \"Shuchi Rana Sandbox\", \"Via\", \"PCO Innovation\", \"Predixion Software, Inc.\", \"automotiveMastermind Inc.\", \"Airbnb\", \"Logentries\", \"Precima\", \"LendUp\", \"Affiliated Computer Services\", \"Rover.com\", \"AdRoll\", \"San Jose, CA\", \"TJX Companies\", \"HUNTER Technical Resources\", \"Swagelok\", \"Celgene Corporation\", \"University of Southern California\", \"Datadog\", \"Adobe\", \"Open Systems Technologies (NYC)\", \"Markit\", \"SunAmerica Affordable Housing Partners\", \"Roberts Recruiting\", \"DataScience\", \"Slalom LLC.\", \"Signature Consultants\", \"Memorial Sloan-Kettering Cancer Center\", \"CALIBRE\", \"Central Pacific Bank\", \"applecart\", \"ReferralMob, Inc.\", \"University of California, Los Angeles - Academic R\", \"Integral\", \"Selby Jennings Technology\", \"Lexington Solutions Group\", \"Two Sigma\", \"Stryker\", \"OptionsHouse\", \"Stanford University\", \"Zynga\", \"Wellcare\", \"MATRiX ANALYTiCS CORPORATION\", \"Hire Level Search Group\", \"3.0\", \"Spotlight Capital Management\", \"Foliage\", \"Galvanize\", \"Home Depot\", \"Nextdoor\", \"OpenMail\", \"ActiveHealth Management\", \"Cotiviti\", \"Millennial Media\", \"Collective Health\", \"Teradata\", \"Avis Budget Group\", \"Cognizant\", \"Verisk Analytics\", \"University of Notre Dame\", \"Progressive Insurance\", \"TheLadders\", \"Cisco Systems, Inc.\", \"Rise Interactive\", \"Noodle Education Inc.\", \"Shazam Entertainment\", \"Synova\", \"Capital One Services, Llc\", \"TripAdvisor\", \"Natera\", \"BuzzFeed\", \"BryceNet, Inc.\", \"Circle\", \"Datascope\", \"Thomson Reuters\", \"Yahoo!\", \"Kinsa Health\", \"Birchbox\", \"Avanade\", \"McKinsey & Company\", \"Movencorp, Inc.\", \"Altamira Technologies\", \"Pardot\", \"OROS Technical\", \"JPMorgan Chase & Co.\", \"Degreed\", \"Cypress HCM\", \"Move, Inc.\", \"ZEFR\", \"Risk Management Solutions (RMS)\", \"Fitbit\", \"Band-It\", \"4.4\", \"Honeywell\", \"Enigma\", \"$15 Bn I T Transformational Leader\", \"Privia Health, LLC\", \"Bugcrowd\", \"Reach Analytics\", \"Lyft\", \"Amazon.com\", \"athenahealth\", \"Compel Systems\", \"GE Aviation\", \"Ambit Group LLC\", \"GoDaddy\", \"Tubular Labs\", \"UltraSmart\", \"Lumosity\", \"Progressive Technology Solutions\", \"Starr Companies\", \"Net Consultants\", \"Boston Consulting Group\", \"McGraw Hill Financial\", \"A9.com\", \"Scientific Games\", \"SOSi\", \"Simple\", \"Genesis10\", \"Coursera\", \"Acro Service Corporation\", \"Vistronix\", \"Spokeo\", \"Overstock.com\", \"Quid\", \"Oportun\", \"DreamWorks Animation\", \"Cognilytics\", \"Samsung Group\", \"Capital Markets Placement\", \"Ibiztek Solutions\", \"Air Liquide US\", \"Shorewise Consulting\", \"Anomali\", \"Kabbage\", \"Persio\", \"Target\", \"Trulia\", \"Equinix, Inc.\", \"AstraZeneca Pharmaceuticals LP\", \"Scribd\", \"Boutique Marketing Firm\", \"Glassdoor\", \"Medical Center of Central Georgia\", \"3.5\", \"4.1\", \"Cambridge, MA\", \"San Francisco, CA\", \"Divensi Inc\", \"OSI Engineering\", \"CoreLogic\", \"Stride Search\", \"Beepi\", \"Eyeview\", \"EMC\", \"CN\", \"Amplify\", \"Ford Motor Company\", \"Consumer Banking\", \"eatsa\", \"Kohl's\", \"Cylance\", \"Bonobos\", \"Stitch Fix\", \"PR Hacker\", \"Eisai\", \"Global Technical Talent\", \"4.5\", \"E-SolutionsInc\", \"Memorial Healthcare System\", \"Rainforest QA\", \"AirMap\", \"Saatchi & Saatchi LA\", \"TapInfluence\", \"Intent Media\", \"MLB\", \"Twitter\", \"NSI\", \"Markel\", \"The Rockland Trust Company\", \"Unity Technologies\", \"Diageo\", \"General Motors\", \"CBS Outdoor\", \"San Jose, CA\", \"DRW Trading Group\", \"Netflix\", \"5.0\", \"Rockstar San Diego\", \"Felixsoft IT Consultancy\", \"Allstate Northern Ireland\", \"FibroGen, Inc.\", \"Voxpro Communications\", \"Glocomms\", \"Johnson Controls\", \"Adept Solutions\", \"IBM\", \"Context Relevant\", \"American Cybersystems, Inc. (ACS Group)\", \"addastaff\", \"Savi Technology\", \"Boomerang Commerce\", \"AT&T\", \"ZirMed Inc\", \"Pymetrics\", \"Trunk Club\", \"6Sense\", \"RMS Computer Corporation\", \"International Rectifier\", \"Hitachi\", \"EmergiTel Inc.\", \"Credit Karma\", \"Intuit\", \"EBay\", \"Gilt Groupe\", \"CGI\", \"Tempus\", \"Pinnacle Career\", \"Dominion Enterprises\", \"5.0\", \"Sotera Defense Solutions\", \"Farmers Insurance Group\", \"KellyMitchell Group\", \"Reinsurance Group of America\", \"Harvard Pilgrim Health Care\", \"OpenTable\", \"2.9\", \"Wayfair\", \"Leading Energy Company\", \"Merck and Co.\", \"Rinalytics Advisors Pvt. Ltd.\", \"Prudential\", \"Fast Switch\", \"3.0\", \"Capco\", \"Viacom\", \"NIIT Technologies\", \"Health Catalyst\", \"SAP\", \"Deals4Meals.com\", \"Teema\", \"Coupang\", \"Tesla Motors\", \"Cox Automotive\", \"BCG Digital Ventures\", \"Liberty Mutual\", \"San Francisco, CA\", \"Freedom Financial Network\", \"Uber\", \"Better Outcomes\", \"BlueSkyClarity\", \"MSX International\", \"Affirm\", \"XLS\", \"BVP\", \"Jornaya\", \"FM Global\", \"PowerAdvocate\", \"WeWork\", \"4.7\", \"LoyaltyOne\", \"Symantec Corporation\", \"Socure\", \"iProspect\", \"Compel Systems\", \"Comrise\", \"Sunrise Systems Inc\", \"Oshkosh Corporation\", \"Dia&Co\", \"Jet\", \"Accenture Inc\", \"Sentient\", \"Adobe Systems, Inc.\", \"Google\", \"Futurenet Group\", \"Fabergent USA\", \"Utilidata\", \"Market Resource Partners\", \"Womply\", \"iSystems Group, inc.\", \"Beverly Hills, CA\", \"i360\", \"Britech Group, Inc\", \"HealthTap\", \"Freedom Debt Relief\", \"MarketShare\", \"Experian\", \"DBRS\", \"Robert Half Technology\", \"Oportun (formerly Progreso Financiero)\", \"Photon Infotech\", \"Johns Hopkins University\", \"2.9\", \"American Student Assistance\", \"Plan International Canada\", \"Adept Solutions\", \"Rockstar New York\", \"Leading Financial Services Firm\", \"Vettery\", \"VigLink\", \"CACI International Inc\", \"Cyber Security Startup In Mountain View, CA, USA\", \"Aetna\", \"Penguin Random House\", \"Whisper\", \"Showpad\", \"Allstate\", \"TalTeam Inc\", \"Tribune Publishing\", \"Conviva\", \"2.0\", \"Shutterstock\", \"AmeriHome Mortgage Company\", \"Perella Weinber Partners\", \"5.0\", \"Philips Lighting\", \"Assurant\", \"Electronic Arts\", \"Major League Baseball\", \"TouchCommerce\", \"FIS\", \"Commonwealth Computer Research, Inc.\", \"Celmatix\", \"Asymmetrik\", \"Centerfield Media\", \"Walmart eCommerce\", \"Salesforce\", \"iRhythm\", \"Tronc, Inc.\", \"Apple\", \"Sinclair Broadcast Group, Inc.\", \"GroupM\", \"CA Technologies\", \"Boston Scientific\", \"Isaacson Search Company\", \"Network for Good\", \"Houzz\", \"Sedgwick Claims Management Services Inc\", \"eclaro\", \"Macy's\", \"Foundation Medicine\", \"Pandera Systems\", \"Contently\", \"Spotify\", \"Xchange Software\", \"P&L Strategies\", \"Twitch\", \"Grand Rounds\", \"Brunswick\", \"Social Radar\", \"Pangea Universal Holdings\", \"Placement Services USA, Inc.\", \"Averity\", \"GE Power\", \"Mountain View, CA\", \"CitiMortgage\", \"PlaceIQ\", \"SanDisk\", \"Intrexon\", \"Collabera\", \"Allstate Corporate Hiring\", \"Horizon Blue Cross Blue Shield\", \"EMC Me\", \"Stanford Hospital & Clinics\", \"GateHouse Media, Inc\", \"San Francisco, CA\", \"Berico Technologies\", \"University of Southern California\", \"Capital Group\", \"SOLTECH Inc\", \"PRO Unlimited\", \"Vantiv, LLC\", \"Redolent, Inc\", \"Spectraforce Technologies Inc\", \"TE Connectivity\", \"Movable Ink\", \"Vertex Pharmaceuticals\", \"Quadrant\", \"3.3\", \"Boston, MA\", \"Sojern\", \"HookLogic\", \"Citibank\", \"Monsanto\", \"Mindlance\", \"ExecuNet\", \"ZestFinance\", \"ASG\", \"1000mercis Group\", \"General Electric\", \"ThousandEyes\", \"Rocket Industrial\", \"GE\", \"Comcast\", \"Skype\", \"Marin Software\", \"Centro\", \"KEYW Corporation\", \"PRA Health Sciences\", \"ASG Renaissance\", \"Hulu\", \"ASML\", \"InterMedia Group of Companies\", \"Freedom Partners Shared Services\", \"Stanford School of Medicine\", \"CyberPoint International\", \"Randstad US\", \"Talkwalker\", \"JW Player\", \"Extremely Stable Firm, Recession Resistant, Niche Industry\", \"Nielsen\", \"Simple Finance\", \"Quora, Inc.\", \"Praxis Engineering\", \"thredUP\", \"Sigmaways\", \"NextGen Information Services, Inc\", \"Intersys\", \"JetSmarter\", \"UnitedHealth Group\", \"MECLABS\", \"benvia\", \"PulsePoint\", \"GE Digital\", \"J.P. Morgan\", \"5.0\", \"Square\", \"McKinley Marketing Partners\", \"Opera Mediaworks\", \"Tessella Inc.\", \"ExactTarget Marketing Cloud\", \"Dtex Systems\", \"University of Chicago\", \"Citi\", \"Aequor Healthcare Services\", \"Tumblr\", \"Oracle\", \"EY\", \"Apptopia\", \"Vungle\", \"Coach\", \"Charter Global\", \"SoundCloud\", \"Xaxis\", \"Metabiota\", \"Cengage Learning\", \"Lowell, MA\", \"Verizon Wireless\", \"True Fit\", \"TriHealth\", \"Akamai\", \"Zions Bank\", \"IHS Markit\", \"Razorfish\", \"Verve Mobile\", \"Comrise Inc.\", \"Grammarly\", \"CVS Health\", \"Premise\", \"RiverRock Network\", \"3.0\", \"Vertical Mass\", \"Markit On Demand\", \"Smith Hanley Associates\", \"Color Genomics\", \"Lockheed Martin\", \"Latitude, Inc.\", \"CIA\", \"AlixPartners\", \"Valence Health\", \"True North Consulting\", \"Mezi\", \"Aquent\", \"SAP Business Objects\", \"Poshmark\", \"Trivergance, LLC\", \"Accenture\", \"Shyft\", \"Kahuna\", \"Spring\", \"Soliant Health\", \"Docusign\", \"4.5\", \"KGS\", \"Chegg Inc.\", \"Dentsu Aegis Network\", \"1.0\", \"Shopping.com\", \"Madison, WI\", \"Paperless Post\", \"Polaris Industries\", \"General Assembly\", \"Ecova\", \"Expedia\", \"AOL\", \"Komodo Health\", \"Laboratory Corporation of America\", \"Pacific Biosciences\", \"ReqRoute,Inc\", \"MICROS Systems\", \"Axelon, Inc.\", \"Facebook\", \"BigR\", \"Xerox\", \"5.0\", \"Sony Interactive Entertainment PlayStation\", \"Chase\", \"Integral Ad Science\", \"Mizuho Corporate Bank\", \"Fanatics\", \"Gallup\", \"Nvidia\", \"Novartis Institutes for BioMedical Research\", \"Chango\", \"Rule14\", \"4.0\", \"MLB Advanced Media\", \"Rapid7\", \"3.2\", \"Caerus Associates\", \"Esurance\", \"The Big Game Hunter\", \"AIG\", \"Metascale\", \"Xavient Information Systems\", \"Factset\", \"Space Exploration Technologies\", \"Airbnb, Inc.\", \"Citigroup\", \"GrubHub\", \"Macy's Retail\", \"Drawbridge\", \"GE Renewable Energy\", \"SMECO\", \"Kixeye\", \"G-TECH Services, Inc.\", \"Hanover Insurance\", \"Castlight Health\", \"Tuft & Needle\", \"Microsoft\", \"New York, NY\", \"McKesson\", \"Johns Hopkins Health Care\", \"Amazon\", \"San Carlos, CA\", \"Penguin Random House US\", \"United States\", \"MoTek Technologies\", \"TechUSA\", \"Software Guidance & Assistance\", \"Santen Inc\", \"Cimation\", \"The Select Group\", \"Johns Hopkins University Applied Physics Laboratory\", \"Micron\", \"Gemological Institute of America, Inc.\", \"Coffee Meets Bagel\", \"Zillow\", \"Wodify\", \"ID.me\", \"Verve\", \"Synaptein Solutions\", \"Brocade Communications\", \"Skillshare\", \"5.0\", \"The Chronicle of Higher Education Sub\", \"Silicus Technologies\", \"YP\", \"Brain Resource\", \"MakerBot\", \"Verizon\", \"Magnetic\", \"Capital One\", \"Beachbody\", \"Fullpower Technologies, Inc.\", \"Compunnel\", \"United Technologies\", \"Analytic Partners\", \"ForeScout\", \"Dell\", \"Unilever\", \"State Farm\"], \"type\": \"bar\"}], {\"yaxis\": {\"title\": \"Number of posts\"}, \"title\": \"Top 20 employers in Glassdoor\"}, {\"linkText\": \"Export to plot.ly\", \"showLink\": true})});</script>"
      ],
      "text/plain": [
       "<IPython.core.display.HTML object>"
      ]
     },
     "metadata": {},
     "output_type": "display_data"
    }
   ],
   "source": [
    "data = [Bar(\n",
    "            x=company,\n",
    "            y=company_frame.NumPostings\n",
    "    )]\n",
    "layout = Layout(yaxis = dict(title = \"Number of posts\"), title = 'Top 20 employers in Glassdoor')\n",
    "fig = Figure(data=data, layout=layout)\n",
    "iplot(fig,filename='basic-bar')"
   ]
  },
  {
   "cell_type": "code",
   "execution_count": 131,
   "metadata": {
    "collapsed": false,
    "slideshow": {
     "slide_type": "skip"
    }
   },
   "outputs": [],
   "source": [
    "# Calculate other analytics\n",
    "skill_frame, edu_frame, lang_frame = skills_info(completeDict)\n",
    "skill = skill_frame.sort_values(by='NumPostings', ascending = False)\n"
   ]
  },
  {
   "cell_type": "code",
   "execution_count": 132,
   "metadata": {
    "collapsed": false,
    "nbpresent": {
     "id": "e5139fc7-c892-4465-b655-bf4238c0bb64"
    },
    "slideshow": {
     "slide_type": "slide"
    }
   },
   "outputs": [
    {
     "data": {
      "text/html": [
       "<div id=\"4e7eeaf0-0385-4e45-9e1e-3628c493bdb8\" style=\"height: 525px; width: 100%;\" class=\"plotly-graph-div\"></div><script type=\"text/javascript\">require([\"plotly\"], function(Plotly) { window.PLOTLYENV=window.PLOTLYENV || {};window.PLOTLYENV.BASE_URL=\"https://plot.ly\";Plotly.newPlot(\"4e7eeaf0-0385-4e45-9e1e-3628c493bdb8\", [{\"y\": [591, 576, 425, 357, 271, 245, 204, 177, 151, 132, 123, 105, 105, 102, 99, 98, 96, 75, 53, 41, 38, 37, 35, 33, 32, 26, 22, 20, 16, 13, 10, 6, 5, 2, 2], \"x\": [\"Python\", \"R\", \"SQL\", \"Hadoop\", \"Java\", \"SAS\", \"Spark\", \"Hive\", \"Matlab\", \"C++\", \"Tableau\", \"Excel\", \"Scala\", \"Pig\", \"NoSQL\", \"MapReduce\", \"SPSS\", \"Perl\", \"Ruby\", \"HBase\", \"AWS\", \"Cassandra\", \"JavaScript\", \"D3\", \"Mahout\", \"MongoDB\", \"Julia\", \"Php\", \"D3.js\", \"Shark\", \"Azure\", \"Flume\", \"Mathematica\", \"Oozie\", \"ZooKeeper\"], \"type\": \"bar\"}], {\"yaxis\": {\"title\": \"Number of posts\"}, \"title\": \"Top skills for Data Scientists\"}, {\"linkText\": \"Export to plot.ly\", \"showLink\": true})});</script>"
      ],
      "text/plain": [
       "<IPython.core.display.HTML object>"
      ]
     },
     "metadata": {},
     "output_type": "display_data"
    }
   ],
   "source": [
    "data = [Bar(\n",
    "            x=skill.Term,\n",
    "            y=skill.NumPostings\n",
    "    )]\n",
    "layout = Layout(yaxis = dict(title = \"Number of posts\"), title = 'Top skills for Data Scientists')\n",
    "fig = Figure(data=data, layout=layout)\n",
    "iplot(fig, filename='basic-bar')"
   ]
  },
  {
   "cell_type": "code",
   "execution_count": 133,
   "metadata": {
    "collapsed": true,
    "slideshow": {
     "slide_type": "skip"
    }
   },
   "outputs": [],
   "source": [
    "# 7- Find your match!\n",
    "\n",
    "DiegoCV = ['Data Scientist', 'PhD','French','Python','R','Matlab','Spark','SQL','Physics']\n",
    "Linlin = ['Statistics','Python','R','Matlab','SQL', 'French','STATA','Economics','Master','Excel']\n",
    "# first parse the CV\n",
    "myCV = [item.lower() for item in myCV]\n",
    "linlinCV = [item.lower() for item in Linlin]\n",
    "BestMatch = get_match(linlinCV,completeDict)    \n",
    "\n"
   ]
  },
  {
   "cell_type": "code",
   "execution_count": 134,
   "metadata": {
    "collapsed": false,
    "nbpresent": {
     "id": "d8525a9c-7bad-45d7-a63e-b636e7e8936e"
    },
    "slideshow": {
     "slide_type": "slide"
    }
   },
   "outputs": [
    {
     "name": "stdout",
     "output_type": "stream",
     "text": [
      "The top 5 companies matching my CV are:\n",
      "             Id       Company           Location  Similarity\n",
      "675  1915307177       Twitter  San Francisco, CA    0.666667\n",
      "691  1791204320          Uber  San Francisco, CA    0.600000\n",
      "28   1518243809        Fitbit  San Francisco, CA    0.555556\n",
      "640  1837694688  New York, NY                14d    0.555556\n",
      "609  1871161850        Dia&Co       New York, NY    0.555556\n"
     ]
    }
   ],
   "source": [
    "\n",
    "print 'The top 5 companies matching my CV are:' \n",
    "print  BestMatch\n"
   ]
  },
  {
   "cell_type": "code",
   "execution_count": 135,
   "metadata": {
    "collapsed": false,
    "slideshow": {
     "slide_type": "slide"
    }
   },
   "outputs": [
    {
     "data": {
      "text/plain": [
       "['super',\n",
       " 'help',\n",
       " 'scrappy',\n",
       " 'executive',\n",
       " 'pursuant',\n",
       " 'results',\n",
       " 'utilize',\n",
       " 'employer.',\n",
       " 'scientist',\n",
       " 'questions',\n",
       " 'committed',\n",
       " 'go',\n",
       " 'skill',\n",
       " 'decisions',\n",
       " 'resourceful',\n",
       " 'consider',\n",
       " 'impact',\n",
       " 'partners',\n",
       " 'based',\n",
       " 'monitor',\n",
       " 'statistics',\n",
       " 'disability',\n",
       " 'unanswered',\n",
       " 'writing',\n",
       " 'environment',\n",
       " 'arrest',\n",
       " 'presentation',\n",
       " 'collaborate',\n",
       " 'finance',\n",
       " 'exceptional',\n",
       " 'python',\n",
       " 'big',\n",
       " 'internet',\n",
       " 'masters',\n",
       " 'dashboards',\n",
       " 'finding',\n",
       " 'qualified',\n",
       " 'interpreting',\n",
       " 'closely',\n",
       " 'hands',\n",
       " 'using',\n",
       " 'years',\n",
       " 'advanced',\n",
       " 'applicants',\n",
       " 'execute',\n",
       " 'like',\n",
       " 'success',\n",
       " 'gender',\n",
       " 'undergrad',\n",
       " 'large',\n",
       " 'banking',\n",
       " 'race',\n",
       " 'math',\n",
       " 'team',\n",
       " 'small',\n",
       " 'consulting',\n",
       " 'passionate',\n",
       " 'statistical',\n",
       " 'findings',\n",
       " 'twitter.',\n",
       " 'twitter',\n",
       " 'group.',\n",
       " 'related',\n",
       " 'sex',\n",
       " 'analytics',\n",
       " 'growth',\n",
       " 'ancestry',\n",
       " 'sexual',\n",
       " 'investment',\n",
       " 'ability',\n",
       " 'records.',\n",
       " 'degree',\n",
       " 'driving',\n",
       " 'product.',\n",
       " '+',\n",
       " 'looking',\n",
       " 'religion',\n",
       " 'protected',\n",
       " 'conduct',\n",
       " 'experience',\n",
       " 'across',\n",
       " 'demonstrated',\n",
       " 'relationships',\n",
       " 'lovewhereyouwork',\n",
       " 'business',\n",
       " 'marketing',\n",
       " 'queries',\n",
       " 'communicate',\n",
       " 'story',\n",
       " 'understanding',\n",
       " 'leadership',\n",
       " 'focused',\n",
       " 'key',\n",
       " 'analyses',\n",
       " 'come',\n",
       " 'ads',\n",
       " 'conviction',\n",
       " 'getting',\n",
       " 'economics',\n",
       " 'equal',\n",
       " 'presentations',\n",
       " 'range',\n",
       " 'important',\n",
       " 'products',\n",
       " 'advertising',\n",
       " 'status.',\n",
       " 'changes',\n",
       " 'powerpoint',\n",
       " 'experimental',\n",
       " 'software',\n",
       " 'origin',\n",
       " 'company.',\n",
       " 'forecasting',\n",
       " 'revenue',\n",
       " 'color',\n",
       " 'question',\n",
       " 'manage',\n",
       " 'functional',\n",
       " 'synthesize',\n",
       " 'national',\n",
       " 'quickly',\n",
       " 'methods',\n",
       " 'use',\n",
       " 'management',\n",
       " 'fair',\n",
       " 'revenue.',\n",
       " 'data',\n",
       " 'create',\n",
       " 'informed',\n",
       " 'fast',\n",
       " 'strategy',\n",
       " 'genetic',\n",
       " 'identity',\n",
       " 'legally',\n",
       " 'analyze',\n",
       " 'tell',\n",
       " 'company',\n",
       " 'veteran',\n",
       " 'understand',\n",
       " 'worked',\n",
       " 'marital',\n",
       " 'starter',\n",
       " 'insights',\n",
       " 'datasets',\n",
       " 'join',\n",
       " 'work',\n",
       " 'record',\n",
       " 'diverse',\n",
       " 'r',\n",
       " 'dirty',\n",
       " 'learn',\n",
       " 'discriminate',\n",
       " 'age',\n",
       " 'orientation',\n",
       " 'willingness',\n",
       " 'inclusive',\n",
       " 'tech',\n",
       " 'sales',\n",
       " 'effectively',\n",
       " 'engineering',\n",
       " 'someone',\n",
       " 'expertise',\n",
       " 'analysis',\n",
       " 'clearly',\n",
       " 'ethnicity',\n",
       " 'preferably',\n",
       " 'information',\n",
       " 'develop',\n",
       " 'ordinance',\n",
       " 'employment',\n",
       " 'self',\n",
       " 'able',\n",
       " 'cross',\n",
       " 'oriented',\n",
       " 'field',\n",
       " 'methodology',\n",
       " 'complex',\n",
       " 'build',\n",
       " 'digital',\n",
       " 'answer',\n",
       " 'plus',\n",
       " 'incredibly',\n",
       " 'opportunity',\n",
       " 'status',\n",
       " 'product',\n",
       " 'francisco',\n",
       " 'communicating',\n",
       " 'track',\n",
       " 'problems',\n",
       " 'metrics',\n",
       " 'chance',\n",
       " 'impacting',\n",
       " 'moving',\n",
       " 'user',\n",
       " 'sql',\n",
       " 'requirements',\n",
       " 'meaningful',\n",
       " 'involving',\n",
       " 'expert',\n",
       " 'enthusiastic',\n",
       " 'drive',\n",
       " 'rule',\n",
       " 'actionable',\n",
       " 'person',\n",
       " 'depth',\n",
       " 'solve',\n",
       " 'broad',\n",
       " 'san',\n",
       " 'quantitative',\n",
       " 'starting',\n",
       " 'excel',\n",
       " 'paced']"
      ]
     },
     "execution_count": 135,
     "metadata": {},
     "output_type": "execute_result"
    }
   ],
   "source": [
    "# Well, I do not believe it. What is the first posting about?\n",
    "completeDict[BestMatch.iloc[0,0]][5]"
   ]
  },
  {
   "cell_type": "code",
   "execution_count": 136,
   "metadata": {
    "collapsed": false
   },
   "outputs": [
    {
     "data": {
      "text/html": [
       "<a href=https://www.glassdoor.com/partner/jobListing.htm?pos=616&ao=4120&s=58&guid=0000015681692391a42f2223bdb28598&src=GD_JOB_AD&t=SR&extid=1&exst=OL&ist=&ast=OL&vt=w&slr=true&rtp=0&cb=1471049967127&jobListingId=1915307177> Check your next job!</a>"
      ],
      "text/plain": [
       "<IPython.core.display.HTML object>"
      ]
     },
     "execution_count": 136,
     "metadata": {},
     "output_type": "execute_result"
    }
   ],
   "source": [
    "# Or check the website\n",
    "GlassDoor = completeDict[BestMatch.iloc[0,0]][4].encode('ascii')\n",
    "HTML('<a href='+ GlassDoor + '> Check your next job!</a>')"
   ]
  },
  {
   "cell_type": "markdown",
   "metadata": {
    "collapsed": false,
    "nbpresent": {
     "id": "db55eeb6-8d2d-4532-8732-84f42e216ced"
    },
    "slideshow": {
     "slide_type": "slide"
    }
   },
   "source": [
    "# Coming Next:\n",
    "- Scraping/parsing a CV from Linkedin and find the best match with the (updated) job list\n",
    "- Improve the parsing to extract years of experience and more complicated keywords.\n",
    "- Avoid CAPTCHA messages?"
   ]
  }
 ],
 "metadata": {
  "anaconda-cloud": {},
  "celltoolbar": "Slideshow",
  "kernelspec": {
   "display_name": "Python [Root]",
   "language": "python",
   "name": "Python [Root]"
  },
  "language_info": {
   "codemirror_mode": {
    "name": "ipython",
    "version": 2
   },
   "file_extension": ".py",
   "mimetype": "text/x-python",
   "name": "python",
   "nbconvert_exporter": "python",
   "pygments_lexer": "ipython2",
   "version": "2.7.12"
  },
  "nbpresent": {
   "slides": {
    "5369c472-13d8-4d82-96bd-2a12d02045ee": {
     "id": "5369c472-13d8-4d82-96bd-2a12d02045ee",
     "layout": "manual",
     "prev": "e4844126-e604-41cf-b47c-7a2d1fcfd842",
     "regions": {
      "38c87f7e-f011-4922-ba72-4dfd02f5fe3e": {
       "attrs": {
        "height": 1,
        "pad": 0.01,
        "treemap:weight": 1,
        "width": 1,
        "x": 0,
        "y": 0
       },
       "content": {
        "cell": "8dc217b3-b017-4e01-90e0-fc76632fa77a",
        "part": "whole"
       },
       "id": "38c87f7e-f011-4922-ba72-4dfd02f5fe3e"
      }
     }
    },
    "5d7b39ff-6c10-49fb-9b0d-ce9ab1b2ba61": {
     "id": "5d7b39ff-6c10-49fb-9b0d-ce9ab1b2ba61",
     "prev": "d272c31a-4e46-4e97-abf2-14f87bbb8984",
     "regions": {
      "f5f093ff-5891-4187-a34d-526422ad5e15": {
       "attrs": {
        "height": 1,
        "width": 1,
        "x": 0,
        "y": 0
       },
       "content": {
        "cell": "e5139fc7-c892-4465-b655-bf4238c0bb64",
        "part": "outputs"
       },
       "id": "f5f093ff-5891-4187-a34d-526422ad5e15"
      }
     }
    },
    "60a4c33c-63e8-498c-90bf-34c226347e3a": {
     "id": "60a4c33c-63e8-498c-90bf-34c226347e3a",
     "prev": "5369c472-13d8-4d82-96bd-2a12d02045ee",
     "regions": {
      "4523a2eb-53ec-4feb-b4d4-1561eb6e1c94": {
       "attrs": {
        "height": 1,
        "width": 1,
        "x": 0,
        "y": 0
       },
       "content": {
        "cell": "88a4e5ca-53ba-4773-bae8-0c49b9dec759",
        "part": "outputs"
       },
       "id": "4523a2eb-53ec-4feb-b4d4-1561eb6e1c94"
      }
     }
    },
    "6def3ee9-78aa-4781-ad25-f180f8f5a7f7": {
     "id": "6def3ee9-78aa-4781-ad25-f180f8f5a7f7",
     "prev": "5d7b39ff-6c10-49fb-9b0d-ce9ab1b2ba61",
     "regions": {
      "a8a36a59-b482-45c6-b0f4-d1da61403c84": {
       "attrs": {
        "height": 1,
        "width": 1,
        "x": 0,
        "y": 0
       },
       "content": {
        "cell": "d8525a9c-7bad-45d7-a63e-b636e7e8936e",
        "part": "whole"
       },
       "id": "a8a36a59-b482-45c6-b0f4-d1da61403c84"
      }
     }
    },
    "d272c31a-4e46-4e97-abf2-14f87bbb8984": {
     "id": "d272c31a-4e46-4e97-abf2-14f87bbb8984",
     "prev": "f7053867-e584-46c9-8bff-d4b22012a6b3",
     "regions": {
      "cfda6f20-32d9-47a6-9fce-6666649a1ec3": {
       "attrs": {
        "height": 1,
        "width": 1,
        "x": 0,
        "y": 0
       },
       "content": {
        "cell": "c39a77ca-416d-4a8f-8bc9-a379d87c7ba5",
        "part": "outputs"
       },
       "id": "cfda6f20-32d9-47a6-9fce-6666649a1ec3"
      }
     }
    },
    "e4844126-e604-41cf-b47c-7a2d1fcfd842": {
     "id": "e4844126-e604-41cf-b47c-7a2d1fcfd842",
     "prev": "6def3ee9-78aa-4781-ad25-f180f8f5a7f7",
     "regions": {
      "a4ee0c74-da96-488f-82d2-c5808cd1c453": {
       "attrs": {
        "height": 1,
        "width": 1,
        "x": 0,
        "y": 0
       },
       "content": {
        "cell": "db55eeb6-8d2d-4532-8732-84f42e216ced",
        "part": "whole"
       },
       "id": "a4ee0c74-da96-488f-82d2-c5808cd1c453"
      }
     }
    },
    "f7053867-e584-46c9-8bff-d4b22012a6b3": {
     "id": "f7053867-e584-46c9-8bff-d4b22012a6b3",
     "layout": "grid",
     "prev": null,
     "regions": {
      "d11841f8-fa27-4b89-8985-cdc335052bdd": {
       "attrs": {
        "height": 1,
        "pad": 0.01,
        "treemap:weight": 1,
        "width": 1,
        "x": 0,
        "y": 0
       },
       "content": {
        "cell": "e71fce56-6a23-4ac7-9eaf-27d9b62be586",
        "part": "whole"
       },
       "id": "d11841f8-fa27-4b89-8985-cdc335052bdd"
      }
     },
     "theme": null
    }
   },
   "themes": {
    "default": "dfffebff-b250-46cb-b7a4-77a2244b62df",
    "theme": {
     "3e9eaa0a-3f64-4102-b628-8cf2db3d2231": {
      "backgrounds": {
       "backgroundColor": {
        "background-color": "backgroundColor",
        "id": "backgroundColor"
       }
      },
      "id": "3e9eaa0a-3f64-4102-b628-8cf2db3d2231",
      "palette": {
       "backgroundColor": {
        "id": "backgroundColor",
        "rgb": [
         34,
         34,
         34
        ]
       },
       "headingColor": {
        "id": "headingColor",
        "rgb": [
         238,
         238,
         238
        ]
       },
       "linkColor": {
        "id": "linkColor",
        "rgb": [
         170,
         34,
         51
        ]
       },
       "mainColor": {
        "id": "mainColor",
        "rgb": [
         238,
         238,
         238
        ]
       }
      },
      "rules": {
       "a": {
        "color": "linkColor"
       },
       "h1": {
        "color": "headingColor",
        "font-family": "Ubuntu",
        "font-size": 7
       },
       "h2": {
        "color": "headingColor",
        "font-family": "Ubuntu",
        "font-size": 5
       },
       "h3": {
        "color": "headingColor",
        "font-family": "Ubuntu",
        "font-size": 3.75
       },
       "h4": {
        "color": "headingColor",
        "font-family": "Ubuntu",
        "font-size": 3
       },
       "h5": {
        "color": "headingColor",
        "font-family": "Ubuntu"
       },
       "h6": {
        "color": "headingColor",
        "font-family": "Ubuntu"
       },
       "h7": {
        "color": "headingColor",
        "font-family": "Ubuntu"
       },
       "li": {
        "color": "mainColor",
        "font-family": "Ubuntu",
        "font-size": 5
       },
       "p": {
        "color": "mainColor",
        "font-family": "Ubuntu",
        "font-size": 5
       }
      },
      "text-base": {
       "color": "mainColor",
       "font-family": "Ubuntu",
       "font-size": 5
      }
     },
     "dfffebff-b250-46cb-b7a4-77a2244b62df": {
      "backgrounds": {
       "dc7afa04-bf90-40b1-82a5-726e3cff5267": {
        "background-color": "31af15d2-7e15-44c5-ab5e-e04b16a89eff",
        "id": "dc7afa04-bf90-40b1-82a5-726e3cff5267"
       }
      },
      "id": "dfffebff-b250-46cb-b7a4-77a2244b62df",
      "palette": {
       "19cc588f-0593-49c9-9f4b-e4d7cc113b1c": {
        "id": "19cc588f-0593-49c9-9f4b-e4d7cc113b1c",
        "rgb": [
         252,
         252,
         252
        ]
       },
       "31af15d2-7e15-44c5-ab5e-e04b16a89eff": {
        "id": "31af15d2-7e15-44c5-ab5e-e04b16a89eff",
        "rgb": [
         68,
         68,
         68
        ]
       },
       "50f92c45-a630-455b-aec3-788680ec7410": {
        "id": "50f92c45-a630-455b-aec3-788680ec7410",
        "rgb": [
         197,
         226,
         245
        ]
       },
       "c5cc3653-2ee1-402a-aba2-7caae1da4f6c": {
        "id": "c5cc3653-2ee1-402a-aba2-7caae1da4f6c",
        "rgb": [
         43,
         126,
         184
        ]
       },
       "efa7f048-9acb-414c-8b04-a26811511a21": {
        "id": "efa7f048-9acb-414c-8b04-a26811511a21",
        "rgb": [
         25.118061674008803,
         73.60176211453744,
         107.4819383259912
        ]
       }
      },
      "rules": {
       "a": {
        "color": "19cc588f-0593-49c9-9f4b-e4d7cc113b1c"
       },
       "blockquote": {
        "color": "50f92c45-a630-455b-aec3-788680ec7410",
        "font-size": 3
       },
       "code": {
        "font-family": "Anonymous Pro"
       },
       "h1": {
        "color": "19cc588f-0593-49c9-9f4b-e4d7cc113b1c",
        "font-family": "Merriweather",
        "font-size": 8
       },
       "h2": {
        "color": "19cc588f-0593-49c9-9f4b-e4d7cc113b1c",
        "font-family": "Merriweather",
        "font-size": 6
       },
       "h3": {
        "color": "50f92c45-a630-455b-aec3-788680ec7410",
        "font-family": "Lato",
        "font-size": 5.5
       },
       "h4": {
        "color": "c5cc3653-2ee1-402a-aba2-7caae1da4f6c",
        "font-family": "Lato",
        "font-size": 5
       },
       "h5": {
        "font-family": "Lato"
       },
       "h6": {
        "font-family": "Lato"
       },
       "h7": {
        "font-family": "Lato"
       },
       "li": {
        "color": "50f92c45-a630-455b-aec3-788680ec7410",
        "font-size": 3.25
       },
       "pre": {
        "font-family": "Anonymous Pro",
        "font-size": 4
       }
      },
      "text-base": {
       "color": "19cc588f-0593-49c9-9f4b-e4d7cc113b1c",
       "font-family": "Lato",
       "font-size": 4
      }
     }
    }
   }
  }
 },
 "nbformat": 4,
 "nbformat_minor": 0
}
